{
 "cells": [
  {
   "cell_type": "code",
   "execution_count": 135,
   "id": "c63f0320",
   "metadata": {},
   "outputs": [
    {
     "data": {
      "text/html": [
       "        <script type=\"text/javascript\">\n",
       "        window.PlotlyConfig = {MathJaxConfig: 'local'};\n",
       "        if (window.MathJax && window.MathJax.Hub && window.MathJax.Hub.Config) {window.MathJax.Hub.Config({SVG: {font: \"STIX-Web\"}});}\n",
       "        if (typeof require !== 'undefined') {\n",
       "        require.undef(\"plotly\");\n",
       "        requirejs.config({\n",
       "            paths: {\n",
       "                'plotly': ['https://cdn.plot.ly/plotly-2.12.1.min']\n",
       "            }\n",
       "        });\n",
       "        require(['plotly'], function(Plotly) {\n",
       "            window._Plotly = Plotly;\n",
       "        });\n",
       "        }\n",
       "        </script>\n",
       "        "
      ]
     },
     "metadata": {},
     "output_type": "display_data"
    }
   ],
   "source": [
    "import numpy as np\n",
    "import pandas as pd\n",
    "import matplotlib.pyplot as plt\n",
    "from sklearn.feature_extraction.text import CountVectorizer\n",
    "from sklearn.ensemble import RandomForestClassifier\n",
    "from sklearn.metrics import roc_auc_score\n",
    "from bs4 import BeautifulSoup\n",
    "import plotly.graph_objs as go \n",
    "import os\n",
    "import re\n",
    "import nltk\n",
    "import plotly.offline as py \n",
    "py.init_notebook_mode(connected=True)\n",
    "import plotly.tools as tls  \n",
    "from collections import Counter                        \n",
    "import plotly.figure_factory as ff\n",
    "from sklearn.model_selection import train_test_split, GridSearchCV, cross_val_score\n",
    "from nltk.corpus import stopwords\n"
   ]
  },
  {
   "cell_type": "code",
   "execution_count": 136,
   "id": "6c35bdcf",
   "metadata": {},
   "outputs": [
    {
     "data": {
      "text/html": [
       "<div>\n",
       "<style scoped>\n",
       "    .dataframe tbody tr th:only-of-type {\n",
       "        vertical-align: middle;\n",
       "    }\n",
       "\n",
       "    .dataframe tbody tr th {\n",
       "        vertical-align: top;\n",
       "    }\n",
       "\n",
       "    .dataframe thead th {\n",
       "        text-align: right;\n",
       "    }\n",
       "</style>\n",
       "<table border=\"1\" class=\"dataframe\">\n",
       "  <thead>\n",
       "    <tr style=\"text-align: right;\">\n",
       "      <th></th>\n",
       "      <th>rating</th>\n",
       "      <th>date</th>\n",
       "      <th>variation</th>\n",
       "      <th>verified_reviews</th>\n",
       "      <th>feedback</th>\n",
       "    </tr>\n",
       "  </thead>\n",
       "  <tbody>\n",
       "    <tr>\n",
       "      <th>0</th>\n",
       "      <td>5</td>\n",
       "      <td>31-Jul-18</td>\n",
       "      <td>Charcoal Fabric</td>\n",
       "      <td>Love my Echo!</td>\n",
       "      <td>1</td>\n",
       "    </tr>\n",
       "    <tr>\n",
       "      <th>1</th>\n",
       "      <td>5</td>\n",
       "      <td>31-Jul-18</td>\n",
       "      <td>Charcoal Fabric</td>\n",
       "      <td>Loved it!</td>\n",
       "      <td>1</td>\n",
       "    </tr>\n",
       "    <tr>\n",
       "      <th>2</th>\n",
       "      <td>4</td>\n",
       "      <td>31-Jul-18</td>\n",
       "      <td>Walnut Finish</td>\n",
       "      <td>Sometimes while playing a game, you can answer...</td>\n",
       "      <td>1</td>\n",
       "    </tr>\n",
       "    <tr>\n",
       "      <th>3</th>\n",
       "      <td>5</td>\n",
       "      <td>31-Jul-18</td>\n",
       "      <td>Charcoal Fabric</td>\n",
       "      <td>I have had a lot of fun with this thing. My 4 ...</td>\n",
       "      <td>1</td>\n",
       "    </tr>\n",
       "    <tr>\n",
       "      <th>4</th>\n",
       "      <td>5</td>\n",
       "      <td>31-Jul-18</td>\n",
       "      <td>Charcoal Fabric</td>\n",
       "      <td>Music</td>\n",
       "      <td>1</td>\n",
       "    </tr>\n",
       "  </tbody>\n",
       "</table>\n",
       "</div>"
      ],
      "text/plain": [
       "   rating       date         variation  \\\n",
       "0       5  31-Jul-18  Charcoal Fabric    \n",
       "1       5  31-Jul-18  Charcoal Fabric    \n",
       "2       4  31-Jul-18    Walnut Finish    \n",
       "3       5  31-Jul-18  Charcoal Fabric    \n",
       "4       5  31-Jul-18  Charcoal Fabric    \n",
       "\n",
       "                                    verified_reviews  feedback  \n",
       "0                                      Love my Echo!         1  \n",
       "1                                          Loved it!         1  \n",
       "2  Sometimes while playing a game, you can answer...         1  \n",
       "3  I have had a lot of fun with this thing. My 4 ...         1  \n",
       "4                                              Music         1  "
      ]
     },
     "execution_count": 136,
     "metadata": {},
     "output_type": "execute_result"
    }
   ],
   "source": [
    "df = pd.read_csv(\"amazon_alexa.tsv\",sep='\\t')\n",
    "df.head()"
   ]
  },
  {
   "cell_type": "code",
   "execution_count": 137,
   "id": "f06000d0",
   "metadata": {},
   "outputs": [
    {
     "data": {
      "text/plain": [
       "3150"
      ]
     },
     "execution_count": 137,
     "metadata": {},
     "output_type": "execute_result"
    }
   ],
   "source": [
    "len(df)"
   ]
  },
  {
   "cell_type": "code",
   "execution_count": 138,
   "id": "7101d3fe",
   "metadata": {},
   "outputs": [
    {
     "data": {
      "text/plain": [
       "16"
      ]
     },
     "execution_count": 138,
     "metadata": {},
     "output_type": "execute_result"
    }
   ],
   "source": [
    "# HOW MANY ALEXA PRODUCTS ARE THERE?\n",
    "df['variation'].nunique()"
   ]
  },
  {
   "cell_type": "code",
   "execution_count": 139,
   "id": "2da4eb67",
   "metadata": {},
   "outputs": [
    {
     "data": {
      "text/plain": [
       "Black  Dot                      516\n",
       "Charcoal Fabric                 430\n",
       "Configuration: Fire TV Stick    350\n",
       "Black  Plus                     270\n",
       "Black  Show                     265\n",
       "Black                           261\n",
       "Black  Spot                     241\n",
       "White  Dot                      184\n",
       "Heather Gray Fabric             157\n",
       "White  Spot                     109\n",
       "White                            91\n",
       "Sandstone Fabric                 90\n",
       "White  Show                      85\n",
       "White  Plus                      78\n",
       "Oak Finish                       14\n",
       "Walnut Finish                     9\n",
       "Name: variation, dtype: int64"
      ]
     },
     "execution_count": 139,
     "metadata": {},
     "output_type": "execute_result"
    }
   ],
   "source": [
    "# HOW MANY COMMENTS HAVE BEEN MADE ABOUT WHICH PRODUCT? \n",
    "df['variation'].value_counts()"
   ]
  },
  {
   "cell_type": "code",
   "execution_count": 140,
   "id": "d73b7d09",
   "metadata": {},
   "outputs": [
    {
     "data": {
      "text/html": [
       "<div>\n",
       "<style scoped>\n",
       "    .dataframe tbody tr th:only-of-type {\n",
       "        vertical-align: middle;\n",
       "    }\n",
       "\n",
       "    .dataframe tbody tr th {\n",
       "        vertical-align: top;\n",
       "    }\n",
       "\n",
       "    .dataframe thead th {\n",
       "        text-align: right;\n",
       "    }\n",
       "</style>\n",
       "<table border=\"1\" class=\"dataframe\">\n",
       "  <thead>\n",
       "    <tr style=\"text-align: right;\">\n",
       "      <th></th>\n",
       "      <th>rating</th>\n",
       "      <th>feedback</th>\n",
       "    </tr>\n",
       "  </thead>\n",
       "  <tbody>\n",
       "    <tr>\n",
       "      <th>count</th>\n",
       "      <td>3150.000000</td>\n",
       "      <td>3150.000000</td>\n",
       "    </tr>\n",
       "    <tr>\n",
       "      <th>mean</th>\n",
       "      <td>4.463175</td>\n",
       "      <td>0.918413</td>\n",
       "    </tr>\n",
       "    <tr>\n",
       "      <th>std</th>\n",
       "      <td>1.068506</td>\n",
       "      <td>0.273778</td>\n",
       "    </tr>\n",
       "    <tr>\n",
       "      <th>min</th>\n",
       "      <td>1.000000</td>\n",
       "      <td>0.000000</td>\n",
       "    </tr>\n",
       "    <tr>\n",
       "      <th>25%</th>\n",
       "      <td>4.000000</td>\n",
       "      <td>1.000000</td>\n",
       "    </tr>\n",
       "    <tr>\n",
       "      <th>50%</th>\n",
       "      <td>5.000000</td>\n",
       "      <td>1.000000</td>\n",
       "    </tr>\n",
       "    <tr>\n",
       "      <th>75%</th>\n",
       "      <td>5.000000</td>\n",
       "      <td>1.000000</td>\n",
       "    </tr>\n",
       "    <tr>\n",
       "      <th>max</th>\n",
       "      <td>5.000000</td>\n",
       "      <td>1.000000</td>\n",
       "    </tr>\n",
       "  </tbody>\n",
       "</table>\n",
       "</div>"
      ],
      "text/plain": [
       "            rating     feedback\n",
       "count  3150.000000  3150.000000\n",
       "mean      4.463175     0.918413\n",
       "std       1.068506     0.273778\n",
       "min       1.000000     0.000000\n",
       "25%       4.000000     1.000000\n",
       "50%       5.000000     1.000000\n",
       "75%       5.000000     1.000000\n",
       "max       5.000000     1.000000"
      ]
     },
     "execution_count": 140,
     "metadata": {},
     "output_type": "execute_result"
    }
   ],
   "source": [
    "df.describe()"
   ]
  },
  {
   "cell_type": "code",
   "execution_count": 141,
   "id": "92f37e6b",
   "metadata": {},
   "outputs": [
    {
     "data": {
      "text/html": [
       "<div>\n",
       "<style scoped>\n",
       "    .dataframe tbody tr th:only-of-type {\n",
       "        vertical-align: middle;\n",
       "    }\n",
       "\n",
       "    .dataframe tbody tr th {\n",
       "        vertical-align: top;\n",
       "    }\n",
       "\n",
       "    .dataframe thead tr th {\n",
       "        text-align: left;\n",
       "    }\n",
       "\n",
       "    .dataframe thead tr:last-of-type th {\n",
       "        text-align: right;\n",
       "    }\n",
       "</style>\n",
       "<table border=\"1\" class=\"dataframe\">\n",
       "  <thead>\n",
       "    <tr>\n",
       "      <th></th>\n",
       "      <th colspan=\"8\" halign=\"left\">feedback</th>\n",
       "    </tr>\n",
       "    <tr>\n",
       "      <th></th>\n",
       "      <th>count</th>\n",
       "      <th>mean</th>\n",
       "      <th>std</th>\n",
       "      <th>min</th>\n",
       "      <th>25%</th>\n",
       "      <th>50%</th>\n",
       "      <th>75%</th>\n",
       "      <th>max</th>\n",
       "    </tr>\n",
       "    <tr>\n",
       "      <th>rating</th>\n",
       "      <th></th>\n",
       "      <th></th>\n",
       "      <th></th>\n",
       "      <th></th>\n",
       "      <th></th>\n",
       "      <th></th>\n",
       "      <th></th>\n",
       "      <th></th>\n",
       "    </tr>\n",
       "  </thead>\n",
       "  <tbody>\n",
       "    <tr>\n",
       "      <th>1</th>\n",
       "      <td>161.0</td>\n",
       "      <td>0.0</td>\n",
       "      <td>0.0</td>\n",
       "      <td>0.0</td>\n",
       "      <td>0.0</td>\n",
       "      <td>0.0</td>\n",
       "      <td>0.0</td>\n",
       "      <td>0.0</td>\n",
       "    </tr>\n",
       "    <tr>\n",
       "      <th>2</th>\n",
       "      <td>96.0</td>\n",
       "      <td>0.0</td>\n",
       "      <td>0.0</td>\n",
       "      <td>0.0</td>\n",
       "      <td>0.0</td>\n",
       "      <td>0.0</td>\n",
       "      <td>0.0</td>\n",
       "      <td>0.0</td>\n",
       "    </tr>\n",
       "    <tr>\n",
       "      <th>3</th>\n",
       "      <td>152.0</td>\n",
       "      <td>1.0</td>\n",
       "      <td>0.0</td>\n",
       "      <td>1.0</td>\n",
       "      <td>1.0</td>\n",
       "      <td>1.0</td>\n",
       "      <td>1.0</td>\n",
       "      <td>1.0</td>\n",
       "    </tr>\n",
       "    <tr>\n",
       "      <th>4</th>\n",
       "      <td>455.0</td>\n",
       "      <td>1.0</td>\n",
       "      <td>0.0</td>\n",
       "      <td>1.0</td>\n",
       "      <td>1.0</td>\n",
       "      <td>1.0</td>\n",
       "      <td>1.0</td>\n",
       "      <td>1.0</td>\n",
       "    </tr>\n",
       "    <tr>\n",
       "      <th>5</th>\n",
       "      <td>2286.0</td>\n",
       "      <td>1.0</td>\n",
       "      <td>0.0</td>\n",
       "      <td>1.0</td>\n",
       "      <td>1.0</td>\n",
       "      <td>1.0</td>\n",
       "      <td>1.0</td>\n",
       "      <td>1.0</td>\n",
       "    </tr>\n",
       "  </tbody>\n",
       "</table>\n",
       "</div>"
      ],
      "text/plain": [
       "       feedback                                   \n",
       "          count mean  std  min  25%  50%  75%  max\n",
       "rating                                            \n",
       "1         161.0  0.0  0.0  0.0  0.0  0.0  0.0  0.0\n",
       "2          96.0  0.0  0.0  0.0  0.0  0.0  0.0  0.0\n",
       "3         152.0  1.0  0.0  1.0  1.0  1.0  1.0  1.0\n",
       "4         455.0  1.0  0.0  1.0  1.0  1.0  1.0  1.0\n",
       "5        2286.0  1.0  0.0  1.0  1.0  1.0  1.0  1.0"
      ]
     },
     "execution_count": 141,
     "metadata": {},
     "output_type": "execute_result"
    }
   ],
   "source": [
    "df.groupby('rating').describe()"
   ]
  },
  {
   "cell_type": "code",
   "execution_count": 142,
   "id": "6987f76d",
   "metadata": {},
   "outputs": [
    {
     "data": {
      "text/html": [
       "<div>\n",
       "<style scoped>\n",
       "    .dataframe tbody tr th:only-of-type {\n",
       "        vertical-align: middle;\n",
       "    }\n",
       "\n",
       "    .dataframe tbody tr th {\n",
       "        vertical-align: top;\n",
       "    }\n",
       "\n",
       "    .dataframe thead th {\n",
       "        text-align: right;\n",
       "    }\n",
       "</style>\n",
       "<table border=\"1\" class=\"dataframe\">\n",
       "  <thead>\n",
       "    <tr style=\"text-align: right;\">\n",
       "      <th></th>\n",
       "      <th>rating</th>\n",
       "      <th>date</th>\n",
       "      <th>variation</th>\n",
       "      <th>verified_reviews</th>\n",
       "      <th>feedback</th>\n",
       "      <th>length</th>\n",
       "    </tr>\n",
       "  </thead>\n",
       "  <tbody>\n",
       "    <tr>\n",
       "      <th>0</th>\n",
       "      <td>5</td>\n",
       "      <td>31-Jul-18</td>\n",
       "      <td>Charcoal Fabric</td>\n",
       "      <td>Love my Echo!</td>\n",
       "      <td>1</td>\n",
       "      <td>13</td>\n",
       "    </tr>\n",
       "    <tr>\n",
       "      <th>1</th>\n",
       "      <td>5</td>\n",
       "      <td>31-Jul-18</td>\n",
       "      <td>Charcoal Fabric</td>\n",
       "      <td>Loved it!</td>\n",
       "      <td>1</td>\n",
       "      <td>9</td>\n",
       "    </tr>\n",
       "    <tr>\n",
       "      <th>2</th>\n",
       "      <td>4</td>\n",
       "      <td>31-Jul-18</td>\n",
       "      <td>Walnut Finish</td>\n",
       "      <td>Sometimes while playing a game, you can answer...</td>\n",
       "      <td>1</td>\n",
       "      <td>195</td>\n",
       "    </tr>\n",
       "    <tr>\n",
       "      <th>3</th>\n",
       "      <td>5</td>\n",
       "      <td>31-Jul-18</td>\n",
       "      <td>Charcoal Fabric</td>\n",
       "      <td>I have had a lot of fun with this thing. My 4 ...</td>\n",
       "      <td>1</td>\n",
       "      <td>172</td>\n",
       "    </tr>\n",
       "    <tr>\n",
       "      <th>4</th>\n",
       "      <td>5</td>\n",
       "      <td>31-Jul-18</td>\n",
       "      <td>Charcoal Fabric</td>\n",
       "      <td>Music</td>\n",
       "      <td>1</td>\n",
       "      <td>5</td>\n",
       "    </tr>\n",
       "  </tbody>\n",
       "</table>\n",
       "</div>"
      ],
      "text/plain": [
       "   rating       date         variation  \\\n",
       "0       5  31-Jul-18  Charcoal Fabric    \n",
       "1       5  31-Jul-18  Charcoal Fabric    \n",
       "2       4  31-Jul-18    Walnut Finish    \n",
       "3       5  31-Jul-18  Charcoal Fabric    \n",
       "4       5  31-Jul-18  Charcoal Fabric    \n",
       "\n",
       "                                    verified_reviews  feedback  length  \n",
       "0                                      Love my Echo!         1      13  \n",
       "1                                          Loved it!         1       9  \n",
       "2  Sometimes while playing a game, you can answer...         1     195  \n",
       "3  I have had a lot of fun with this thing. My 4 ...         1     172  \n",
       "4                                              Music         1       5  "
      ]
     },
     "execution_count": 142,
     "metadata": {},
     "output_type": "execute_result"
    }
   ],
   "source": [
    "df['length'] = df['verified_reviews'].apply(len)\n",
    "df.head()"
   ]
  },
  {
   "cell_type": "code",
   "execution_count": 143,
   "id": "f6298f43",
   "metadata": {},
   "outputs": [
    {
     "data": {
      "text/html": [
       "<div>\n",
       "<style scoped>\n",
       "    .dataframe tbody tr th:only-of-type {\n",
       "        vertical-align: middle;\n",
       "    }\n",
       "\n",
       "    .dataframe tbody tr th {\n",
       "        vertical-align: top;\n",
       "    }\n",
       "\n",
       "    .dataframe thead th {\n",
       "        text-align: right;\n",
       "    }\n",
       "</style>\n",
       "<table border=\"1\" class=\"dataframe\">\n",
       "  <thead>\n",
       "    <tr style=\"text-align: right;\">\n",
       "      <th></th>\n",
       "      <th>rating</th>\n",
       "    </tr>\n",
       "    <tr>\n",
       "      <th>variation</th>\n",
       "      <th></th>\n",
       "    </tr>\n",
       "  </thead>\n",
       "  <tbody>\n",
       "    <tr>\n",
       "      <th>Walnut Finish</th>\n",
       "      <td>4.888889</td>\n",
       "    </tr>\n",
       "    <tr>\n",
       "      <th>Oak Finish</th>\n",
       "      <td>4.857143</td>\n",
       "    </tr>\n",
       "    <tr>\n",
       "      <th>Charcoal Fabric</th>\n",
       "      <td>4.730233</td>\n",
       "    </tr>\n",
       "    <tr>\n",
       "      <th>Heather Gray Fabric</th>\n",
       "      <td>4.694268</td>\n",
       "    </tr>\n",
       "    <tr>\n",
       "      <th>Configuration: Fire TV Stick</th>\n",
       "      <td>4.591429</td>\n",
       "    </tr>\n",
       "  </tbody>\n",
       "</table>\n",
       "</div>"
      ],
      "text/plain": [
       "                                rating\n",
       "variation                             \n",
       "Walnut Finish                 4.888889\n",
       "Oak Finish                    4.857143\n",
       "Charcoal Fabric               4.730233\n",
       "Heather Gray Fabric           4.694268\n",
       "Configuration: Fire TV Stick  4.591429"
      ]
     },
     "execution_count": 143,
     "metadata": {},
     "output_type": "execute_result"
    }
   ],
   "source": [
    "# WHICH ALEXA PRODUCT GETS THE HIGHEST VOTES? \n",
    "df.groupby('variation').agg({\"rating\":\"mean\"}).sort_values('rating', ascending = False).head()"
   ]
  },
  {
   "cell_type": "code",
   "execution_count": 144,
   "id": "ab7ee2ce",
   "metadata": {},
   "outputs": [
    {
     "data": {
      "text/plain": [
       "1    2893\n",
       "0     257\n",
       "Name: feedback, dtype: int64"
      ]
     },
     "execution_count": 144,
     "metadata": {},
     "output_type": "execute_result"
    }
   ],
   "source": [
    "# HOW MANY POSITIVE FEEDBACKS ARE THERE? \n",
    "# 1 = Positive , 0 = negative\n",
    "df[\"feedback\"].value_counts().head()"
   ]
  },
  {
   "cell_type": "code",
   "execution_count": 145,
   "id": "a8515992",
   "metadata": {},
   "outputs": [
    {
     "data": {
      "application/vnd.plotly.v1+json": {
       "config": {
        "linkText": "Export to plot.ly",
        "plotlyServerURL": "https://plot.ly",
        "showLink": false
       },
       "data": [
        {
         "marker": {
          "line": {
           "color": "black",
           "width": 4
          }
         },
         "name": "Positive Feedback",
         "type": "bar",
         "x": [
          1
         ],
         "y": [
          2893
         ]
        },
        {
         "marker": {
          "line": {
           "color": "black",
           "width": 4
          }
         },
         "name": "Negative Feedback",
         "type": "bar",
         "x": [
          0
         ],
         "y": [
          257
         ]
        }
       ],
       "layout": {
        "template": {
         "data": {
          "bar": [
           {
            "error_x": {
             "color": "#2a3f5f"
            },
            "error_y": {
             "color": "#2a3f5f"
            },
            "marker": {
             "line": {
              "color": "#E5ECF6",
              "width": 0.5
             },
             "pattern": {
              "fillmode": "overlay",
              "size": 10,
              "solidity": 0.2
             }
            },
            "type": "bar"
           }
          ],
          "barpolar": [
           {
            "marker": {
             "line": {
              "color": "#E5ECF6",
              "width": 0.5
             },
             "pattern": {
              "fillmode": "overlay",
              "size": 10,
              "solidity": 0.2
             }
            },
            "type": "barpolar"
           }
          ],
          "carpet": [
           {
            "aaxis": {
             "endlinecolor": "#2a3f5f",
             "gridcolor": "white",
             "linecolor": "white",
             "minorgridcolor": "white",
             "startlinecolor": "#2a3f5f"
            },
            "baxis": {
             "endlinecolor": "#2a3f5f",
             "gridcolor": "white",
             "linecolor": "white",
             "minorgridcolor": "white",
             "startlinecolor": "#2a3f5f"
            },
            "type": "carpet"
           }
          ],
          "choropleth": [
           {
            "colorbar": {
             "outlinewidth": 0,
             "ticks": ""
            },
            "type": "choropleth"
           }
          ],
          "contour": [
           {
            "colorbar": {
             "outlinewidth": 0,
             "ticks": ""
            },
            "colorscale": [
             [
              0,
              "#0d0887"
             ],
             [
              0.1111111111111111,
              "#46039f"
             ],
             [
              0.2222222222222222,
              "#7201a8"
             ],
             [
              0.3333333333333333,
              "#9c179e"
             ],
             [
              0.4444444444444444,
              "#bd3786"
             ],
             [
              0.5555555555555556,
              "#d8576b"
             ],
             [
              0.6666666666666666,
              "#ed7953"
             ],
             [
              0.7777777777777778,
              "#fb9f3a"
             ],
             [
              0.8888888888888888,
              "#fdca26"
             ],
             [
              1,
              "#f0f921"
             ]
            ],
            "type": "contour"
           }
          ],
          "contourcarpet": [
           {
            "colorbar": {
             "outlinewidth": 0,
             "ticks": ""
            },
            "type": "contourcarpet"
           }
          ],
          "heatmap": [
           {
            "colorbar": {
             "outlinewidth": 0,
             "ticks": ""
            },
            "colorscale": [
             [
              0,
              "#0d0887"
             ],
             [
              0.1111111111111111,
              "#46039f"
             ],
             [
              0.2222222222222222,
              "#7201a8"
             ],
             [
              0.3333333333333333,
              "#9c179e"
             ],
             [
              0.4444444444444444,
              "#bd3786"
             ],
             [
              0.5555555555555556,
              "#d8576b"
             ],
             [
              0.6666666666666666,
              "#ed7953"
             ],
             [
              0.7777777777777778,
              "#fb9f3a"
             ],
             [
              0.8888888888888888,
              "#fdca26"
             ],
             [
              1,
              "#f0f921"
             ]
            ],
            "type": "heatmap"
           }
          ],
          "heatmapgl": [
           {
            "colorbar": {
             "outlinewidth": 0,
             "ticks": ""
            },
            "colorscale": [
             [
              0,
              "#0d0887"
             ],
             [
              0.1111111111111111,
              "#46039f"
             ],
             [
              0.2222222222222222,
              "#7201a8"
             ],
             [
              0.3333333333333333,
              "#9c179e"
             ],
             [
              0.4444444444444444,
              "#bd3786"
             ],
             [
              0.5555555555555556,
              "#d8576b"
             ],
             [
              0.6666666666666666,
              "#ed7953"
             ],
             [
              0.7777777777777778,
              "#fb9f3a"
             ],
             [
              0.8888888888888888,
              "#fdca26"
             ],
             [
              1,
              "#f0f921"
             ]
            ],
            "type": "heatmapgl"
           }
          ],
          "histogram": [
           {
            "marker": {
             "pattern": {
              "fillmode": "overlay",
              "size": 10,
              "solidity": 0.2
             }
            },
            "type": "histogram"
           }
          ],
          "histogram2d": [
           {
            "colorbar": {
             "outlinewidth": 0,
             "ticks": ""
            },
            "colorscale": [
             [
              0,
              "#0d0887"
             ],
             [
              0.1111111111111111,
              "#46039f"
             ],
             [
              0.2222222222222222,
              "#7201a8"
             ],
             [
              0.3333333333333333,
              "#9c179e"
             ],
             [
              0.4444444444444444,
              "#bd3786"
             ],
             [
              0.5555555555555556,
              "#d8576b"
             ],
             [
              0.6666666666666666,
              "#ed7953"
             ],
             [
              0.7777777777777778,
              "#fb9f3a"
             ],
             [
              0.8888888888888888,
              "#fdca26"
             ],
             [
              1,
              "#f0f921"
             ]
            ],
            "type": "histogram2d"
           }
          ],
          "histogram2dcontour": [
           {
            "colorbar": {
             "outlinewidth": 0,
             "ticks": ""
            },
            "colorscale": [
             [
              0,
              "#0d0887"
             ],
             [
              0.1111111111111111,
              "#46039f"
             ],
             [
              0.2222222222222222,
              "#7201a8"
             ],
             [
              0.3333333333333333,
              "#9c179e"
             ],
             [
              0.4444444444444444,
              "#bd3786"
             ],
             [
              0.5555555555555556,
              "#d8576b"
             ],
             [
              0.6666666666666666,
              "#ed7953"
             ],
             [
              0.7777777777777778,
              "#fb9f3a"
             ],
             [
              0.8888888888888888,
              "#fdca26"
             ],
             [
              1,
              "#f0f921"
             ]
            ],
            "type": "histogram2dcontour"
           }
          ],
          "mesh3d": [
           {
            "colorbar": {
             "outlinewidth": 0,
             "ticks": ""
            },
            "type": "mesh3d"
           }
          ],
          "parcoords": [
           {
            "line": {
             "colorbar": {
              "outlinewidth": 0,
              "ticks": ""
             }
            },
            "type": "parcoords"
           }
          ],
          "pie": [
           {
            "automargin": true,
            "type": "pie"
           }
          ],
          "scatter": [
           {
            "fillpattern": {
             "fillmode": "overlay",
             "size": 10,
             "solidity": 0.2
            },
            "type": "scatter"
           }
          ],
          "scatter3d": [
           {
            "line": {
             "colorbar": {
              "outlinewidth": 0,
              "ticks": ""
             }
            },
            "marker": {
             "colorbar": {
              "outlinewidth": 0,
              "ticks": ""
             }
            },
            "type": "scatter3d"
           }
          ],
          "scattercarpet": [
           {
            "marker": {
             "colorbar": {
              "outlinewidth": 0,
              "ticks": ""
             }
            },
            "type": "scattercarpet"
           }
          ],
          "scattergeo": [
           {
            "marker": {
             "colorbar": {
              "outlinewidth": 0,
              "ticks": ""
             }
            },
            "type": "scattergeo"
           }
          ],
          "scattergl": [
           {
            "marker": {
             "colorbar": {
              "outlinewidth": 0,
              "ticks": ""
             }
            },
            "type": "scattergl"
           }
          ],
          "scattermapbox": [
           {
            "marker": {
             "colorbar": {
              "outlinewidth": 0,
              "ticks": ""
             }
            },
            "type": "scattermapbox"
           }
          ],
          "scatterpolar": [
           {
            "marker": {
             "colorbar": {
              "outlinewidth": 0,
              "ticks": ""
             }
            },
            "type": "scatterpolar"
           }
          ],
          "scatterpolargl": [
           {
            "marker": {
             "colorbar": {
              "outlinewidth": 0,
              "ticks": ""
             }
            },
            "type": "scatterpolargl"
           }
          ],
          "scatterternary": [
           {
            "marker": {
             "colorbar": {
              "outlinewidth": 0,
              "ticks": ""
             }
            },
            "type": "scatterternary"
           }
          ],
          "surface": [
           {
            "colorbar": {
             "outlinewidth": 0,
             "ticks": ""
            },
            "colorscale": [
             [
              0,
              "#0d0887"
             ],
             [
              0.1111111111111111,
              "#46039f"
             ],
             [
              0.2222222222222222,
              "#7201a8"
             ],
             [
              0.3333333333333333,
              "#9c179e"
             ],
             [
              0.4444444444444444,
              "#bd3786"
             ],
             [
              0.5555555555555556,
              "#d8576b"
             ],
             [
              0.6666666666666666,
              "#ed7953"
             ],
             [
              0.7777777777777778,
              "#fb9f3a"
             ],
             [
              0.8888888888888888,
              "#fdca26"
             ],
             [
              1,
              "#f0f921"
             ]
            ],
            "type": "surface"
           }
          ],
          "table": [
           {
            "cells": {
             "fill": {
              "color": "#EBF0F8"
             },
             "line": {
              "color": "white"
             }
            },
            "header": {
             "fill": {
              "color": "#C8D4E3"
             },
             "line": {
              "color": "white"
             }
            },
            "type": "table"
           }
          ]
         },
         "layout": {
          "annotationdefaults": {
           "arrowcolor": "#2a3f5f",
           "arrowhead": 0,
           "arrowwidth": 1
          },
          "autotypenumbers": "strict",
          "coloraxis": {
           "colorbar": {
            "outlinewidth": 0,
            "ticks": ""
           }
          },
          "colorscale": {
           "diverging": [
            [
             0,
             "#8e0152"
            ],
            [
             0.1,
             "#c51b7d"
            ],
            [
             0.2,
             "#de77ae"
            ],
            [
             0.3,
             "#f1b6da"
            ],
            [
             0.4,
             "#fde0ef"
            ],
            [
             0.5,
             "#f7f7f7"
            ],
            [
             0.6,
             "#e6f5d0"
            ],
            [
             0.7,
             "#b8e186"
            ],
            [
             0.8,
             "#7fbc41"
            ],
            [
             0.9,
             "#4d9221"
            ],
            [
             1,
             "#276419"
            ]
           ],
           "sequential": [
            [
             0,
             "#0d0887"
            ],
            [
             0.1111111111111111,
             "#46039f"
            ],
            [
             0.2222222222222222,
             "#7201a8"
            ],
            [
             0.3333333333333333,
             "#9c179e"
            ],
            [
             0.4444444444444444,
             "#bd3786"
            ],
            [
             0.5555555555555556,
             "#d8576b"
            ],
            [
             0.6666666666666666,
             "#ed7953"
            ],
            [
             0.7777777777777778,
             "#fb9f3a"
            ],
            [
             0.8888888888888888,
             "#fdca26"
            ],
            [
             1,
             "#f0f921"
            ]
           ],
           "sequentialminus": [
            [
             0,
             "#0d0887"
            ],
            [
             0.1111111111111111,
             "#46039f"
            ],
            [
             0.2222222222222222,
             "#7201a8"
            ],
            [
             0.3333333333333333,
             "#9c179e"
            ],
            [
             0.4444444444444444,
             "#bd3786"
            ],
            [
             0.5555555555555556,
             "#d8576b"
            ],
            [
             0.6666666666666666,
             "#ed7953"
            ],
            [
             0.7777777777777778,
             "#fb9f3a"
            ],
            [
             0.8888888888888888,
             "#fdca26"
            ],
            [
             1,
             "#f0f921"
            ]
           ]
          },
          "colorway": [
           "#636efa",
           "#EF553B",
           "#00cc96",
           "#ab63fa",
           "#FFA15A",
           "#19d3f3",
           "#FF6692",
           "#B6E880",
           "#FF97FF",
           "#FECB52"
          ],
          "font": {
           "color": "#2a3f5f"
          },
          "geo": {
           "bgcolor": "white",
           "lakecolor": "white",
           "landcolor": "#E5ECF6",
           "showlakes": true,
           "showland": true,
           "subunitcolor": "white"
          },
          "hoverlabel": {
           "align": "left"
          },
          "hovermode": "closest",
          "mapbox": {
           "style": "light"
          },
          "paper_bgcolor": "white",
          "plot_bgcolor": "#E5ECF6",
          "polar": {
           "angularaxis": {
            "gridcolor": "white",
            "linecolor": "white",
            "ticks": ""
           },
           "bgcolor": "#E5ECF6",
           "radialaxis": {
            "gridcolor": "white",
            "linecolor": "white",
            "ticks": ""
           }
          },
          "scene": {
           "xaxis": {
            "backgroundcolor": "#E5ECF6",
            "gridcolor": "white",
            "gridwidth": 2,
            "linecolor": "white",
            "showbackground": true,
            "ticks": "",
            "zerolinecolor": "white"
           },
           "yaxis": {
            "backgroundcolor": "#E5ECF6",
            "gridcolor": "white",
            "gridwidth": 2,
            "linecolor": "white",
            "showbackground": true,
            "ticks": "",
            "zerolinecolor": "white"
           },
           "zaxis": {
            "backgroundcolor": "#E5ECF6",
            "gridcolor": "white",
            "gridwidth": 2,
            "linecolor": "white",
            "showbackground": true,
            "ticks": "",
            "zerolinecolor": "white"
           }
          },
          "shapedefaults": {
           "line": {
            "color": "#2a3f5f"
           }
          },
          "ternary": {
           "aaxis": {
            "gridcolor": "white",
            "linecolor": "white",
            "ticks": ""
           },
           "baxis": {
            "gridcolor": "white",
            "linecolor": "white",
            "ticks": ""
           },
           "bgcolor": "#E5ECF6",
           "caxis": {
            "gridcolor": "white",
            "linecolor": "white",
            "ticks": ""
           }
          },
          "title": {
           "x": 0.05
          },
          "xaxis": {
           "automargin": true,
           "gridcolor": "white",
           "linecolor": "white",
           "ticks": "",
           "title": {
            "standoff": 15
           },
           "zerolinecolor": "white",
           "zerolinewidth": 2
          },
          "yaxis": {
           "automargin": true,
           "gridcolor": "white",
           "linecolor": "white",
           "ticks": "",
           "title": {
            "standoff": 15
           },
           "zerolinecolor": "white",
           "zerolinewidth": 2
          }
         }
        },
        "title": {
         "text": "Feedback Distribution"
        },
        "xaxis": {
         "title": {
          "text": "Feedback"
         }
        },
        "yaxis": {
         "title": {
          "text": "Count"
         }
        }
       }
      },
      "text/html": [
       "<div>                            <div id=\"af8f315d-27ba-4fff-bfdb-e60dcf98350b\" class=\"plotly-graph-div\" style=\"height:525px; width:100%;\"></div>            <script type=\"text/javascript\">                require([\"plotly\"], function(Plotly) {                    window.PLOTLYENV=window.PLOTLYENV || {};                                    if (document.getElementById(\"af8f315d-27ba-4fff-bfdb-e60dcf98350b\")) {                    Plotly.newPlot(                        \"af8f315d-27ba-4fff-bfdb-e60dcf98350b\",                        [{\"marker\":{\"line\":{\"color\":\"black\",\"width\":4}},\"name\":\"Positive Feedback\",\"x\":[1],\"y\":[2893],\"type\":\"bar\"},{\"marker\":{\"line\":{\"color\":\"black\",\"width\":4}},\"name\":\"Negative Feedback\",\"x\":[0],\"y\":[257],\"type\":\"bar\"}],                        {\"template\":{\"data\":{\"barpolar\":[{\"marker\":{\"line\":{\"color\":\"#E5ECF6\",\"width\":0.5},\"pattern\":{\"fillmode\":\"overlay\",\"size\":10,\"solidity\":0.2}},\"type\":\"barpolar\"}],\"bar\":[{\"error_x\":{\"color\":\"#2a3f5f\"},\"error_y\":{\"color\":\"#2a3f5f\"},\"marker\":{\"line\":{\"color\":\"#E5ECF6\",\"width\":0.5},\"pattern\":{\"fillmode\":\"overlay\",\"size\":10,\"solidity\":0.2}},\"type\":\"bar\"}],\"carpet\":[{\"aaxis\":{\"endlinecolor\":\"#2a3f5f\",\"gridcolor\":\"white\",\"linecolor\":\"white\",\"minorgridcolor\":\"white\",\"startlinecolor\":\"#2a3f5f\"},\"baxis\":{\"endlinecolor\":\"#2a3f5f\",\"gridcolor\":\"white\",\"linecolor\":\"white\",\"minorgridcolor\":\"white\",\"startlinecolor\":\"#2a3f5f\"},\"type\":\"carpet\"}],\"choropleth\":[{\"colorbar\":{\"outlinewidth\":0,\"ticks\":\"\"},\"type\":\"choropleth\"}],\"contourcarpet\":[{\"colorbar\":{\"outlinewidth\":0,\"ticks\":\"\"},\"type\":\"contourcarpet\"}],\"contour\":[{\"colorbar\":{\"outlinewidth\":0,\"ticks\":\"\"},\"colorscale\":[[0.0,\"#0d0887\"],[0.1111111111111111,\"#46039f\"],[0.2222222222222222,\"#7201a8\"],[0.3333333333333333,\"#9c179e\"],[0.4444444444444444,\"#bd3786\"],[0.5555555555555556,\"#d8576b\"],[0.6666666666666666,\"#ed7953\"],[0.7777777777777778,\"#fb9f3a\"],[0.8888888888888888,\"#fdca26\"],[1.0,\"#f0f921\"]],\"type\":\"contour\"}],\"heatmapgl\":[{\"colorbar\":{\"outlinewidth\":0,\"ticks\":\"\"},\"colorscale\":[[0.0,\"#0d0887\"],[0.1111111111111111,\"#46039f\"],[0.2222222222222222,\"#7201a8\"],[0.3333333333333333,\"#9c179e\"],[0.4444444444444444,\"#bd3786\"],[0.5555555555555556,\"#d8576b\"],[0.6666666666666666,\"#ed7953\"],[0.7777777777777778,\"#fb9f3a\"],[0.8888888888888888,\"#fdca26\"],[1.0,\"#f0f921\"]],\"type\":\"heatmapgl\"}],\"heatmap\":[{\"colorbar\":{\"outlinewidth\":0,\"ticks\":\"\"},\"colorscale\":[[0.0,\"#0d0887\"],[0.1111111111111111,\"#46039f\"],[0.2222222222222222,\"#7201a8\"],[0.3333333333333333,\"#9c179e\"],[0.4444444444444444,\"#bd3786\"],[0.5555555555555556,\"#d8576b\"],[0.6666666666666666,\"#ed7953\"],[0.7777777777777778,\"#fb9f3a\"],[0.8888888888888888,\"#fdca26\"],[1.0,\"#f0f921\"]],\"type\":\"heatmap\"}],\"histogram2dcontour\":[{\"colorbar\":{\"outlinewidth\":0,\"ticks\":\"\"},\"colorscale\":[[0.0,\"#0d0887\"],[0.1111111111111111,\"#46039f\"],[0.2222222222222222,\"#7201a8\"],[0.3333333333333333,\"#9c179e\"],[0.4444444444444444,\"#bd3786\"],[0.5555555555555556,\"#d8576b\"],[0.6666666666666666,\"#ed7953\"],[0.7777777777777778,\"#fb9f3a\"],[0.8888888888888888,\"#fdca26\"],[1.0,\"#f0f921\"]],\"type\":\"histogram2dcontour\"}],\"histogram2d\":[{\"colorbar\":{\"outlinewidth\":0,\"ticks\":\"\"},\"colorscale\":[[0.0,\"#0d0887\"],[0.1111111111111111,\"#46039f\"],[0.2222222222222222,\"#7201a8\"],[0.3333333333333333,\"#9c179e\"],[0.4444444444444444,\"#bd3786\"],[0.5555555555555556,\"#d8576b\"],[0.6666666666666666,\"#ed7953\"],[0.7777777777777778,\"#fb9f3a\"],[0.8888888888888888,\"#fdca26\"],[1.0,\"#f0f921\"]],\"type\":\"histogram2d\"}],\"histogram\":[{\"marker\":{\"pattern\":{\"fillmode\":\"overlay\",\"size\":10,\"solidity\":0.2}},\"type\":\"histogram\"}],\"mesh3d\":[{\"colorbar\":{\"outlinewidth\":0,\"ticks\":\"\"},\"type\":\"mesh3d\"}],\"parcoords\":[{\"line\":{\"colorbar\":{\"outlinewidth\":0,\"ticks\":\"\"}},\"type\":\"parcoords\"}],\"pie\":[{\"automargin\":true,\"type\":\"pie\"}],\"scatter3d\":[{\"line\":{\"colorbar\":{\"outlinewidth\":0,\"ticks\":\"\"}},\"marker\":{\"colorbar\":{\"outlinewidth\":0,\"ticks\":\"\"}},\"type\":\"scatter3d\"}],\"scattercarpet\":[{\"marker\":{\"colorbar\":{\"outlinewidth\":0,\"ticks\":\"\"}},\"type\":\"scattercarpet\"}],\"scattergeo\":[{\"marker\":{\"colorbar\":{\"outlinewidth\":0,\"ticks\":\"\"}},\"type\":\"scattergeo\"}],\"scattergl\":[{\"marker\":{\"colorbar\":{\"outlinewidth\":0,\"ticks\":\"\"}},\"type\":\"scattergl\"}],\"scattermapbox\":[{\"marker\":{\"colorbar\":{\"outlinewidth\":0,\"ticks\":\"\"}},\"type\":\"scattermapbox\"}],\"scatterpolargl\":[{\"marker\":{\"colorbar\":{\"outlinewidth\":0,\"ticks\":\"\"}},\"type\":\"scatterpolargl\"}],\"scatterpolar\":[{\"marker\":{\"colorbar\":{\"outlinewidth\":0,\"ticks\":\"\"}},\"type\":\"scatterpolar\"}],\"scatter\":[{\"fillpattern\":{\"fillmode\":\"overlay\",\"size\":10,\"solidity\":0.2},\"type\":\"scatter\"}],\"scatterternary\":[{\"marker\":{\"colorbar\":{\"outlinewidth\":0,\"ticks\":\"\"}},\"type\":\"scatterternary\"}],\"surface\":[{\"colorbar\":{\"outlinewidth\":0,\"ticks\":\"\"},\"colorscale\":[[0.0,\"#0d0887\"],[0.1111111111111111,\"#46039f\"],[0.2222222222222222,\"#7201a8\"],[0.3333333333333333,\"#9c179e\"],[0.4444444444444444,\"#bd3786\"],[0.5555555555555556,\"#d8576b\"],[0.6666666666666666,\"#ed7953\"],[0.7777777777777778,\"#fb9f3a\"],[0.8888888888888888,\"#fdca26\"],[1.0,\"#f0f921\"]],\"type\":\"surface\"}],\"table\":[{\"cells\":{\"fill\":{\"color\":\"#EBF0F8\"},\"line\":{\"color\":\"white\"}},\"header\":{\"fill\":{\"color\":\"#C8D4E3\"},\"line\":{\"color\":\"white\"}},\"type\":\"table\"}]},\"layout\":{\"annotationdefaults\":{\"arrowcolor\":\"#2a3f5f\",\"arrowhead\":0,\"arrowwidth\":1},\"autotypenumbers\":\"strict\",\"coloraxis\":{\"colorbar\":{\"outlinewidth\":0,\"ticks\":\"\"}},\"colorscale\":{\"diverging\":[[0,\"#8e0152\"],[0.1,\"#c51b7d\"],[0.2,\"#de77ae\"],[0.3,\"#f1b6da\"],[0.4,\"#fde0ef\"],[0.5,\"#f7f7f7\"],[0.6,\"#e6f5d0\"],[0.7,\"#b8e186\"],[0.8,\"#7fbc41\"],[0.9,\"#4d9221\"],[1,\"#276419\"]],\"sequential\":[[0.0,\"#0d0887\"],[0.1111111111111111,\"#46039f\"],[0.2222222222222222,\"#7201a8\"],[0.3333333333333333,\"#9c179e\"],[0.4444444444444444,\"#bd3786\"],[0.5555555555555556,\"#d8576b\"],[0.6666666666666666,\"#ed7953\"],[0.7777777777777778,\"#fb9f3a\"],[0.8888888888888888,\"#fdca26\"],[1.0,\"#f0f921\"]],\"sequentialminus\":[[0.0,\"#0d0887\"],[0.1111111111111111,\"#46039f\"],[0.2222222222222222,\"#7201a8\"],[0.3333333333333333,\"#9c179e\"],[0.4444444444444444,\"#bd3786\"],[0.5555555555555556,\"#d8576b\"],[0.6666666666666666,\"#ed7953\"],[0.7777777777777778,\"#fb9f3a\"],[0.8888888888888888,\"#fdca26\"],[1.0,\"#f0f921\"]]},\"colorway\":[\"#636efa\",\"#EF553B\",\"#00cc96\",\"#ab63fa\",\"#FFA15A\",\"#19d3f3\",\"#FF6692\",\"#B6E880\",\"#FF97FF\",\"#FECB52\"],\"font\":{\"color\":\"#2a3f5f\"},\"geo\":{\"bgcolor\":\"white\",\"lakecolor\":\"white\",\"landcolor\":\"#E5ECF6\",\"showlakes\":true,\"showland\":true,\"subunitcolor\":\"white\"},\"hoverlabel\":{\"align\":\"left\"},\"hovermode\":\"closest\",\"mapbox\":{\"style\":\"light\"},\"paper_bgcolor\":\"white\",\"plot_bgcolor\":\"#E5ECF6\",\"polar\":{\"angularaxis\":{\"gridcolor\":\"white\",\"linecolor\":\"white\",\"ticks\":\"\"},\"bgcolor\":\"#E5ECF6\",\"radialaxis\":{\"gridcolor\":\"white\",\"linecolor\":\"white\",\"ticks\":\"\"}},\"scene\":{\"xaxis\":{\"backgroundcolor\":\"#E5ECF6\",\"gridcolor\":\"white\",\"gridwidth\":2,\"linecolor\":\"white\",\"showbackground\":true,\"ticks\":\"\",\"zerolinecolor\":\"white\"},\"yaxis\":{\"backgroundcolor\":\"#E5ECF6\",\"gridcolor\":\"white\",\"gridwidth\":2,\"linecolor\":\"white\",\"showbackground\":true,\"ticks\":\"\",\"zerolinecolor\":\"white\"},\"zaxis\":{\"backgroundcolor\":\"#E5ECF6\",\"gridcolor\":\"white\",\"gridwidth\":2,\"linecolor\":\"white\",\"showbackground\":true,\"ticks\":\"\",\"zerolinecolor\":\"white\"}},\"shapedefaults\":{\"line\":{\"color\":\"#2a3f5f\"}},\"ternary\":{\"aaxis\":{\"gridcolor\":\"white\",\"linecolor\":\"white\",\"ticks\":\"\"},\"baxis\":{\"gridcolor\":\"white\",\"linecolor\":\"white\",\"ticks\":\"\"},\"bgcolor\":\"#E5ECF6\",\"caxis\":{\"gridcolor\":\"white\",\"linecolor\":\"white\",\"ticks\":\"\"}},\"title\":{\"x\":0.05},\"xaxis\":{\"automargin\":true,\"gridcolor\":\"white\",\"linecolor\":\"white\",\"ticks\":\"\",\"title\":{\"standoff\":15},\"zerolinecolor\":\"white\",\"zerolinewidth\":2},\"yaxis\":{\"automargin\":true,\"gridcolor\":\"white\",\"linecolor\":\"white\",\"ticks\":\"\",\"title\":{\"standoff\":15},\"zerolinecolor\":\"white\",\"zerolinewidth\":2}}},\"title\":{\"text\":\"Feedback Distribution\"},\"xaxis\":{\"title\":{\"text\":\"Feedback\"}},\"yaxis\":{\"title\":{\"text\":\"Count\"}}},                        {\"responsive\": true}                    ).then(function(){\n",
       "                            \n",
       "var gd = document.getElementById('af8f315d-27ba-4fff-bfdb-e60dcf98350b');\n",
       "var x = new MutationObserver(function (mutations, observer) {{\n",
       "        var display = window.getComputedStyle(gd).display;\n",
       "        if (!display || display === 'none') {{\n",
       "            console.log([gd, 'removed!']);\n",
       "            Plotly.purge(gd);\n",
       "            observer.disconnect();\n",
       "        }}\n",
       "}});\n",
       "\n",
       "// Listen for the removal of the full notebook cells\n",
       "var notebookContainer = gd.closest('#notebook-container');\n",
       "if (notebookContainer) {{\n",
       "    x.observe(notebookContainer, {childList: true});\n",
       "}}\n",
       "\n",
       "// Listen for the clearing of the current output cell\n",
       "var outputEl = gd.closest('.output');\n",
       "if (outputEl) {{\n",
       "    x.observe(outputEl, {childList: true});\n",
       "}}\n",
       "\n",
       "                        })                };                });            </script>        </div>"
      ]
     },
     "metadata": {},
     "output_type": "display_data"
    }
   ],
   "source": [
    "#HOW MANY POSITIVE AND NEGATIVE FEEDBACKS ARE THERE ?\n",
    "trace0 = go.Bar(\n",
    "            x = df[df[\"feedback\"]== 1][\"feedback\"].value_counts().index.values,\n",
    "            y = df[df[\"feedback\"]== 1][\"feedback\"].value_counts().values,\n",
    "            name='Positive Feedback')\n",
    "\n",
    "trace1 = go.Bar(\n",
    "            x = df[df[\"feedback\"]== 0][\"feedback\"].value_counts().index.values,\n",
    "            y = df[df[\"feedback\"]== 0][\"feedback\"].value_counts().values,\n",
    "            name='Negative Feedback')\n",
    "\n",
    "\n",
    "data = [trace0, trace1]\n",
    "layout = go.Layout(yaxis=dict(title='Count'),\n",
    "                   xaxis=dict(title='Feedback'),title='Feedback Distribution')\n",
    "\n",
    "fig = go.Figure(data=data, layout=layout)\n",
    "fig.data[0].marker.line.width = 4\n",
    "fig.data[0].marker.line.color = \"black\"\n",
    "fig.data[1].marker.line.width = 4\n",
    "fig.data[1].marker.line.color = \"black\"\n",
    "py.iplot(fig)"
   ]
  },
  {
   "cell_type": "code",
   "execution_count": 146,
   "id": "53721919",
   "metadata": {},
   "outputs": [
    {
     "data": {
      "application/vnd.plotly.v1+json": {
       "config": {
        "linkText": "Export to plot.ly",
        "plotlyServerURL": "https://plot.ly",
        "showLink": false
       },
       "data": [
        {
         "marker": {
          "line": {
           "color": "black",
           "width": 2
          }
         },
         "type": "bar",
         "x": [
          "Black",
          "Black  Dot",
          "Black  Plus",
          "Black  Show",
          "Black  Spot",
          "Charcoal Fabric ",
          "Configuration: Fire TV Stick",
          "Heather Gray Fabric ",
          "Oak Finish ",
          "Sandstone Fabric ",
          "Walnut Finish ",
          "White",
          "White  Dot",
          "White  Plus",
          "White  Show",
          "White  Spot"
         ],
         "y": [
          4.233716475095785,
          4.453488372093023,
          4.37037037037037,
          4.490566037735849,
          4.3112033195020745,
          4.730232558139535,
          4.591428571428572,
          4.694267515923567,
          4.857142857142857,
          4.355555555555555,
          4.888888888888889,
          4.142857142857143,
          4.423913043478261,
          4.358974358974359,
          4.2823529411764705,
          4.3119266055045875
         ]
        }
       ],
       "layout": {
        "template": {
         "data": {
          "bar": [
           {
            "error_x": {
             "color": "#2a3f5f"
            },
            "error_y": {
             "color": "#2a3f5f"
            },
            "marker": {
             "line": {
              "color": "#E5ECF6",
              "width": 0.5
             },
             "pattern": {
              "fillmode": "overlay",
              "size": 10,
              "solidity": 0.2
             }
            },
            "type": "bar"
           }
          ],
          "barpolar": [
           {
            "marker": {
             "line": {
              "color": "#E5ECF6",
              "width": 0.5
             },
             "pattern": {
              "fillmode": "overlay",
              "size": 10,
              "solidity": 0.2
             }
            },
            "type": "barpolar"
           }
          ],
          "carpet": [
           {
            "aaxis": {
             "endlinecolor": "#2a3f5f",
             "gridcolor": "white",
             "linecolor": "white",
             "minorgridcolor": "white",
             "startlinecolor": "#2a3f5f"
            },
            "baxis": {
             "endlinecolor": "#2a3f5f",
             "gridcolor": "white",
             "linecolor": "white",
             "minorgridcolor": "white",
             "startlinecolor": "#2a3f5f"
            },
            "type": "carpet"
           }
          ],
          "choropleth": [
           {
            "colorbar": {
             "outlinewidth": 0,
             "ticks": ""
            },
            "type": "choropleth"
           }
          ],
          "contour": [
           {
            "colorbar": {
             "outlinewidth": 0,
             "ticks": ""
            },
            "colorscale": [
             [
              0,
              "#0d0887"
             ],
             [
              0.1111111111111111,
              "#46039f"
             ],
             [
              0.2222222222222222,
              "#7201a8"
             ],
             [
              0.3333333333333333,
              "#9c179e"
             ],
             [
              0.4444444444444444,
              "#bd3786"
             ],
             [
              0.5555555555555556,
              "#d8576b"
             ],
             [
              0.6666666666666666,
              "#ed7953"
             ],
             [
              0.7777777777777778,
              "#fb9f3a"
             ],
             [
              0.8888888888888888,
              "#fdca26"
             ],
             [
              1,
              "#f0f921"
             ]
            ],
            "type": "contour"
           }
          ],
          "contourcarpet": [
           {
            "colorbar": {
             "outlinewidth": 0,
             "ticks": ""
            },
            "type": "contourcarpet"
           }
          ],
          "heatmap": [
           {
            "colorbar": {
             "outlinewidth": 0,
             "ticks": ""
            },
            "colorscale": [
             [
              0,
              "#0d0887"
             ],
             [
              0.1111111111111111,
              "#46039f"
             ],
             [
              0.2222222222222222,
              "#7201a8"
             ],
             [
              0.3333333333333333,
              "#9c179e"
             ],
             [
              0.4444444444444444,
              "#bd3786"
             ],
             [
              0.5555555555555556,
              "#d8576b"
             ],
             [
              0.6666666666666666,
              "#ed7953"
             ],
             [
              0.7777777777777778,
              "#fb9f3a"
             ],
             [
              0.8888888888888888,
              "#fdca26"
             ],
             [
              1,
              "#f0f921"
             ]
            ],
            "type": "heatmap"
           }
          ],
          "heatmapgl": [
           {
            "colorbar": {
             "outlinewidth": 0,
             "ticks": ""
            },
            "colorscale": [
             [
              0,
              "#0d0887"
             ],
             [
              0.1111111111111111,
              "#46039f"
             ],
             [
              0.2222222222222222,
              "#7201a8"
             ],
             [
              0.3333333333333333,
              "#9c179e"
             ],
             [
              0.4444444444444444,
              "#bd3786"
             ],
             [
              0.5555555555555556,
              "#d8576b"
             ],
             [
              0.6666666666666666,
              "#ed7953"
             ],
             [
              0.7777777777777778,
              "#fb9f3a"
             ],
             [
              0.8888888888888888,
              "#fdca26"
             ],
             [
              1,
              "#f0f921"
             ]
            ],
            "type": "heatmapgl"
           }
          ],
          "histogram": [
           {
            "marker": {
             "pattern": {
              "fillmode": "overlay",
              "size": 10,
              "solidity": 0.2
             }
            },
            "type": "histogram"
           }
          ],
          "histogram2d": [
           {
            "colorbar": {
             "outlinewidth": 0,
             "ticks": ""
            },
            "colorscale": [
             [
              0,
              "#0d0887"
             ],
             [
              0.1111111111111111,
              "#46039f"
             ],
             [
              0.2222222222222222,
              "#7201a8"
             ],
             [
              0.3333333333333333,
              "#9c179e"
             ],
             [
              0.4444444444444444,
              "#bd3786"
             ],
             [
              0.5555555555555556,
              "#d8576b"
             ],
             [
              0.6666666666666666,
              "#ed7953"
             ],
             [
              0.7777777777777778,
              "#fb9f3a"
             ],
             [
              0.8888888888888888,
              "#fdca26"
             ],
             [
              1,
              "#f0f921"
             ]
            ],
            "type": "histogram2d"
           }
          ],
          "histogram2dcontour": [
           {
            "colorbar": {
             "outlinewidth": 0,
             "ticks": ""
            },
            "colorscale": [
             [
              0,
              "#0d0887"
             ],
             [
              0.1111111111111111,
              "#46039f"
             ],
             [
              0.2222222222222222,
              "#7201a8"
             ],
             [
              0.3333333333333333,
              "#9c179e"
             ],
             [
              0.4444444444444444,
              "#bd3786"
             ],
             [
              0.5555555555555556,
              "#d8576b"
             ],
             [
              0.6666666666666666,
              "#ed7953"
             ],
             [
              0.7777777777777778,
              "#fb9f3a"
             ],
             [
              0.8888888888888888,
              "#fdca26"
             ],
             [
              1,
              "#f0f921"
             ]
            ],
            "type": "histogram2dcontour"
           }
          ],
          "mesh3d": [
           {
            "colorbar": {
             "outlinewidth": 0,
             "ticks": ""
            },
            "type": "mesh3d"
           }
          ],
          "parcoords": [
           {
            "line": {
             "colorbar": {
              "outlinewidth": 0,
              "ticks": ""
             }
            },
            "type": "parcoords"
           }
          ],
          "pie": [
           {
            "automargin": true,
            "type": "pie"
           }
          ],
          "scatter": [
           {
            "fillpattern": {
             "fillmode": "overlay",
             "size": 10,
             "solidity": 0.2
            },
            "type": "scatter"
           }
          ],
          "scatter3d": [
           {
            "line": {
             "colorbar": {
              "outlinewidth": 0,
              "ticks": ""
             }
            },
            "marker": {
             "colorbar": {
              "outlinewidth": 0,
              "ticks": ""
             }
            },
            "type": "scatter3d"
           }
          ],
          "scattercarpet": [
           {
            "marker": {
             "colorbar": {
              "outlinewidth": 0,
              "ticks": ""
             }
            },
            "type": "scattercarpet"
           }
          ],
          "scattergeo": [
           {
            "marker": {
             "colorbar": {
              "outlinewidth": 0,
              "ticks": ""
             }
            },
            "type": "scattergeo"
           }
          ],
          "scattergl": [
           {
            "marker": {
             "colorbar": {
              "outlinewidth": 0,
              "ticks": ""
             }
            },
            "type": "scattergl"
           }
          ],
          "scattermapbox": [
           {
            "marker": {
             "colorbar": {
              "outlinewidth": 0,
              "ticks": ""
             }
            },
            "type": "scattermapbox"
           }
          ],
          "scatterpolar": [
           {
            "marker": {
             "colorbar": {
              "outlinewidth": 0,
              "ticks": ""
             }
            },
            "type": "scatterpolar"
           }
          ],
          "scatterpolargl": [
           {
            "marker": {
             "colorbar": {
              "outlinewidth": 0,
              "ticks": ""
             }
            },
            "type": "scatterpolargl"
           }
          ],
          "scatterternary": [
           {
            "marker": {
             "colorbar": {
              "outlinewidth": 0,
              "ticks": ""
             }
            },
            "type": "scatterternary"
           }
          ],
          "surface": [
           {
            "colorbar": {
             "outlinewidth": 0,
             "ticks": ""
            },
            "colorscale": [
             [
              0,
              "#0d0887"
             ],
             [
              0.1111111111111111,
              "#46039f"
             ],
             [
              0.2222222222222222,
              "#7201a8"
             ],
             [
              0.3333333333333333,
              "#9c179e"
             ],
             [
              0.4444444444444444,
              "#bd3786"
             ],
             [
              0.5555555555555556,
              "#d8576b"
             ],
             [
              0.6666666666666666,
              "#ed7953"
             ],
             [
              0.7777777777777778,
              "#fb9f3a"
             ],
             [
              0.8888888888888888,
              "#fdca26"
             ],
             [
              1,
              "#f0f921"
             ]
            ],
            "type": "surface"
           }
          ],
          "table": [
           {
            "cells": {
             "fill": {
              "color": "#EBF0F8"
             },
             "line": {
              "color": "white"
             }
            },
            "header": {
             "fill": {
              "color": "#C8D4E3"
             },
             "line": {
              "color": "white"
             }
            },
            "type": "table"
           }
          ]
         },
         "layout": {
          "annotationdefaults": {
           "arrowcolor": "#2a3f5f",
           "arrowhead": 0,
           "arrowwidth": 1
          },
          "autotypenumbers": "strict",
          "coloraxis": {
           "colorbar": {
            "outlinewidth": 0,
            "ticks": ""
           }
          },
          "colorscale": {
           "diverging": [
            [
             0,
             "#8e0152"
            ],
            [
             0.1,
             "#c51b7d"
            ],
            [
             0.2,
             "#de77ae"
            ],
            [
             0.3,
             "#f1b6da"
            ],
            [
             0.4,
             "#fde0ef"
            ],
            [
             0.5,
             "#f7f7f7"
            ],
            [
             0.6,
             "#e6f5d0"
            ],
            [
             0.7,
             "#b8e186"
            ],
            [
             0.8,
             "#7fbc41"
            ],
            [
             0.9,
             "#4d9221"
            ],
            [
             1,
             "#276419"
            ]
           ],
           "sequential": [
            [
             0,
             "#0d0887"
            ],
            [
             0.1111111111111111,
             "#46039f"
            ],
            [
             0.2222222222222222,
             "#7201a8"
            ],
            [
             0.3333333333333333,
             "#9c179e"
            ],
            [
             0.4444444444444444,
             "#bd3786"
            ],
            [
             0.5555555555555556,
             "#d8576b"
            ],
            [
             0.6666666666666666,
             "#ed7953"
            ],
            [
             0.7777777777777778,
             "#fb9f3a"
            ],
            [
             0.8888888888888888,
             "#fdca26"
            ],
            [
             1,
             "#f0f921"
            ]
           ],
           "sequentialminus": [
            [
             0,
             "#0d0887"
            ],
            [
             0.1111111111111111,
             "#46039f"
            ],
            [
             0.2222222222222222,
             "#7201a8"
            ],
            [
             0.3333333333333333,
             "#9c179e"
            ],
            [
             0.4444444444444444,
             "#bd3786"
            ],
            [
             0.5555555555555556,
             "#d8576b"
            ],
            [
             0.6666666666666666,
             "#ed7953"
            ],
            [
             0.7777777777777778,
             "#fb9f3a"
            ],
            [
             0.8888888888888888,
             "#fdca26"
            ],
            [
             1,
             "#f0f921"
            ]
           ]
          },
          "colorway": [
           "#636efa",
           "#EF553B",
           "#00cc96",
           "#ab63fa",
           "#FFA15A",
           "#19d3f3",
           "#FF6692",
           "#B6E880",
           "#FF97FF",
           "#FECB52"
          ],
          "font": {
           "color": "#2a3f5f"
          },
          "geo": {
           "bgcolor": "white",
           "lakecolor": "white",
           "landcolor": "#E5ECF6",
           "showlakes": true,
           "showland": true,
           "subunitcolor": "white"
          },
          "hoverlabel": {
           "align": "left"
          },
          "hovermode": "closest",
          "mapbox": {
           "style": "light"
          },
          "paper_bgcolor": "white",
          "plot_bgcolor": "#E5ECF6",
          "polar": {
           "angularaxis": {
            "gridcolor": "white",
            "linecolor": "white",
            "ticks": ""
           },
           "bgcolor": "#E5ECF6",
           "radialaxis": {
            "gridcolor": "white",
            "linecolor": "white",
            "ticks": ""
           }
          },
          "scene": {
           "xaxis": {
            "backgroundcolor": "#E5ECF6",
            "gridcolor": "white",
            "gridwidth": 2,
            "linecolor": "white",
            "showbackground": true,
            "ticks": "",
            "zerolinecolor": "white"
           },
           "yaxis": {
            "backgroundcolor": "#E5ECF6",
            "gridcolor": "white",
            "gridwidth": 2,
            "linecolor": "white",
            "showbackground": true,
            "ticks": "",
            "zerolinecolor": "white"
           },
           "zaxis": {
            "backgroundcolor": "#E5ECF6",
            "gridcolor": "white",
            "gridwidth": 2,
            "linecolor": "white",
            "showbackground": true,
            "ticks": "",
            "zerolinecolor": "white"
           }
          },
          "shapedefaults": {
           "line": {
            "color": "#2a3f5f"
           }
          },
          "ternary": {
           "aaxis": {
            "gridcolor": "white",
            "linecolor": "white",
            "ticks": ""
           },
           "baxis": {
            "gridcolor": "white",
            "linecolor": "white",
            "ticks": ""
           },
           "bgcolor": "#E5ECF6",
           "caxis": {
            "gridcolor": "white",
            "linecolor": "white",
            "ticks": ""
           }
          },
          "title": {
           "x": 0.05
          },
          "xaxis": {
           "automargin": true,
           "gridcolor": "white",
           "linecolor": "white",
           "ticks": "",
           "title": {
            "standoff": 15
           },
           "zerolinecolor": "white",
           "zerolinewidth": 2
          },
          "yaxis": {
           "automargin": true,
           "gridcolor": "white",
           "linecolor": "white",
           "ticks": "",
           "title": {
            "standoff": 15
           },
           "zerolinecolor": "white",
           "zerolinewidth": 2
          }
         }
        },
        "title": {
         "text": "Product - Avarage Rating Distribution"
        },
        "xaxis": {
         "title": {
          "text": "Alexa Product"
         }
        },
        "yaxis": {
         "title": {
          "text": "Average Rating"
         }
        }
       }
      },
      "text/html": [
       "<div>                            <div id=\"d1977283-8d85-49be-bf21-dde9e2c63661\" class=\"plotly-graph-div\" style=\"height:525px; width:100%;\"></div>            <script type=\"text/javascript\">                require([\"plotly\"], function(Plotly) {                    window.PLOTLYENV=window.PLOTLYENV || {};                                    if (document.getElementById(\"d1977283-8d85-49be-bf21-dde9e2c63661\")) {                    Plotly.newPlot(                        \"d1977283-8d85-49be-bf21-dde9e2c63661\",                        [{\"marker\":{\"line\":{\"color\":\"black\",\"width\":2}},\"x\":[\"Black\",\"Black  Dot\",\"Black  Plus\",\"Black  Show\",\"Black  Spot\",\"Charcoal Fabric \",\"Configuration: Fire TV Stick\",\"Heather Gray Fabric \",\"Oak Finish \",\"Sandstone Fabric \",\"Walnut Finish \",\"White\",\"White  Dot\",\"White  Plus\",\"White  Show\",\"White  Spot\"],\"y\":[4.233716475095785,4.453488372093023,4.37037037037037,4.490566037735849,4.3112033195020745,4.730232558139535,4.591428571428572,4.694267515923567,4.857142857142857,4.355555555555555,4.888888888888889,4.142857142857143,4.423913043478261,4.358974358974359,4.2823529411764705,4.3119266055045875],\"type\":\"bar\"}],                        {\"template\":{\"data\":{\"barpolar\":[{\"marker\":{\"line\":{\"color\":\"#E5ECF6\",\"width\":0.5},\"pattern\":{\"fillmode\":\"overlay\",\"size\":10,\"solidity\":0.2}},\"type\":\"barpolar\"}],\"bar\":[{\"error_x\":{\"color\":\"#2a3f5f\"},\"error_y\":{\"color\":\"#2a3f5f\"},\"marker\":{\"line\":{\"color\":\"#E5ECF6\",\"width\":0.5},\"pattern\":{\"fillmode\":\"overlay\",\"size\":10,\"solidity\":0.2}},\"type\":\"bar\"}],\"carpet\":[{\"aaxis\":{\"endlinecolor\":\"#2a3f5f\",\"gridcolor\":\"white\",\"linecolor\":\"white\",\"minorgridcolor\":\"white\",\"startlinecolor\":\"#2a3f5f\"},\"baxis\":{\"endlinecolor\":\"#2a3f5f\",\"gridcolor\":\"white\",\"linecolor\":\"white\",\"minorgridcolor\":\"white\",\"startlinecolor\":\"#2a3f5f\"},\"type\":\"carpet\"}],\"choropleth\":[{\"colorbar\":{\"outlinewidth\":0,\"ticks\":\"\"},\"type\":\"choropleth\"}],\"contourcarpet\":[{\"colorbar\":{\"outlinewidth\":0,\"ticks\":\"\"},\"type\":\"contourcarpet\"}],\"contour\":[{\"colorbar\":{\"outlinewidth\":0,\"ticks\":\"\"},\"colorscale\":[[0.0,\"#0d0887\"],[0.1111111111111111,\"#46039f\"],[0.2222222222222222,\"#7201a8\"],[0.3333333333333333,\"#9c179e\"],[0.4444444444444444,\"#bd3786\"],[0.5555555555555556,\"#d8576b\"],[0.6666666666666666,\"#ed7953\"],[0.7777777777777778,\"#fb9f3a\"],[0.8888888888888888,\"#fdca26\"],[1.0,\"#f0f921\"]],\"type\":\"contour\"}],\"heatmapgl\":[{\"colorbar\":{\"outlinewidth\":0,\"ticks\":\"\"},\"colorscale\":[[0.0,\"#0d0887\"],[0.1111111111111111,\"#46039f\"],[0.2222222222222222,\"#7201a8\"],[0.3333333333333333,\"#9c179e\"],[0.4444444444444444,\"#bd3786\"],[0.5555555555555556,\"#d8576b\"],[0.6666666666666666,\"#ed7953\"],[0.7777777777777778,\"#fb9f3a\"],[0.8888888888888888,\"#fdca26\"],[1.0,\"#f0f921\"]],\"type\":\"heatmapgl\"}],\"heatmap\":[{\"colorbar\":{\"outlinewidth\":0,\"ticks\":\"\"},\"colorscale\":[[0.0,\"#0d0887\"],[0.1111111111111111,\"#46039f\"],[0.2222222222222222,\"#7201a8\"],[0.3333333333333333,\"#9c179e\"],[0.4444444444444444,\"#bd3786\"],[0.5555555555555556,\"#d8576b\"],[0.6666666666666666,\"#ed7953\"],[0.7777777777777778,\"#fb9f3a\"],[0.8888888888888888,\"#fdca26\"],[1.0,\"#f0f921\"]],\"type\":\"heatmap\"}],\"histogram2dcontour\":[{\"colorbar\":{\"outlinewidth\":0,\"ticks\":\"\"},\"colorscale\":[[0.0,\"#0d0887\"],[0.1111111111111111,\"#46039f\"],[0.2222222222222222,\"#7201a8\"],[0.3333333333333333,\"#9c179e\"],[0.4444444444444444,\"#bd3786\"],[0.5555555555555556,\"#d8576b\"],[0.6666666666666666,\"#ed7953\"],[0.7777777777777778,\"#fb9f3a\"],[0.8888888888888888,\"#fdca26\"],[1.0,\"#f0f921\"]],\"type\":\"histogram2dcontour\"}],\"histogram2d\":[{\"colorbar\":{\"outlinewidth\":0,\"ticks\":\"\"},\"colorscale\":[[0.0,\"#0d0887\"],[0.1111111111111111,\"#46039f\"],[0.2222222222222222,\"#7201a8\"],[0.3333333333333333,\"#9c179e\"],[0.4444444444444444,\"#bd3786\"],[0.5555555555555556,\"#d8576b\"],[0.6666666666666666,\"#ed7953\"],[0.7777777777777778,\"#fb9f3a\"],[0.8888888888888888,\"#fdca26\"],[1.0,\"#f0f921\"]],\"type\":\"histogram2d\"}],\"histogram\":[{\"marker\":{\"pattern\":{\"fillmode\":\"overlay\",\"size\":10,\"solidity\":0.2}},\"type\":\"histogram\"}],\"mesh3d\":[{\"colorbar\":{\"outlinewidth\":0,\"ticks\":\"\"},\"type\":\"mesh3d\"}],\"parcoords\":[{\"line\":{\"colorbar\":{\"outlinewidth\":0,\"ticks\":\"\"}},\"type\":\"parcoords\"}],\"pie\":[{\"automargin\":true,\"type\":\"pie\"}],\"scatter3d\":[{\"line\":{\"colorbar\":{\"outlinewidth\":0,\"ticks\":\"\"}},\"marker\":{\"colorbar\":{\"outlinewidth\":0,\"ticks\":\"\"}},\"type\":\"scatter3d\"}],\"scattercarpet\":[{\"marker\":{\"colorbar\":{\"outlinewidth\":0,\"ticks\":\"\"}},\"type\":\"scattercarpet\"}],\"scattergeo\":[{\"marker\":{\"colorbar\":{\"outlinewidth\":0,\"ticks\":\"\"}},\"type\":\"scattergeo\"}],\"scattergl\":[{\"marker\":{\"colorbar\":{\"outlinewidth\":0,\"ticks\":\"\"}},\"type\":\"scattergl\"}],\"scattermapbox\":[{\"marker\":{\"colorbar\":{\"outlinewidth\":0,\"ticks\":\"\"}},\"type\":\"scattermapbox\"}],\"scatterpolargl\":[{\"marker\":{\"colorbar\":{\"outlinewidth\":0,\"ticks\":\"\"}},\"type\":\"scatterpolargl\"}],\"scatterpolar\":[{\"marker\":{\"colorbar\":{\"outlinewidth\":0,\"ticks\":\"\"}},\"type\":\"scatterpolar\"}],\"scatter\":[{\"fillpattern\":{\"fillmode\":\"overlay\",\"size\":10,\"solidity\":0.2},\"type\":\"scatter\"}],\"scatterternary\":[{\"marker\":{\"colorbar\":{\"outlinewidth\":0,\"ticks\":\"\"}},\"type\":\"scatterternary\"}],\"surface\":[{\"colorbar\":{\"outlinewidth\":0,\"ticks\":\"\"},\"colorscale\":[[0.0,\"#0d0887\"],[0.1111111111111111,\"#46039f\"],[0.2222222222222222,\"#7201a8\"],[0.3333333333333333,\"#9c179e\"],[0.4444444444444444,\"#bd3786\"],[0.5555555555555556,\"#d8576b\"],[0.6666666666666666,\"#ed7953\"],[0.7777777777777778,\"#fb9f3a\"],[0.8888888888888888,\"#fdca26\"],[1.0,\"#f0f921\"]],\"type\":\"surface\"}],\"table\":[{\"cells\":{\"fill\":{\"color\":\"#EBF0F8\"},\"line\":{\"color\":\"white\"}},\"header\":{\"fill\":{\"color\":\"#C8D4E3\"},\"line\":{\"color\":\"white\"}},\"type\":\"table\"}]},\"layout\":{\"annotationdefaults\":{\"arrowcolor\":\"#2a3f5f\",\"arrowhead\":0,\"arrowwidth\":1},\"autotypenumbers\":\"strict\",\"coloraxis\":{\"colorbar\":{\"outlinewidth\":0,\"ticks\":\"\"}},\"colorscale\":{\"diverging\":[[0,\"#8e0152\"],[0.1,\"#c51b7d\"],[0.2,\"#de77ae\"],[0.3,\"#f1b6da\"],[0.4,\"#fde0ef\"],[0.5,\"#f7f7f7\"],[0.6,\"#e6f5d0\"],[0.7,\"#b8e186\"],[0.8,\"#7fbc41\"],[0.9,\"#4d9221\"],[1,\"#276419\"]],\"sequential\":[[0.0,\"#0d0887\"],[0.1111111111111111,\"#46039f\"],[0.2222222222222222,\"#7201a8\"],[0.3333333333333333,\"#9c179e\"],[0.4444444444444444,\"#bd3786\"],[0.5555555555555556,\"#d8576b\"],[0.6666666666666666,\"#ed7953\"],[0.7777777777777778,\"#fb9f3a\"],[0.8888888888888888,\"#fdca26\"],[1.0,\"#f0f921\"]],\"sequentialminus\":[[0.0,\"#0d0887\"],[0.1111111111111111,\"#46039f\"],[0.2222222222222222,\"#7201a8\"],[0.3333333333333333,\"#9c179e\"],[0.4444444444444444,\"#bd3786\"],[0.5555555555555556,\"#d8576b\"],[0.6666666666666666,\"#ed7953\"],[0.7777777777777778,\"#fb9f3a\"],[0.8888888888888888,\"#fdca26\"],[1.0,\"#f0f921\"]]},\"colorway\":[\"#636efa\",\"#EF553B\",\"#00cc96\",\"#ab63fa\",\"#FFA15A\",\"#19d3f3\",\"#FF6692\",\"#B6E880\",\"#FF97FF\",\"#FECB52\"],\"font\":{\"color\":\"#2a3f5f\"},\"geo\":{\"bgcolor\":\"white\",\"lakecolor\":\"white\",\"landcolor\":\"#E5ECF6\",\"showlakes\":true,\"showland\":true,\"subunitcolor\":\"white\"},\"hoverlabel\":{\"align\":\"left\"},\"hovermode\":\"closest\",\"mapbox\":{\"style\":\"light\"},\"paper_bgcolor\":\"white\",\"plot_bgcolor\":\"#E5ECF6\",\"polar\":{\"angularaxis\":{\"gridcolor\":\"white\",\"linecolor\":\"white\",\"ticks\":\"\"},\"bgcolor\":\"#E5ECF6\",\"radialaxis\":{\"gridcolor\":\"white\",\"linecolor\":\"white\",\"ticks\":\"\"}},\"scene\":{\"xaxis\":{\"backgroundcolor\":\"#E5ECF6\",\"gridcolor\":\"white\",\"gridwidth\":2,\"linecolor\":\"white\",\"showbackground\":true,\"ticks\":\"\",\"zerolinecolor\":\"white\"},\"yaxis\":{\"backgroundcolor\":\"#E5ECF6\",\"gridcolor\":\"white\",\"gridwidth\":2,\"linecolor\":\"white\",\"showbackground\":true,\"ticks\":\"\",\"zerolinecolor\":\"white\"},\"zaxis\":{\"backgroundcolor\":\"#E5ECF6\",\"gridcolor\":\"white\",\"gridwidth\":2,\"linecolor\":\"white\",\"showbackground\":true,\"ticks\":\"\",\"zerolinecolor\":\"white\"}},\"shapedefaults\":{\"line\":{\"color\":\"#2a3f5f\"}},\"ternary\":{\"aaxis\":{\"gridcolor\":\"white\",\"linecolor\":\"white\",\"ticks\":\"\"},\"baxis\":{\"gridcolor\":\"white\",\"linecolor\":\"white\",\"ticks\":\"\"},\"bgcolor\":\"#E5ECF6\",\"caxis\":{\"gridcolor\":\"white\",\"linecolor\":\"white\",\"ticks\":\"\"}},\"title\":{\"x\":0.05},\"xaxis\":{\"automargin\":true,\"gridcolor\":\"white\",\"linecolor\":\"white\",\"ticks\":\"\",\"title\":{\"standoff\":15},\"zerolinecolor\":\"white\",\"zerolinewidth\":2},\"yaxis\":{\"automargin\":true,\"gridcolor\":\"white\",\"linecolor\":\"white\",\"ticks\":\"\",\"title\":{\"standoff\":15},\"zerolinecolor\":\"white\",\"zerolinewidth\":2}}},\"title\":{\"text\":\"Product - Avarage Rating Distribution\"},\"xaxis\":{\"title\":{\"text\":\"Alexa Product\"}},\"yaxis\":{\"title\":{\"text\":\"Average Rating\"}}},                        {\"responsive\": true}                    ).then(function(){\n",
       "                            \n",
       "var gd = document.getElementById('d1977283-8d85-49be-bf21-dde9e2c63661');\n",
       "var x = new MutationObserver(function (mutations, observer) {{\n",
       "        var display = window.getComputedStyle(gd).display;\n",
       "        if (!display || display === 'none') {{\n",
       "            console.log([gd, 'removed!']);\n",
       "            Plotly.purge(gd);\n",
       "            observer.disconnect();\n",
       "        }}\n",
       "}});\n",
       "\n",
       "// Listen for the removal of the full notebook cells\n",
       "var notebookContainer = gd.closest('#notebook-container');\n",
       "if (notebookContainer) {{\n",
       "    x.observe(notebookContainer, {childList: true});\n",
       "}}\n",
       "\n",
       "// Listen for the clearing of the current output cell\n",
       "var outputEl = gd.closest('.output');\n",
       "if (outputEl) {{\n",
       "    x.observe(outputEl, {childList: true});\n",
       "}}\n",
       "\n",
       "                        })                };                });            </script>        </div>"
      ]
     },
     "metadata": {},
     "output_type": "display_data"
    }
   ],
   "source": [
    "# AVERAGE VOTES OF THE PRODUCTS \n",
    "rating = df.groupby('variation').agg({\"rating\":\"mean\"})\n",
    "rating['variation'] = rating.index\n",
    "rating.reset_index(drop=True)\n",
    "\n",
    "trace = go.Bar(x=rating['variation'], y=rating['rating'])\n",
    "\n",
    "layout = go.Layout(yaxis=dict(title='Average Rating'),\n",
    "                   xaxis=dict(title='Alexa Product'),title='Product - Avarage Rating Distribution')\n",
    "\n",
    "fig = go.Figure(data=trace, layout=layout)\n",
    "fig.data[0].marker.line.width = 2\n",
    "fig.data[0].marker.line.color = \"black\"\n",
    "py.iplot(fig)"
   ]
  },
  {
   "cell_type": "code",
   "execution_count": 147,
   "id": "0f5b29f8",
   "metadata": {},
   "outputs": [
    {
     "data": {
      "application/vnd.plotly.v1+json": {
       "config": {
        "linkText": "Export to plot.ly",
        "plotlyServerURL": "https://plot.ly",
        "showLink": false
       },
       "data": [
        {
         "marker": {
          "line": {
           "color": "black",
           "width": 2
          }
         },
         "name": "Quantity",
         "type": "bar",
         "x": [
          5,
          4,
          1,
          3,
          2
         ],
         "y": [
          2286,
          455,
          161,
          152,
          96
         ]
        }
       ],
       "layout": {
        "template": {
         "data": {
          "bar": [
           {
            "error_x": {
             "color": "#2a3f5f"
            },
            "error_y": {
             "color": "#2a3f5f"
            },
            "marker": {
             "line": {
              "color": "#E5ECF6",
              "width": 0.5
             },
             "pattern": {
              "fillmode": "overlay",
              "size": 10,
              "solidity": 0.2
             }
            },
            "type": "bar"
           }
          ],
          "barpolar": [
           {
            "marker": {
             "line": {
              "color": "#E5ECF6",
              "width": 0.5
             },
             "pattern": {
              "fillmode": "overlay",
              "size": 10,
              "solidity": 0.2
             }
            },
            "type": "barpolar"
           }
          ],
          "carpet": [
           {
            "aaxis": {
             "endlinecolor": "#2a3f5f",
             "gridcolor": "white",
             "linecolor": "white",
             "minorgridcolor": "white",
             "startlinecolor": "#2a3f5f"
            },
            "baxis": {
             "endlinecolor": "#2a3f5f",
             "gridcolor": "white",
             "linecolor": "white",
             "minorgridcolor": "white",
             "startlinecolor": "#2a3f5f"
            },
            "type": "carpet"
           }
          ],
          "choropleth": [
           {
            "colorbar": {
             "outlinewidth": 0,
             "ticks": ""
            },
            "type": "choropleth"
           }
          ],
          "contour": [
           {
            "colorbar": {
             "outlinewidth": 0,
             "ticks": ""
            },
            "colorscale": [
             [
              0,
              "#0d0887"
             ],
             [
              0.1111111111111111,
              "#46039f"
             ],
             [
              0.2222222222222222,
              "#7201a8"
             ],
             [
              0.3333333333333333,
              "#9c179e"
             ],
             [
              0.4444444444444444,
              "#bd3786"
             ],
             [
              0.5555555555555556,
              "#d8576b"
             ],
             [
              0.6666666666666666,
              "#ed7953"
             ],
             [
              0.7777777777777778,
              "#fb9f3a"
             ],
             [
              0.8888888888888888,
              "#fdca26"
             ],
             [
              1,
              "#f0f921"
             ]
            ],
            "type": "contour"
           }
          ],
          "contourcarpet": [
           {
            "colorbar": {
             "outlinewidth": 0,
             "ticks": ""
            },
            "type": "contourcarpet"
           }
          ],
          "heatmap": [
           {
            "colorbar": {
             "outlinewidth": 0,
             "ticks": ""
            },
            "colorscale": [
             [
              0,
              "#0d0887"
             ],
             [
              0.1111111111111111,
              "#46039f"
             ],
             [
              0.2222222222222222,
              "#7201a8"
             ],
             [
              0.3333333333333333,
              "#9c179e"
             ],
             [
              0.4444444444444444,
              "#bd3786"
             ],
             [
              0.5555555555555556,
              "#d8576b"
             ],
             [
              0.6666666666666666,
              "#ed7953"
             ],
             [
              0.7777777777777778,
              "#fb9f3a"
             ],
             [
              0.8888888888888888,
              "#fdca26"
             ],
             [
              1,
              "#f0f921"
             ]
            ],
            "type": "heatmap"
           }
          ],
          "heatmapgl": [
           {
            "colorbar": {
             "outlinewidth": 0,
             "ticks": ""
            },
            "colorscale": [
             [
              0,
              "#0d0887"
             ],
             [
              0.1111111111111111,
              "#46039f"
             ],
             [
              0.2222222222222222,
              "#7201a8"
             ],
             [
              0.3333333333333333,
              "#9c179e"
             ],
             [
              0.4444444444444444,
              "#bd3786"
             ],
             [
              0.5555555555555556,
              "#d8576b"
             ],
             [
              0.6666666666666666,
              "#ed7953"
             ],
             [
              0.7777777777777778,
              "#fb9f3a"
             ],
             [
              0.8888888888888888,
              "#fdca26"
             ],
             [
              1,
              "#f0f921"
             ]
            ],
            "type": "heatmapgl"
           }
          ],
          "histogram": [
           {
            "marker": {
             "pattern": {
              "fillmode": "overlay",
              "size": 10,
              "solidity": 0.2
             }
            },
            "type": "histogram"
           }
          ],
          "histogram2d": [
           {
            "colorbar": {
             "outlinewidth": 0,
             "ticks": ""
            },
            "colorscale": [
             [
              0,
              "#0d0887"
             ],
             [
              0.1111111111111111,
              "#46039f"
             ],
             [
              0.2222222222222222,
              "#7201a8"
             ],
             [
              0.3333333333333333,
              "#9c179e"
             ],
             [
              0.4444444444444444,
              "#bd3786"
             ],
             [
              0.5555555555555556,
              "#d8576b"
             ],
             [
              0.6666666666666666,
              "#ed7953"
             ],
             [
              0.7777777777777778,
              "#fb9f3a"
             ],
             [
              0.8888888888888888,
              "#fdca26"
             ],
             [
              1,
              "#f0f921"
             ]
            ],
            "type": "histogram2d"
           }
          ],
          "histogram2dcontour": [
           {
            "colorbar": {
             "outlinewidth": 0,
             "ticks": ""
            },
            "colorscale": [
             [
              0,
              "#0d0887"
             ],
             [
              0.1111111111111111,
              "#46039f"
             ],
             [
              0.2222222222222222,
              "#7201a8"
             ],
             [
              0.3333333333333333,
              "#9c179e"
             ],
             [
              0.4444444444444444,
              "#bd3786"
             ],
             [
              0.5555555555555556,
              "#d8576b"
             ],
             [
              0.6666666666666666,
              "#ed7953"
             ],
             [
              0.7777777777777778,
              "#fb9f3a"
             ],
             [
              0.8888888888888888,
              "#fdca26"
             ],
             [
              1,
              "#f0f921"
             ]
            ],
            "type": "histogram2dcontour"
           }
          ],
          "mesh3d": [
           {
            "colorbar": {
             "outlinewidth": 0,
             "ticks": ""
            },
            "type": "mesh3d"
           }
          ],
          "parcoords": [
           {
            "line": {
             "colorbar": {
              "outlinewidth": 0,
              "ticks": ""
             }
            },
            "type": "parcoords"
           }
          ],
          "pie": [
           {
            "automargin": true,
            "type": "pie"
           }
          ],
          "scatter": [
           {
            "fillpattern": {
             "fillmode": "overlay",
             "size": 10,
             "solidity": 0.2
            },
            "type": "scatter"
           }
          ],
          "scatter3d": [
           {
            "line": {
             "colorbar": {
              "outlinewidth": 0,
              "ticks": ""
             }
            },
            "marker": {
             "colorbar": {
              "outlinewidth": 0,
              "ticks": ""
             }
            },
            "type": "scatter3d"
           }
          ],
          "scattercarpet": [
           {
            "marker": {
             "colorbar": {
              "outlinewidth": 0,
              "ticks": ""
             }
            },
            "type": "scattercarpet"
           }
          ],
          "scattergeo": [
           {
            "marker": {
             "colorbar": {
              "outlinewidth": 0,
              "ticks": ""
             }
            },
            "type": "scattergeo"
           }
          ],
          "scattergl": [
           {
            "marker": {
             "colorbar": {
              "outlinewidth": 0,
              "ticks": ""
             }
            },
            "type": "scattergl"
           }
          ],
          "scattermapbox": [
           {
            "marker": {
             "colorbar": {
              "outlinewidth": 0,
              "ticks": ""
             }
            },
            "type": "scattermapbox"
           }
          ],
          "scatterpolar": [
           {
            "marker": {
             "colorbar": {
              "outlinewidth": 0,
              "ticks": ""
             }
            },
            "type": "scatterpolar"
           }
          ],
          "scatterpolargl": [
           {
            "marker": {
             "colorbar": {
              "outlinewidth": 0,
              "ticks": ""
             }
            },
            "type": "scatterpolargl"
           }
          ],
          "scatterternary": [
           {
            "marker": {
             "colorbar": {
              "outlinewidth": 0,
              "ticks": ""
             }
            },
            "type": "scatterternary"
           }
          ],
          "surface": [
           {
            "colorbar": {
             "outlinewidth": 0,
             "ticks": ""
            },
            "colorscale": [
             [
              0,
              "#0d0887"
             ],
             [
              0.1111111111111111,
              "#46039f"
             ],
             [
              0.2222222222222222,
              "#7201a8"
             ],
             [
              0.3333333333333333,
              "#9c179e"
             ],
             [
              0.4444444444444444,
              "#bd3786"
             ],
             [
              0.5555555555555556,
              "#d8576b"
             ],
             [
              0.6666666666666666,
              "#ed7953"
             ],
             [
              0.7777777777777778,
              "#fb9f3a"
             ],
             [
              0.8888888888888888,
              "#fdca26"
             ],
             [
              1,
              "#f0f921"
             ]
            ],
            "type": "surface"
           }
          ],
          "table": [
           {
            "cells": {
             "fill": {
              "color": "#EBF0F8"
             },
             "line": {
              "color": "white"
             }
            },
            "header": {
             "fill": {
              "color": "#C8D4E3"
             },
             "line": {
              "color": "white"
             }
            },
            "type": "table"
           }
          ]
         },
         "layout": {
          "annotationdefaults": {
           "arrowcolor": "#2a3f5f",
           "arrowhead": 0,
           "arrowwidth": 1
          },
          "autotypenumbers": "strict",
          "coloraxis": {
           "colorbar": {
            "outlinewidth": 0,
            "ticks": ""
           }
          },
          "colorscale": {
           "diverging": [
            [
             0,
             "#8e0152"
            ],
            [
             0.1,
             "#c51b7d"
            ],
            [
             0.2,
             "#de77ae"
            ],
            [
             0.3,
             "#f1b6da"
            ],
            [
             0.4,
             "#fde0ef"
            ],
            [
             0.5,
             "#f7f7f7"
            ],
            [
             0.6,
             "#e6f5d0"
            ],
            [
             0.7,
             "#b8e186"
            ],
            [
             0.8,
             "#7fbc41"
            ],
            [
             0.9,
             "#4d9221"
            ],
            [
             1,
             "#276419"
            ]
           ],
           "sequential": [
            [
             0,
             "#0d0887"
            ],
            [
             0.1111111111111111,
             "#46039f"
            ],
            [
             0.2222222222222222,
             "#7201a8"
            ],
            [
             0.3333333333333333,
             "#9c179e"
            ],
            [
             0.4444444444444444,
             "#bd3786"
            ],
            [
             0.5555555555555556,
             "#d8576b"
            ],
            [
             0.6666666666666666,
             "#ed7953"
            ],
            [
             0.7777777777777778,
             "#fb9f3a"
            ],
            [
             0.8888888888888888,
             "#fdca26"
            ],
            [
             1,
             "#f0f921"
            ]
           ],
           "sequentialminus": [
            [
             0,
             "#0d0887"
            ],
            [
             0.1111111111111111,
             "#46039f"
            ],
            [
             0.2222222222222222,
             "#7201a8"
            ],
            [
             0.3333333333333333,
             "#9c179e"
            ],
            [
             0.4444444444444444,
             "#bd3786"
            ],
            [
             0.5555555555555556,
             "#d8576b"
            ],
            [
             0.6666666666666666,
             "#ed7953"
            ],
            [
             0.7777777777777778,
             "#fb9f3a"
            ],
            [
             0.8888888888888888,
             "#fdca26"
            ],
            [
             1,
             "#f0f921"
            ]
           ]
          },
          "colorway": [
           "#636efa",
           "#EF553B",
           "#00cc96",
           "#ab63fa",
           "#FFA15A",
           "#19d3f3",
           "#FF6692",
           "#B6E880",
           "#FF97FF",
           "#FECB52"
          ],
          "font": {
           "color": "#2a3f5f"
          },
          "geo": {
           "bgcolor": "white",
           "lakecolor": "white",
           "landcolor": "#E5ECF6",
           "showlakes": true,
           "showland": true,
           "subunitcolor": "white"
          },
          "hoverlabel": {
           "align": "left"
          },
          "hovermode": "closest",
          "mapbox": {
           "style": "light"
          },
          "paper_bgcolor": "white",
          "plot_bgcolor": "#E5ECF6",
          "polar": {
           "angularaxis": {
            "gridcolor": "white",
            "linecolor": "white",
            "ticks": ""
           },
           "bgcolor": "#E5ECF6",
           "radialaxis": {
            "gridcolor": "white",
            "linecolor": "white",
            "ticks": ""
           }
          },
          "scene": {
           "xaxis": {
            "backgroundcolor": "#E5ECF6",
            "gridcolor": "white",
            "gridwidth": 2,
            "linecolor": "white",
            "showbackground": true,
            "ticks": "",
            "zerolinecolor": "white"
           },
           "yaxis": {
            "backgroundcolor": "#E5ECF6",
            "gridcolor": "white",
            "gridwidth": 2,
            "linecolor": "white",
            "showbackground": true,
            "ticks": "",
            "zerolinecolor": "white"
           },
           "zaxis": {
            "backgroundcolor": "#E5ECF6",
            "gridcolor": "white",
            "gridwidth": 2,
            "linecolor": "white",
            "showbackground": true,
            "ticks": "",
            "zerolinecolor": "white"
           }
          },
          "shapedefaults": {
           "line": {
            "color": "#2a3f5f"
           }
          },
          "ternary": {
           "aaxis": {
            "gridcolor": "white",
            "linecolor": "white",
            "ticks": ""
           },
           "baxis": {
            "gridcolor": "white",
            "linecolor": "white",
            "ticks": ""
           },
           "bgcolor": "#E5ECF6",
           "caxis": {
            "gridcolor": "white",
            "linecolor": "white",
            "ticks": ""
           }
          },
          "title": {
           "x": 0.05
          },
          "xaxis": {
           "automargin": true,
           "gridcolor": "white",
           "linecolor": "white",
           "ticks": "",
           "title": {
            "standoff": 15
           },
           "zerolinecolor": "white",
           "zerolinewidth": 2
          },
          "yaxis": {
           "automargin": true,
           "gridcolor": "white",
           "linecolor": "white",
           "ticks": "",
           "title": {
            "standoff": 15
           },
           "zerolinecolor": "white",
           "zerolinewidth": 2
          }
         }
        },
        "title": {
         "text": "# of Votes Quantity"
        },
        "xaxis": {
         "title": {
          "text": "Ratings"
         }
        },
        "yaxis": {
         "title": {
          "text": "Quantity"
         }
        }
       }
      },
      "text/html": [
       "<div>                            <div id=\"31b4b261-3997-4e3a-ae50-84c19eba811c\" class=\"plotly-graph-div\" style=\"height:525px; width:100%;\"></div>            <script type=\"text/javascript\">                require([\"plotly\"], function(Plotly) {                    window.PLOTLYENV=window.PLOTLYENV || {};                                    if (document.getElementById(\"31b4b261-3997-4e3a-ae50-84c19eba811c\")) {                    Plotly.newPlot(                        \"31b4b261-3997-4e3a-ae50-84c19eba811c\",                        [{\"marker\":{\"line\":{\"color\":\"black\",\"width\":2}},\"name\":\"Quantity\",\"x\":[5,4,1,3,2],\"y\":[2286,455,161,152,96],\"type\":\"bar\"}],                        {\"template\":{\"data\":{\"barpolar\":[{\"marker\":{\"line\":{\"color\":\"#E5ECF6\",\"width\":0.5},\"pattern\":{\"fillmode\":\"overlay\",\"size\":10,\"solidity\":0.2}},\"type\":\"barpolar\"}],\"bar\":[{\"error_x\":{\"color\":\"#2a3f5f\"},\"error_y\":{\"color\":\"#2a3f5f\"},\"marker\":{\"line\":{\"color\":\"#E5ECF6\",\"width\":0.5},\"pattern\":{\"fillmode\":\"overlay\",\"size\":10,\"solidity\":0.2}},\"type\":\"bar\"}],\"carpet\":[{\"aaxis\":{\"endlinecolor\":\"#2a3f5f\",\"gridcolor\":\"white\",\"linecolor\":\"white\",\"minorgridcolor\":\"white\",\"startlinecolor\":\"#2a3f5f\"},\"baxis\":{\"endlinecolor\":\"#2a3f5f\",\"gridcolor\":\"white\",\"linecolor\":\"white\",\"minorgridcolor\":\"white\",\"startlinecolor\":\"#2a3f5f\"},\"type\":\"carpet\"}],\"choropleth\":[{\"colorbar\":{\"outlinewidth\":0,\"ticks\":\"\"},\"type\":\"choropleth\"}],\"contourcarpet\":[{\"colorbar\":{\"outlinewidth\":0,\"ticks\":\"\"},\"type\":\"contourcarpet\"}],\"contour\":[{\"colorbar\":{\"outlinewidth\":0,\"ticks\":\"\"},\"colorscale\":[[0.0,\"#0d0887\"],[0.1111111111111111,\"#46039f\"],[0.2222222222222222,\"#7201a8\"],[0.3333333333333333,\"#9c179e\"],[0.4444444444444444,\"#bd3786\"],[0.5555555555555556,\"#d8576b\"],[0.6666666666666666,\"#ed7953\"],[0.7777777777777778,\"#fb9f3a\"],[0.8888888888888888,\"#fdca26\"],[1.0,\"#f0f921\"]],\"type\":\"contour\"}],\"heatmapgl\":[{\"colorbar\":{\"outlinewidth\":0,\"ticks\":\"\"},\"colorscale\":[[0.0,\"#0d0887\"],[0.1111111111111111,\"#46039f\"],[0.2222222222222222,\"#7201a8\"],[0.3333333333333333,\"#9c179e\"],[0.4444444444444444,\"#bd3786\"],[0.5555555555555556,\"#d8576b\"],[0.6666666666666666,\"#ed7953\"],[0.7777777777777778,\"#fb9f3a\"],[0.8888888888888888,\"#fdca26\"],[1.0,\"#f0f921\"]],\"type\":\"heatmapgl\"}],\"heatmap\":[{\"colorbar\":{\"outlinewidth\":0,\"ticks\":\"\"},\"colorscale\":[[0.0,\"#0d0887\"],[0.1111111111111111,\"#46039f\"],[0.2222222222222222,\"#7201a8\"],[0.3333333333333333,\"#9c179e\"],[0.4444444444444444,\"#bd3786\"],[0.5555555555555556,\"#d8576b\"],[0.6666666666666666,\"#ed7953\"],[0.7777777777777778,\"#fb9f3a\"],[0.8888888888888888,\"#fdca26\"],[1.0,\"#f0f921\"]],\"type\":\"heatmap\"}],\"histogram2dcontour\":[{\"colorbar\":{\"outlinewidth\":0,\"ticks\":\"\"},\"colorscale\":[[0.0,\"#0d0887\"],[0.1111111111111111,\"#46039f\"],[0.2222222222222222,\"#7201a8\"],[0.3333333333333333,\"#9c179e\"],[0.4444444444444444,\"#bd3786\"],[0.5555555555555556,\"#d8576b\"],[0.6666666666666666,\"#ed7953\"],[0.7777777777777778,\"#fb9f3a\"],[0.8888888888888888,\"#fdca26\"],[1.0,\"#f0f921\"]],\"type\":\"histogram2dcontour\"}],\"histogram2d\":[{\"colorbar\":{\"outlinewidth\":0,\"ticks\":\"\"},\"colorscale\":[[0.0,\"#0d0887\"],[0.1111111111111111,\"#46039f\"],[0.2222222222222222,\"#7201a8\"],[0.3333333333333333,\"#9c179e\"],[0.4444444444444444,\"#bd3786\"],[0.5555555555555556,\"#d8576b\"],[0.6666666666666666,\"#ed7953\"],[0.7777777777777778,\"#fb9f3a\"],[0.8888888888888888,\"#fdca26\"],[1.0,\"#f0f921\"]],\"type\":\"histogram2d\"}],\"histogram\":[{\"marker\":{\"pattern\":{\"fillmode\":\"overlay\",\"size\":10,\"solidity\":0.2}},\"type\":\"histogram\"}],\"mesh3d\":[{\"colorbar\":{\"outlinewidth\":0,\"ticks\":\"\"},\"type\":\"mesh3d\"}],\"parcoords\":[{\"line\":{\"colorbar\":{\"outlinewidth\":0,\"ticks\":\"\"}},\"type\":\"parcoords\"}],\"pie\":[{\"automargin\":true,\"type\":\"pie\"}],\"scatter3d\":[{\"line\":{\"colorbar\":{\"outlinewidth\":0,\"ticks\":\"\"}},\"marker\":{\"colorbar\":{\"outlinewidth\":0,\"ticks\":\"\"}},\"type\":\"scatter3d\"}],\"scattercarpet\":[{\"marker\":{\"colorbar\":{\"outlinewidth\":0,\"ticks\":\"\"}},\"type\":\"scattercarpet\"}],\"scattergeo\":[{\"marker\":{\"colorbar\":{\"outlinewidth\":0,\"ticks\":\"\"}},\"type\":\"scattergeo\"}],\"scattergl\":[{\"marker\":{\"colorbar\":{\"outlinewidth\":0,\"ticks\":\"\"}},\"type\":\"scattergl\"}],\"scattermapbox\":[{\"marker\":{\"colorbar\":{\"outlinewidth\":0,\"ticks\":\"\"}},\"type\":\"scattermapbox\"}],\"scatterpolargl\":[{\"marker\":{\"colorbar\":{\"outlinewidth\":0,\"ticks\":\"\"}},\"type\":\"scatterpolargl\"}],\"scatterpolar\":[{\"marker\":{\"colorbar\":{\"outlinewidth\":0,\"ticks\":\"\"}},\"type\":\"scatterpolar\"}],\"scatter\":[{\"fillpattern\":{\"fillmode\":\"overlay\",\"size\":10,\"solidity\":0.2},\"type\":\"scatter\"}],\"scatterternary\":[{\"marker\":{\"colorbar\":{\"outlinewidth\":0,\"ticks\":\"\"}},\"type\":\"scatterternary\"}],\"surface\":[{\"colorbar\":{\"outlinewidth\":0,\"ticks\":\"\"},\"colorscale\":[[0.0,\"#0d0887\"],[0.1111111111111111,\"#46039f\"],[0.2222222222222222,\"#7201a8\"],[0.3333333333333333,\"#9c179e\"],[0.4444444444444444,\"#bd3786\"],[0.5555555555555556,\"#d8576b\"],[0.6666666666666666,\"#ed7953\"],[0.7777777777777778,\"#fb9f3a\"],[0.8888888888888888,\"#fdca26\"],[1.0,\"#f0f921\"]],\"type\":\"surface\"}],\"table\":[{\"cells\":{\"fill\":{\"color\":\"#EBF0F8\"},\"line\":{\"color\":\"white\"}},\"header\":{\"fill\":{\"color\":\"#C8D4E3\"},\"line\":{\"color\":\"white\"}},\"type\":\"table\"}]},\"layout\":{\"annotationdefaults\":{\"arrowcolor\":\"#2a3f5f\",\"arrowhead\":0,\"arrowwidth\":1},\"autotypenumbers\":\"strict\",\"coloraxis\":{\"colorbar\":{\"outlinewidth\":0,\"ticks\":\"\"}},\"colorscale\":{\"diverging\":[[0,\"#8e0152\"],[0.1,\"#c51b7d\"],[0.2,\"#de77ae\"],[0.3,\"#f1b6da\"],[0.4,\"#fde0ef\"],[0.5,\"#f7f7f7\"],[0.6,\"#e6f5d0\"],[0.7,\"#b8e186\"],[0.8,\"#7fbc41\"],[0.9,\"#4d9221\"],[1,\"#276419\"]],\"sequential\":[[0.0,\"#0d0887\"],[0.1111111111111111,\"#46039f\"],[0.2222222222222222,\"#7201a8\"],[0.3333333333333333,\"#9c179e\"],[0.4444444444444444,\"#bd3786\"],[0.5555555555555556,\"#d8576b\"],[0.6666666666666666,\"#ed7953\"],[0.7777777777777778,\"#fb9f3a\"],[0.8888888888888888,\"#fdca26\"],[1.0,\"#f0f921\"]],\"sequentialminus\":[[0.0,\"#0d0887\"],[0.1111111111111111,\"#46039f\"],[0.2222222222222222,\"#7201a8\"],[0.3333333333333333,\"#9c179e\"],[0.4444444444444444,\"#bd3786\"],[0.5555555555555556,\"#d8576b\"],[0.6666666666666666,\"#ed7953\"],[0.7777777777777778,\"#fb9f3a\"],[0.8888888888888888,\"#fdca26\"],[1.0,\"#f0f921\"]]},\"colorway\":[\"#636efa\",\"#EF553B\",\"#00cc96\",\"#ab63fa\",\"#FFA15A\",\"#19d3f3\",\"#FF6692\",\"#B6E880\",\"#FF97FF\",\"#FECB52\"],\"font\":{\"color\":\"#2a3f5f\"},\"geo\":{\"bgcolor\":\"white\",\"lakecolor\":\"white\",\"landcolor\":\"#E5ECF6\",\"showlakes\":true,\"showland\":true,\"subunitcolor\":\"white\"},\"hoverlabel\":{\"align\":\"left\"},\"hovermode\":\"closest\",\"mapbox\":{\"style\":\"light\"},\"paper_bgcolor\":\"white\",\"plot_bgcolor\":\"#E5ECF6\",\"polar\":{\"angularaxis\":{\"gridcolor\":\"white\",\"linecolor\":\"white\",\"ticks\":\"\"},\"bgcolor\":\"#E5ECF6\",\"radialaxis\":{\"gridcolor\":\"white\",\"linecolor\":\"white\",\"ticks\":\"\"}},\"scene\":{\"xaxis\":{\"backgroundcolor\":\"#E5ECF6\",\"gridcolor\":\"white\",\"gridwidth\":2,\"linecolor\":\"white\",\"showbackground\":true,\"ticks\":\"\",\"zerolinecolor\":\"white\"},\"yaxis\":{\"backgroundcolor\":\"#E5ECF6\",\"gridcolor\":\"white\",\"gridwidth\":2,\"linecolor\":\"white\",\"showbackground\":true,\"ticks\":\"\",\"zerolinecolor\":\"white\"},\"zaxis\":{\"backgroundcolor\":\"#E5ECF6\",\"gridcolor\":\"white\",\"gridwidth\":2,\"linecolor\":\"white\",\"showbackground\":true,\"ticks\":\"\",\"zerolinecolor\":\"white\"}},\"shapedefaults\":{\"line\":{\"color\":\"#2a3f5f\"}},\"ternary\":{\"aaxis\":{\"gridcolor\":\"white\",\"linecolor\":\"white\",\"ticks\":\"\"},\"baxis\":{\"gridcolor\":\"white\",\"linecolor\":\"white\",\"ticks\":\"\"},\"bgcolor\":\"#E5ECF6\",\"caxis\":{\"gridcolor\":\"white\",\"linecolor\":\"white\",\"ticks\":\"\"}},\"title\":{\"x\":0.05},\"xaxis\":{\"automargin\":true,\"gridcolor\":\"white\",\"linecolor\":\"white\",\"ticks\":\"\",\"title\":{\"standoff\":15},\"zerolinecolor\":\"white\",\"zerolinewidth\":2},\"yaxis\":{\"automargin\":true,\"gridcolor\":\"white\",\"linecolor\":\"white\",\"ticks\":\"\",\"title\":{\"standoff\":15},\"zerolinecolor\":\"white\",\"zerolinewidth\":2}}},\"title\":{\"text\":\"# of Votes Quantity\"},\"xaxis\":{\"title\":{\"text\":\"Ratings\"}},\"yaxis\":{\"title\":{\"text\":\"Quantity\"}}},                        {\"responsive\": true}                    ).then(function(){\n",
       "                            \n",
       "var gd = document.getElementById('31b4b261-3997-4e3a-ae50-84c19eba811c');\n",
       "var x = new MutationObserver(function (mutations, observer) {{\n",
       "        var display = window.getComputedStyle(gd).display;\n",
       "        if (!display || display === 'none') {{\n",
       "            console.log([gd, 'removed!']);\n",
       "            Plotly.purge(gd);\n",
       "            observer.disconnect();\n",
       "        }}\n",
       "}});\n",
       "\n",
       "// Listen for the removal of the full notebook cells\n",
       "var notebookContainer = gd.closest('#notebook-container');\n",
       "if (notebookContainer) {{\n",
       "    x.observe(notebookContainer, {childList: true});\n",
       "}}\n",
       "\n",
       "// Listen for the clearing of the current output cell\n",
       "var outputEl = gd.closest('.output');\n",
       "if (outputEl) {{\n",
       "    x.observe(outputEl, {childList: true});\n",
       "}}\n",
       "\n",
       "                        })                };                });            </script>        </div>"
      ]
     },
     "metadata": {},
     "output_type": "display_data"
    }
   ],
   "source": [
    "# HOW MUCH WAS USED FROM WHICH VOTES?\n",
    "trace = go.Bar(\n",
    "            x = df[\"rating\"].value_counts().index.values,\n",
    "            y = df[\"rating\"].value_counts().values,\n",
    "            name='Quantity')\n",
    "\n",
    "layout = go.Layout(yaxis=dict(title='Quantity'),\n",
    "                   xaxis=dict(title='Ratings'),title='# of Votes Quantity')\n",
    "\n",
    "fig = go.Figure(data=trace, layout=layout)\n",
    "fig.data[0].marker.line.width = 2\n",
    "fig.data[0].marker.line.color = \"black\"\n",
    "py.iplot(fig)"
   ]
  },
  {
   "cell_type": "code",
   "execution_count": 148,
   "id": "81af690d",
   "metadata": {},
   "outputs": [],
   "source": [
    "# importing the dataset\n",
    "dataset = pd.read_csv('amazon_alexa.tsv', delimiter = '\\t', quoting = 3) "
   ]
  },
  {
   "cell_type": "code",
   "execution_count": 149,
   "id": "a25c0293",
   "metadata": {},
   "outputs": [
    {
     "name": "stderr",
     "output_type": "stream",
     "text": [
      "[nltk_data] Downloading package stopwords to\n",
      "[nltk_data]     C:\\Users\\hp\\AppData\\Roaming\\nltk_data...\n",
      "[nltk_data]   Package stopwords is already up-to-date!\n"
     ]
    },
    {
     "data": {
      "text/plain": [
       "True"
      ]
     },
     "execution_count": 149,
     "metadata": {},
     "output_type": "execute_result"
    }
   ],
   "source": [
    "nltk.download('stopwords')"
   ]
  },
  {
   "cell_type": "code",
   "execution_count": 150,
   "id": "9d035fb7",
   "metadata": {},
   "outputs": [],
   "source": [
    "###CLEANING THE TEXT"
   ]
  },
  {
   "cell_type": "code",
   "execution_count": 151,
   "id": "77475098",
   "metadata": {},
   "outputs": [],
   "source": [
    "import re\n",
    "import nltk\n",
    "from nltk.corpus import stopwords\n",
    "from nltk.stem.porter import PorterStemmer\n",
    "from nltk.tokenize import word_tokenize"
   ]
  },
  {
   "cell_type": "code",
   "execution_count": 152,
   "id": "4f70ac2c",
   "metadata": {},
   "outputs": [
    {
     "data": {
      "text/plain": [
       "'kiss kiss kiss know know last last'"
      ]
     },
     "execution_count": 152,
     "metadata": {},
     "output_type": "execute_result"
    }
   ],
   "source": [
    "# It is a process of normalization\n",
    "text2 = \"Kiss kissed kisses know knowing last lasting\"\n",
    "stemmer = PorterStemmer()\n",
    "Norm_Word= stemmer.stem(text2)\n",
    "Tokens = text2.split()\n",
    "\" \".join(stemmer.stem(token) for token in Tokens)"
   ]
  },
  {
   "cell_type": "code",
   "execution_count": 153,
   "id": "8428d3eb",
   "metadata": {},
   "outputs": [
    {
     "data": {
      "text/plain": [
       "['love echo',\n",
       " 'love',\n",
       " 'sometim play game answer question correctli alexa say got wrong answer like abl turn light away home',\n",
       " 'lot fun thing yr old learn dinosaur control light play game like categori nice sound play music well',\n",
       " 'music',\n",
       " 'receiv echo gift need anoth bluetooth someth play music easili access found smart speaker wait see els',\n",
       " 'without cellphon cannot use mani featur ipad see use great alarm u r almost deaf hear alarm bedroom live room reason enough keep fun ask random question hear respons seem smartbon polit yet',\n",
       " 'think th one purchas work get one everi room hous realli like featur offer specifili play music echo control light throughout hous',\n",
       " 'look great',\n",
       " 'love listen song heard sinc childhood get news weather inform great',\n",
       " 'sent year old dad talk constantli',\n",
       " 'love learn knew thing eveyday still figur everyth work far easi use understand make laugh time',\n",
       " 'purchas mother knee problem give someth tri come get around fast like enjoy littl big thing alexa play song time cook',\n",
       " 'love love love',\n",
       " 'expect',\n",
       " 'love wife hate',\n",
       " 'realli happi purchas great speaker easi set',\n",
       " 'use alexa coupl day lot fun new toy like new household member tri learn differ featu benefit come',\n",
       " 'love size nd gener echo still need littl improv sound',\n",
       " 'like origin echo shorter greater fabric color choic miss volum ring top plu minu button big deal ring w comfort well like use standard usb charger port instead previou round pin guess sound seem work still answer alexa echo comput like',\n",
       " 'love echo good music sound play alexa understand command difficult time find specif playlist song spotifi good amazon music lack major program',\n",
       " 'love alexa use play music play radio itun play podcast anypod set remind listen flash brief news weather everi morn reli custom list like abl voic control volum sure continu find new use sometim bit frustrat alexa understand say',\n",
       " 'set day still ad smart home devic speaker great play music like size station kitchen counter intrus look',\n",
       " 'love play sleep sound immedi ask',\n",
       " 'got second unit bedroom expect sound improv didnt realli see differ overal big improv st gener',\n",
       " 'amaz product',\n",
       " 'love echo easi oper load fun everyth advertis use mainli play favorit tune test alexa knowledg',\n",
       " 'sound great love',\n",
       " 'fun item play get use use sometim hard time answer question ask think better',\n",
       " 'like one',\n",
       " 'still learn capabl far pretti pretti pretti good',\n",
       " 'like',\n",
       " 'work well need learn command uniqu owner user like alexa learn tasha birthday alexa learn definit fine etc great',\n",
       " 'speaker sound pretti good small setup pretti easi bought two reason rate follow instruct synch music unit know done correctli sync primari motiv purchas multipl unit',\n",
       " 'devic awesom',\n",
       " 'bought compar speaker qualiti first gener speaker like sound better ship daughter though like fact first gener chargeabl base bought keep mobil need better sound',\n",
       " 'love echo still learn thing abl follow instruct includ packag found great one u tube',\n",
       " 'speaker better st gener echo',\n",
       " 'thing way cool get one want cool',\n",
       " 'first digit assist give good review speaker realli good cheap price prime day fun play use alarm clock go get first place end echo go one definit tri like best number devic connect purchas came smart plug connect lamp alexa turn light',\n",
       " 'husband like abl use listen music wish knew capabl',\n",
       " 'android would allow alexa connect fortun sister appl cell hour tech support fix glitch run',\n",
       " 'far good',\n",
       " 'tri play certain broadway show like camelot give ne group camelot',\n",
       " 'great',\n",
       " 'satisfi echo alexa control light famili room wife listen jimmi buffet ask alexa',\n",
       " 'like siri fact siri answer accur alexa see real need household though good bargain prime day deal',\n",
       " 'love echo still learn everi thing work ton fun',\n",
       " 'love much',\n",
       " 'differ appl play specif list music must amazon spotifi plu prime etc account must pay play music star reason everyth els',\n",
       " 'excelent lo unico es que esta en espa ol',\n",
       " 'still learn use far echo great sound actual much better expect',\n",
       " 'work expect also good sound qualiti consid price sale featur',\n",
       " 'sound echo nd gener phenomen mention love alexa help',\n",
       " 'like googl better',\n",
       " 'let play learn get',\n",
       " 'work advertis easi setup still learn',\n",
       " 'great sound easi set',\n",
       " 'love alexa bought other friend',\n",
       " 'love echo purchas compani husband alexa great say name tell joke play favorit song',\n",
       " '',\n",
       " 'love abl listen music easili still learn featur avail',\n",
       " 'realli know could use devic use thing need overview',\n",
       " 'love wish built hub',\n",
       " 'use primarili play music work wonder still get use mani thing amazon sent sever tip sinc got thank help',\n",
       " 'easi set',\n",
       " 'fast respons amaz clear concis answer sound qualiti fantast still get use alexia usd echo full extent',\n",
       " 'need na na nana',\n",
       " 'everyth expect',\n",
       " 'love echo work like said would smart home cannot speak function everyth els good',\n",
       " 'great sound small packag easi set use fun',\n",
       " 'work sound great',\n",
       " 'sound amaz mani collect music',\n",
       " 'set',\n",
       " 'alway listen',\n",
       " 'awesom',\n",
       " 'bought control fio televis work well hope time control fio discov thing alexa play music ask great sound alexa play game play radio station play old time radio program like long ranger alexa mani app add abil day play madlib great fun also alexa control household applianc purchas alexa compat power strip control light fan tv compon look forward implement control also add alexa compon chosen music play room compon locat',\n",
       " 'speaker excel sound work perfectli',\n",
       " 'like',\n",
       " 'love everyth',\n",
       " 'littl nervou receiv new echo realli tech savvi found bit intimid first take long figur happi purchas think ad echo spot',\n",
       " 'like still learn use',\n",
       " 'great technolog believ speaker volum qualiti wonder wish bought anoth one',\n",
       " 'purchas echo dot husband father day use constantli hear qualiti sound echo nd gener brainer best gift ever',\n",
       " 'work fine',\n",
       " '',\n",
       " 'clear music',\n",
       " 'fun use good sound qualiti',\n",
       " 'echo work well abl sync amazon music devic',\n",
       " 'work great think amazon charg anoth cent unlimit music prime buy echo',\n",
       " 'alreadi echo dot echo even better fuller sound also setup let phone call made contact list great',\n",
       " 'speaker sound realli good',\n",
       " 'good sound work well',\n",
       " 'love alexa savvi support help patient',\n",
       " 'love think get one prime day discount offer could pass fun ask alexa play song group come playlist amazon prime music also connect iphon bluetooth play music pandora youtub video use alexa speaker fun ask alexa differ type question inform like weather news even time countri downsid limit data wifi plan alexa use burn play music',\n",
       " 'like far lot tri yet',\n",
       " 'love use strictli music great',\n",
       " 'love echo love size materi speaker qualiti hook one light easili work addit light thermostat next echo dot bedroom lot echo think traffic weather trivia etc',\n",
       " 'love',\n",
       " 'entir famili love alexa echo part famili',\n",
       " 'great fun get know function product wow famili fun homework help talk grandchildren also echo huge bonu wait learn',\n",
       " 'love',\n",
       " 'awesom thing love alexa',\n",
       " 'work exactli expect speaker great sound perfect classroom',\n",
       " 'love love new littl gadget made live much easier like person secretari live home hardli need cd anymor sinc alexa play everyth need go get alexa dot soon room thank',\n",
       " 'speaker surpris qualiti happi purchas',\n",
       " 'easi set work wonder love',\n",
       " 'realli impress sound qualiti play music devic bass sound almost like come bigger speaker prop amazon',\n",
       " 'still great product sound qualiti seem wors get wrong definit get use within hour definit feel like echo gen sound qualiti better besid great addit abl play bluetooth wifi even better',\n",
       " 'outlet work disappoint',\n",
       " 'great devic respons help',\n",
       " 'sound terribl u want good music get bose',\n",
       " 'like sound troubl paid extra money access million song sometim work ex alexa play italian song understand play opera tosca respons sorri',\n",
       " 'easi set use bad plug would nice take outsid oper batteri recharg',\n",
       " 'still learn way use real hit grandkid ask play music danc yr cute',\n",
       " 'star gener like product great ask like play music set timer make call reason rate sometim connect die echo stop play music show red ring seem connect issu overal great product',\n",
       " 'work great upgrad echo dot full size echo happier',\n",
       " 'alexa els say',\n",
       " 'upgrad lilttl echo dot happi sound',\n",
       " 'excel product set eas well',\n",
       " 'first gen echo sinc first came work well purchas nd gen prime day far happi seem improv speaker provid enhanc sound music',\n",
       " 'love echo smart speaker love volum clariti easi set wonder gift age',\n",
       " 'wonder product fast deliveri',\n",
       " 'initi harder set call tech knowledg work great',\n",
       " 'easi set famili love',\n",
       " 'great sound respons voic command',\n",
       " 'live long without echo get enjoy music style ask alexa go gread wireless love echo love alexa',\n",
       " 'cool product speaker sound good spotifi blast',\n",
       " 'much fun alexa love abl listen music across room busi someth els',\n",
       " 'far seem nice item pick voic understand without problem day ask turn music next room heard fine use listen music check weather done thing well',\n",
       " 'love echo',\n",
       " 'love help use rememb thing sleep ask anyth week still learn',\n",
       " 'better st gen everi way except one realli miss ring top volum control quicker easier grab top twist without look button find one press time also wish bass bit better great devic happi',\n",
       " 'love alexa',\n",
       " 'far like',\n",
       " 'thoroughli enjoy ecoo love read audiobook offic simpli open audiobook kindl continu elsewher wonder listen music mood book great set remind much',\n",
       " 'still love',\n",
       " 'love',\n",
       " 'love sound qualiti unit clear sound',\n",
       " 'listen talk radio morn turn light etc system excel job full hous sound system stream siriu',\n",
       " 'week still learn alexa learn process love music call time listen podcast radio station start keep shop list groceri list love search paper pencil get time temperatur great wait weather report sound good fussi woofer tweeter base etc echo fine afternoon go tri drop son get home go surpris',\n",
       " 'much featur',\n",
       " 'great sound qualiti great featur great product multi room music cool',\n",
       " 'cool',\n",
       " 'everyon echo two three bought echo qvc',\n",
       " 'annoy everyth show alexa abl download spend much time tri figur phrase machin may well look',\n",
       " 'alexa sinc begin accident spill water replac nd gener decid without echo setup easi work within minut',\n",
       " 'like abl tell alexia music want hear sometim troubl find song specif titl',\n",
       " 'like look better origin echo move old echo basement famili room nice sound',\n",
       " 'echo wonder still learn use music request somewhat limit',\n",
       " 'know half thing ask recogn sprinkler wifi control even though product detail say compat program chang wifi thermostat set match wifi router handi music player amazon music',\n",
       " 'love',\n",
       " 'awesom understand kid',\n",
       " 'pleasantli surpris sound qualiti mani featur nice easili hear particular artist hear book simpl command look forward explor option devic',\n",
       " 'met exceed expect easi set realli quick respons',\n",
       " 'like fact get kind music prime want request alexa like inform photo littl pamphlet wish includ connect tv etc command alexa realli love music',\n",
       " 'found way access echo thorough prime account think part top line video music etc also think setup app defin exampl music like well integr echo tri ask playlist echo sure even though set play list set also like fact word exact match playlist name never rememb like readi natur echo respond queri',\n",
       " 'great item ad audibl book make even better thank',\n",
       " 'prime day nd gen echo sale resist begin smart home set happier say alexa done amaz job connect smart devic thank control light smart plug tv etc troubl connect echo wifi phone app work perfectli fine let add skill routin smart devic timer much sound qualiti good enough sinc audiophil alexa hear voic even watch movi high volum design great modern definit add nice touch home chang cover like sale overal great addit home enabl mani possibl yet sure add alexa home',\n",
       " 'versatil fun',\n",
       " 'work great killer speaker wife son love',\n",
       " 'regret wait long purchas item surpris pleas sound qualiti',\n",
       " 'stop work week follow command realli fun work',\n",
       " 'far love work get thing set love groceri list app',\n",
       " 'perform pretti much expect disappoint provid terminolog need play variou kind music without subscrib amazon music servic understand music choic may limit without know ask cannot access music provid free along echo purchas chart show languag need use',\n",
       " 'easi set',\n",
       " 'like product except speaker high qualiti expect',\n",
       " 'great invest alexa help made laugh',\n",
       " 'yet anoth exho home love',\n",
       " 'love plan gender music big band jazz easi find local radio sound good stop voic command get phone call',\n",
       " 'good valu',\n",
       " 'super easi set love new echo',\n",
       " 'what like speaker ask alexa',\n",
       " 'best father day gift dad joke mom alexa one listen repeat stori go forward',\n",
       " 'great addit breakfast room kitchen tune inform instantli avail slowli learn featur',\n",
       " 'sound qualiti',\n",
       " 'sad joke worthless',\n",
       " 'entertain',\n",
       " 'good qualiti',\n",
       " 'work great sound great miss beat wish batteri better portabl',\n",
       " 'love till someon stole afford replac yet go',\n",
       " 'alexa rock',\n",
       " 'got gift love never would bought one allow play music amozon prime music worth also give new brief tell joke',\n",
       " '',\n",
       " 'mom bought echo dot repeat ask take one great told two day made take hour later could live life without amaz four larg speaker small echo dot return say go order alexa speaker go big get echo otherwis tou return two echo dot live without',\n",
       " 'love great product',\n",
       " 'easi set user friendli',\n",
       " 'realli disappoint alexa plug wall socket time fault check made assumpt compani technolog advanc amazon would sell product recharg batteri could return would appl music boom speaker give flexibl alexa',\n",
       " 'think nd gen sound good st aux could add extern speaker go get dot nd issu uniqu unit understand overrid default prevent play blue tooth speaker play group get delay use bt speaker unit heard abl play group use bt speaker',\n",
       " 'everyth',\n",
       " 'like interact ask question like ask setup schedul connect lamp',\n",
       " 'supberb sound definit worth extra money listen lot music',\n",
       " 'realli love amazon echo think sound qualiti great lot fun realli handi music get updat weather sport',\n",
       " 'love grandkid',\n",
       " 'far work well alway intuit link differ devic skill get hang',\n",
       " 'work advertis',\n",
       " 'love',\n",
       " 'love new addit hous speaker qualiti great love alexa two complaint suggest futur seri would better commun abil exampl smart light hous unless specifi kitchen light kitchen light prior command either respond say recogn may want alexa respond say thank afterward repeat alexa thank time respond husband know sound odd laugh mayb southern thing want alexa manner',\n",
       " 'like everyth music trivia game weather',\n",
       " 'describ receiv time like automat enrol music',\n",
       " 'great devic',\n",
       " 'own echo overa year new lack easi way increas decreas volum without tell increas decreas volum hard wife sinc english second languag born korea sound echo superb keep',\n",
       " 'love kitchen work well',\n",
       " 'nice impress wish say though',\n",
       " 'love product nice easi access much info',\n",
       " 'got great sound bass work time still hot miss recogn thing',\n",
       " 'still discov echo',\n",
       " 'amaz paroduct',\n",
       " 'good hear rang sound qualiti bit complic set quit understand lot even speak slowli clearli love flash brief featur interfac abod home secur system',\n",
       " 'speaker sound good',\n",
       " 'absolut love',\n",
       " 'best part product control thermostat light hous anyth dislik',\n",
       " 'thoroughli enjoy amazon echo instal easi use alexa app purchas kasa smart plug control live room light instal easi use kasa app sinqu right echo enjoy play music echo sound qualiti awesom ad kasa smart bulb kitchen setup seamless look forward ad autom home',\n",
       " 'home entertain',\n",
       " 'cool product easi setup fun use sound qualiti much better anticip',\n",
       " 'love great sound easi connect use',\n",
       " 'work fairli new smart tv mainli tv manufactur lg fault due support anyth older tv year smart lock also need addit piec equip order connect well speaker sound great work well',\n",
       " 'great sound littl speaker',\n",
       " 'enjoy',\n",
       " '',\n",
       " 'cool',\n",
       " 'good qualiti great sound qualiti',\n",
       " 'work perfectli',\n",
       " 'great product sometim alexa understand command fire tv fabul speaker',\n",
       " 'love echo great sound smart',\n",
       " 'sure love',\n",
       " 'play great',\n",
       " 'work absolut great',\n",
       " 'amaz product great sound qualiti',\n",
       " 'best thing invest thank much',\n",
       " 'extrem impress item bought warehous outlet minor imperfect tell even one work great come packag seal damag miss anyth like sound qualiti see knock bose great famili easi use minor learn curv learn voic integr seamlessli amazon servic wait get classroom lot fun even speaker let alon plan',\n",
       " 'love echo show bedroom wonder music info sleep sound',\n",
       " 'awesom life changer serious abl start morn alexa wake alarm play music gotten use voic anoth room listen say love echo hesit get one price speaker unbeliev buy cordless holder take echo anywher love purchas love alexa',\n",
       " 'super impress alexa prime laps play anyth smart enough differenti among spotifi account use either randomli speak nobodi talk today unplug sure ever use alexa',\n",
       " 'like everyth',\n",
       " 'like',\n",
       " 'never issu buy use electron long get good like new read comment see use',\n",
       " 'famili realli love new echo',\n",
       " 'bought wife love',\n",
       " 'fun got today pod go car use hous',\n",
       " 'like',\n",
       " 'third echo worth everi penni like household employe small flat rate keep bedroom live room drop use intercom listen music answer quick question alarm wake school etc',\n",
       " 'listen music set timer',\n",
       " 'receiv echo perfect condit devic easi set respond quickli without issu alexa great addit famili',\n",
       " 'good sound like music schedul like get random thought record think joke cute',\n",
       " 'purchas begin learn far pleas amaz differ action perform enjoy look forward learn option provid',\n",
       " 'echo great other even though smaller',\n",
       " 'funni buy someth look fun wind total use part home love',\n",
       " 'bought replac dot live room speaker slightli better hear better tv unfortun understand respond request well dot frequent request time get want dot usual exactli want first request consid upgrad',\n",
       " 'good experi far second gener echo mani thing learn time yet right mostli enjoy music weather updat use alarm featur person also purchas mini smart socket ye excit begin use',\n",
       " 'troubl connect tv exactli tech smart sure one grandson figur far use mostli music',\n",
       " 'simpli love echo hardli watch tv anymor busi listen music speaker pretti goo size fun skill realli make echo fun whole famili',\n",
       " 'enjoy entir echo experi',\n",
       " 'easi set',\n",
       " 'echo amaz devic mani time seem intuit time ask someth seem clear simpl get result instal fairli straightforward mess sever time simpli thought step complet actual made lose ground figur advic patient app let know move next step biggest issu moment sever echo devic home would like use intercom told done howev make echo awar other exist ask alexa answer instruct chang name know like fault would think design would anticip make easier find need instruct small deal mani devic savvi peopl challeng',\n",
       " 'love much',\n",
       " 'origin alexa tap far nd gener best happi see make improv new one would great updat littl think would help lot bug happi play music throughout whole hous adjust bass trebl thank',\n",
       " 'pleas echo nd gener nice alexa avail music weather news probabl lot discov',\n",
       " 'pleasantli surpris sound qualiti echo big fan deep bass might suffici though potenti control home option explor evolv home smart home voic recognit impress stylish fun regret purchas great technic chang peopl ask play song movi respond instantli elderli love one would great gift connect wifi simpl use want unlimit music control sure amazon prime premium spotifi blown away person dj even convers echo embarrass say echo made laugh coupl time ask tell joke tell packag sinc amazon prime addict come extrem handi',\n",
       " 'easi setup love thing',\n",
       " 'alexa throughout hous futur arriv',\n",
       " 'alreadi alexa amazon find today could resist get echo also best thing ever use side hous happier',\n",
       " 'arriv expect',\n",
       " 'bought week ago everyth product excel forget buy charger order must take outsid pool worri hire electrician put outlet yard',\n",
       " 'terrif',\n",
       " 'love echo',\n",
       " 'smaller origin look nicer',\n",
       " 'work great',\n",
       " 'husband would call late adopt come technolog decid would tri echo serv primarili music sourc wow amaz great sound also great time listen favorit song buy ask alexa may even buy one elderli dad think enjoy one listen music even place call us',\n",
       " 'realli enjoy chang directv channel play iheartradio pandora adjust ac thermostat turn live room light outsid light',\n",
       " 'want one bought prime day absolut love',\n",
       " 'glad got echo bluetooth speaker alexa much stuff non smart speaker person love timer featur help cook multipl thing simultan pandora integr anoth featur use daili happi prime day purchas get echo hub echo dot futur',\n",
       " 'see subject line love',\n",
       " 'love',\n",
       " 'easi setup',\n",
       " 'hesit buy echo echo dot seem good enough echo except sound qualiti realli feel need howev glad got differ sound realli far superior echo dot listen greatest showman littl power',\n",
       " 'sound qualiti great still learn differ thing fun',\n",
       " 'got good deal work great prime setup bit pain fault crappi internet servic work great nice sound small speaker',\n",
       " 'love',\n",
       " 'work great perfect offic',\n",
       " 'love one insid hous one pool good bose speaker around hous',\n",
       " 'easi use amaz',\n",
       " 'nice product',\n",
       " 'love echo total amaz speaker qualiti bum buy two sinc got prime day',\n",
       " 'respons great sound qualiti size',\n",
       " 'effici amaz cool use often everi day',\n",
       " 'impress qualiti sound echo definit compar bose mini gave star use appl music account',\n",
       " 'technolog small devic price good sound amaz must featur home',\n",
       " 'mainli use music learn time realli noth bad say',\n",
       " 'replac st gen concern smaller unit sound wrong anyth volum clear good product',\n",
       " 'great addit echo plu',\n",
       " 'best',\n",
       " 'love featur play music everi room multipl echo',\n",
       " 'love alexa surpris much use',\n",
       " 'use product enjoy love',\n",
       " 'easi use great sound great purchas great price',\n",
       " 'easi set issu',\n",
       " 'unit add much pleasur echo plu music inform home one room',\n",
       " 'extrem use simpl thing like spotifi audibl thing like sometim answer everyth ask still nice use',\n",
       " 'difficult set keep time enter password',\n",
       " 'get use use echo use shop list listen music timer work great far',\n",
       " 'cool lot fun use week still learn capabl',\n",
       " 'love love',\n",
       " 'love hard time set app',\n",
       " 'use offic anoth apart music inform',\n",
       " 'great music littl hard figur work',\n",
       " 'given year time birthday gift dad love ask alexa anyth answer plu good homework purchas one prime day bathroom get readi work listen music base metro boom replac clock radio plu echo dot night stand alarm clock',\n",
       " 'impress look clariti sound color',\n",
       " 'alexa amaz great speaker',\n",
       " 'still get use alexa connect tv yet thing right use music inform great',\n",
       " 'work sound great hous bare sf sit kitchen counter hear speak room lot function still discov',\n",
       " 'pure fun echo weather joke news brief music still much use lot fun money',\n",
       " 'use time especi commun kid throughout home',\n",
       " 'love still learn make lot thing easier like forget turn light anoth room ask alexa turn light',\n",
       " 'bought daughter turn love especi like call featur sinc cell phone love play music danc amazon music play favorit song sometim lol',\n",
       " 'got wed gift discov featur yet updat play music great though',\n",
       " 'impress sound qualiti',\n",
       " 'pleas purchas echo smart speaker love fact play music differ genr whenev want troubl first wi fi work',\n",
       " 'wife enjoy eas play music game fun entertain look forward ad smart product home',\n",
       " 'second echo love help kitchen set timer listen news prepar groceri list get great music',\n",
       " 'sound qualiti good wish alexa could answer question',\n",
       " 'second echo dot speaker weak purchas listen music speaker great',\n",
       " 'great sound',\n",
       " 'great',\n",
       " 'realli use speaker stream music month kinda useless',\n",
       " 'set user friendli set user friendli hope alexa app abl download pc without instal invas driver wife retir abl instal alexa son suppli smart phone use alexa yet',\n",
       " 'easi set realli enjoy',\n",
       " 'echo come built batteri plug time use make quit inconveni',\n",
       " 'compact bit better origin',\n",
       " 'love pretti cool',\n",
       " 'live room music sound realli good live room hear upstair',\n",
       " 'great product set easi sound wonder',\n",
       " 'far like bought music though sound pretti good',\n",
       " 'love',\n",
       " 'love',\n",
       " 'glad bought',\n",
       " 'like type fun music',\n",
       " 'like volum top turn quickli',\n",
       " 'beyond capabl program grandkid lve',\n",
       " 'love new echo give hour music help thing difficult set help tekki',\n",
       " 'almost good bose love whole hous music',\n",
       " 'alexa hardli came',\n",
       " 'easi setup use app also easi instal phone sound qualiti listen music pandora wonder',\n",
       " 'still learn use echo far love',\n",
       " 'work awesom',\n",
       " 'work great',\n",
       " 'small speaker sound great',\n",
       " 'great sound size prize cours alexa',\n",
       " 'echo definit need one',\n",
       " 'great devic seem work better st gener',\n",
       " 'item longer work month use connect wifi unrespons reset request',\n",
       " 'love echo dot easi fun get drop grandaught live mile away sound like right next',\n",
       " 'work great differ new one',\n",
       " 'one go kitchen timer music duti',\n",
       " 'love volum could definit use boost better built speaker would definit star thought ahead put audio auxiliari input bought dedic speaker echo prove best way go',\n",
       " 'work fine',\n",
       " 'work great look brand new love new echo dot get main room hous',\n",
       " 'refurbish item work like new love easi set love issu volum listen relax fine expect anyth els recommend purchas speaker',\n",
       " 'loud',\n",
       " 'nd one love',\n",
       " 'sure feel echo dot mani thing need get use ask right question understand',\n",
       " 'thing bare work select rd parti app stuff think could box send mine back asap wast money',\n",
       " 'gift man like plug pictur show cord would prefer cordless still work though purpos bought',\n",
       " 'th amazon echo devic purchas refurbish satisfi time differ tell brand new price cheaper echo wake us keep timer play music us act encyclopedia turn light much',\n",
       " 'small echo dot amaz sound come great chang nest thermostat phillip hue light without leav chair',\n",
       " 'talk time song dislik devic',\n",
       " 'never disappoint amazon technolog',\n",
       " 'work promis',\n",
       " 'return echo dot get refund return one packag want refund packag see',\n",
       " 'work',\n",
       " 'weird paus speech pattern present echo devic',\n",
       " 'sure love alexa lol thank great price product',\n",
       " 'work',\n",
       " 'echo fan one work',\n",
       " '',\n",
       " 'bought bathroom listen shower love',\n",
       " 'alway respond spoken promp word thought would connect echo upstair use like intercom abl',\n",
       " 'fast ship work well',\n",
       " 'love',\n",
       " 'love love love new free assist',\n",
       " 'six word alexa tell poop joke',\n",
       " 'work month stop tri everyth tri make work noth work want refund',\n",
       " 'poor qualiti gave away',\n",
       " 'refurbish way go echo work like new',\n",
       " 'love',\n",
       " 'five need say',\n",
       " 'speaker arent loud alexa great though besid naw',\n",
       " 'work great sound good',\n",
       " 'never could get work techi friend look said adapt strong enough power look like bought dollar store go replac adapt hope work',\n",
       " 'almost like star trek home fun tri outsmart',\n",
       " 'add echo system refurbish product work like new',\n",
       " 'great offic use daili mani way includ spell background music',\n",
       " 'awesom love alexa',\n",
       " 'sure realli want one extrem use get one love',\n",
       " 'initi echo dot work well time dot stop respond alexa unless within one foot yell echo echo dot room would respond without respons echo dot would recommend buy refurbish',\n",
       " 'great product fast ship',\n",
       " 'bought echo dot refurbish stop whatev function perform quit often wake everi time randomli turn noth buy refurbish echo dot',\n",
       " 'perfect work great problem refurbish',\n",
       " 'dont trust',\n",
       " 'perfect condit love echo',\n",
       " 'love beauti experi especi hook smart light accessori',\n",
       " 'got within last coupl week tell issu son want alexa th birthday could tell joke could ask question listen music enjoy one much bought second one week prime deal day',\n",
       " 'divertido',\n",
       " 'great product work great',\n",
       " 'bought guest room radio alarm clock inform center much',\n",
       " 'great buy bought go echo love speaker best music work great kitchen timer alarm',\n",
       " '',\n",
       " 'work perfect save buck buy refurbish look brand new',\n",
       " 'look work perfect glad got good deal',\n",
       " 'good new one bought less',\n",
       " 'love work well',\n",
       " 'everyth perfect',\n",
       " 'good price prompt ship work flawlessli',\n",
       " 'love alexa',\n",
       " 'room improv price cannot complain much still complain howev audio terribl kind like listen speak n spell',\n",
       " 'iov bought son want awesom',\n",
       " 'echo work price great deal issu dot speaker bit tinni good second unit like attach extern speaker sound good buy',\n",
       " 'thank',\n",
       " 'want use radio intercom get terribl fm recept live speech recognit softwar horribl wife nativ american whose languag english north texa neither accent birth area yet good job understand us bought two thing addit wifi recept poor margin buy wifi rang extend offic ten feet router problem switch around differ disconnect dust collector',\n",
       " 'third dot work perfectli use one multipl time day absolut love',\n",
       " 'item never work box broken spent sever day tri get work run fix amazon thing accomplish never order anoth refurbish devic',\n",
       " 'alreadi echo plu bought one bedroom love function',\n",
       " 'simpl set music everywher',\n",
       " 'work like brand new dot satisfi',\n",
       " 'great product return new alexa dot refurbish alreadi give problem connect',\n",
       " 'echo alreadi went one refurbish save buck work great love new gener one rubber bottom nice',\n",
       " 'love fact unplug take basement want laundri',\n",
       " 'refurbish good new one bought',\n",
       " 'good new',\n",
       " 'granddaught love',\n",
       " 'price great troubl hear across room move anoth spot seem work fine buy want everi room',\n",
       " 'set alexa blue tooth speaker enjoy listen music outdoor wait tri new stuff use alexa',\n",
       " 'thank',\n",
       " 'work great',\n",
       " 'never buy certifi refurbish echo dot bought certifi refurbish echo dot unit poor receiv command sometim even acknowledg command never buy refurbish echo dot unit receiv probabl never certifi refurbish indic also bought new echo dot work perfectli disappoint',\n",
       " 'start amazon productsand regret noth absolut great journey product continu improv day day life',\n",
       " 'use sever month without problem',\n",
       " 'first smart devic sure buy devic compat one',\n",
       " 'love',\n",
       " 'love good new one',\n",
       " 'larger echo time love bought one anoth portion hous sinc sever wifi home devic want voic control hous',\n",
       " 'love product use turn light answer quick question',\n",
       " 'great buy',\n",
       " 'leari refurbish work great',\n",
       " 'puni sound work great',\n",
       " 'great',\n",
       " 'exactli like new tell differ new dot got prior one work perfectli love alexa',\n",
       " 'work perfect wear tear devic love alexa work make home smart',\n",
       " 'work good',\n",
       " 'thing like shut work great',\n",
       " 'excel product mint condit refurbish unit would never know refurbish',\n",
       " 'alreadi own coupl echo frustrat also use intercom final amazon enabl drop featur use echo reach famili remot part hous teenag insist never heard yell come dinner featur mainli use echo standard stuff play music set alarm answer question etc life chang home devic amazon would believ conveni around refurb save buck look work brand new one',\n",
       " 'love worri refurbish part first first echo awesom use everyth light sinc work night shop well spotifi plan get parent help everyday thing take grant young would recommend everyon',\n",
       " 'love alexa hope everi room soon',\n",
       " 'simplic use set',\n",
       " 'great got one gazebo one upstair',\n",
       " 'work great never issu',\n",
       " 'everyth ask',\n",
       " 'work great good sound',\n",
       " 'use echo listen music well sort research tool answer varieti question would like volum could go littl bit louder complain also believ intern power sourc order use echo must plug time use univers charg cord would nice use echo dot go without buy product',\n",
       " 'love great fun',\n",
       " 'love',\n",
       " 'outstand use time work like say',\n",
       " 'save alway nice son alway say buy refurbish mean get new devic product less run diagnost everyth correct',\n",
       " 'work perfectli alexa turn light tv roomba',\n",
       " 'never would know refurbish',\n",
       " 'far good',\n",
       " 'look perform new complaint',\n",
       " 'goe great echo',\n",
       " 'work great like new one alreadi',\n",
       " 'item work certifi refurbish mean work advertis instead item crash soon turn plug tri connect phone echo dot crash would disconnect orang light would freez thing would reboot blue light alexa would tell readi connect freez mid sentenc tri hold action button second anyth return immedi hope actual fix item next buyer purchas',\n",
       " 'fast servic got order thank',\n",
       " 'love even though still tri figur thing item work great phone',\n",
       " 'none',\n",
       " 'echo one bought brand new refurbish one honestli tell differ perform look',\n",
       " 'great product learn work thing awesom',\n",
       " 'work',\n",
       " 'work time',\n",
       " 'love though wish portabl',\n",
       " 'cours',\n",
       " 'could tell refurbish work excel would highli recommend instead purchas new',\n",
       " 'got mom love',\n",
       " 'love echo dot look brand new work perfect satisfi',\n",
       " 'new',\n",
       " 'small problem box rep amazon call walk reset process solv issu shock get respons quickli real effort made includ follow email get thing work one googl clone use learn like also plan instal one car boat garag alexa new best friend lol think gf worri alexa learn cook time limit',\n",
       " 'love alexa dot play game son ask weather love work amazon fire tv',\n",
       " 'like could ask differ question differ thing work intermitt smart tv ask chang volum sometim ask chang channel sometim reset know refurbish okay expect',\n",
       " 'far certifi refurbish echo dot work well littl confus green ring echo dot know ask alexa said receiv call drop case took minut figur notif deliveri amazon believ ring suppos yellow pulsat messag notif refurbish echo dot green puls',\n",
       " 'arriv quickli easi set refurbish amazon echo dot beyond expect alexa becom buddi great assist',\n",
       " 'work advertis speak clearli research command also get wall holder keep way set breez make sure close devic initi connect phone reason made set easier though could psycholog haha',\n",
       " 'love two echo dot third one order give gift defect speaker return process still done alreadi taken week',\n",
       " 'alreadi return',\n",
       " 'refurbish echo wonder purchas mother love abil contact without phone listen music weather ask question wonder gift work excel problem',\n",
       " 'work good howev price went week purchas',\n",
       " 'work amazingli bought daughter love',\n",
       " 'love alexa great help make appoint play song like els look forward',\n",
       " 'got bathroom love listen music whe shower',\n",
       " 'dot origin new one work perfectli buy futur dot recondit',\n",
       " 'littl hard get pare other problem',\n",
       " 'weari pick convers activ use heard happen news concern wish amazon would releas someth widespread push firmwar prevent heard yet',\n",
       " 'realli dislik alexa dot thought cortna cool alexa awesom applic famili unbeliev devic seem aliv must get',\n",
       " 'happi refurbish echo dot two week far work perfectli even though come origin box look like new happi purchas',\n",
       " 'thumb',\n",
       " 'workreat',\n",
       " 'someth wrong first one even rep spoke could fix replac regist someon els price dot went price refurbish one bought brand spank new one problem new one',\n",
       " 'work expect',\n",
       " 'problem',\n",
       " 'almost everi room realli enjoy work perfectli',\n",
       " 'purchas grandson',\n",
       " 'like new',\n",
       " 'happi order',\n",
       " 'love dot especi abil talk one realli conveni issu refurbish like new',\n",
       " 'start take use sinc unplug day one talk daughter lay bed next start go movi moana complet scare sh daughter',\n",
       " 'work great speaker sound fine overal would recommend',\n",
       " 'great like new',\n",
       " 'love price essenti brand new dot open realli tell refurbish everyth look brand new less new unit consid better deal realli love versatil echo dot get one',\n",
       " 'pleas order want',\n",
       " 'think throughout hous conveni set timer check weather whatev wherev',\n",
       " 'love best experi refurbish devic excel',\n",
       " 'love echo dot',\n",
       " 'refurbish item fine awar fee echo set room howev miss cordthank',\n",
       " 'two week set longer work connect light sound guess purchas refurbish dot',\n",
       " 'work like brandnew unit great addit collect',\n",
       " 'great price work perfectli save money refurb would buy',\n",
       " '',\n",
       " 'god',\n",
       " 'good',\n",
       " 'great bought one bought anoth right away grab smart switch set smart home capabl highli recommend',\n",
       " 'like new',\n",
       " 'work still need figur link devic though set sono pretti easi product fault time figur',\n",
       " 'use',\n",
       " 'worst amazon purchas made big amazon fan love brand unlimit digit music prime video even buy onlin game music movi amazon app tri use make simpl purchas anyth useless',\n",
       " 'work well microphon pick well full size echo audio qualiti okay size',\n",
       " 'bought two refurbish one work home work perfectli appear brand new',\n",
       " 'amazon disappoint',\n",
       " 'work great bt receiv output connect vintag stereo equip',\n",
       " 'work great far tell new edit longev year real test',\n",
       " 'amaz',\n",
       " 'love everyth',\n",
       " 'use dot work fine compliment echo',\n",
       " 'work like new one tell differ new one bough refurbish one',\n",
       " 'well big fan echo one went bathroom work great expect',\n",
       " 'purchas year old mother love talk alexa respons detect name room',\n",
       " 'like new perform brand new one problem',\n",
       " 'echo dot disconnect speaker time day buy refurbish product star effort',\n",
       " 'love great product',\n",
       " 'work good satisfi',\n",
       " 'love alexa sound dot best echo nd gen kitchen live room got bedroom signific differ sound dot lack full base sound sound come cheap portabl speaker realli disappoint return right away shell money buy second echo bedroom also',\n",
       " 'took awhil get connect electron savi love',\n",
       " 'cant seem get thing sink wireless sure return tri one time',\n",
       " 'absolut love',\n",
       " 'product stop work return time ran',\n",
       " 'second dot work great refurbishedthought new',\n",
       " 'love guy work great',\n",
       " 'love second alexa bedroom great check weather medit music timer perfect husband use eye drop multipl time day keep eye close minut',\n",
       " 'purchas refurbish work like brand new minut set easi echo dot command start play music backyard deck sound system',\n",
       " 'substitut origin echo dot perform well sound qualiti poor listen highest level',\n",
       " 'love echo dot help husband get netflix app amazon fire tv problem refurbish plan get anoth one amazon fire stick bedroom',\n",
       " 'stop work month warranti good month would assum amazon product sold amazon would higher standard guarante would work whole month mean product suppos piec junk offer discount want buy anoth one would want buy anoth one',\n",
       " 'like new problem whatsoev alexa thank',\n",
       " 'like uncl sometim goe littl haywir',\n",
       " 'bought son work return',\n",
       " 'bought quit connect wifi respond voic within month hard soft reset fix problem',\n",
       " 'receiv echo dot today good condit advis paid amazon write rais price research buy get good deal set dot went simpl enough plug follow app instruct except initi took actual show iphon wifi set call amazon custom servic dunno late get terribl support guy took call rambl complet unhelp script end set dot middl spiel sure norm refurbish dot pretti finicki wifi rang randomli disconnect even though app show rang ghz connect strong reconnect pain time well said alexa work work amazingli well speaker hook one thing realli enjoy mic rang sensit one annoy limit appl siri play audio devic speaker music podcast etc hey siri featur useless alexa problem hear whatev play time amazingli fast respons tri louder speaker yet sure continu hold true set alexa control wireless devic breez albeit limit support arlo devic nil special set led devic eg rainbow effect alexa handl know chang solid color bright level rate would lower gotten decent price item connect problem persist may exchang return item want though alexa kind grow',\n",
       " 'bought everyon say much love need use volum loud enough play music treadmil rather use tower speaker xs louder',\n",
       " 'work like new',\n",
       " 'second one refurbish model work least home',\n",
       " 'bad devic know refurbish activ nobodi talk activ start talk talk yell super laud',\n",
       " 'good new like brand new save money get one',\n",
       " 'ad room conveni',\n",
       " 'nice work good time easi recogn voic repeat sever time time almost scream',\n",
       " 'took chanc certifi refurbish unit look brand new excus disappoint minut troubl free set effortless bluetooth speaker connect alexa app iphon flawless listen favorit tune bose bluetooth setup happier walk door ask alexa play music viola instant atmospher open ipad go set turn bluetooth access pandora app make thing effortless true joy right box discov use fine piec technolog worth everi penni',\n",
       " 'alexa sister second dot',\n",
       " 'love alexa echo dot two one new one refurbish work great becom go sooo mani thing love alarm everi morn whenev love play music sound ocean natur sound tri sleep love mani thing',\n",
       " 'bought refurb work new one bought prior came origin packag well',\n",
       " 'love like second wife',\n",
       " 'far impress save group correctli understand time sure excit alexa voic sound like water suppos understand go return tri googl home',\n",
       " 'work well obviou issu refurbish',\n",
       " 'work great tell refurbish set kid mode home ad love thing',\n",
       " 'great product useless overal mani unnecessari featur unless smart home need',\n",
       " 'work good two new echo dot precious purchas',\n",
       " 'bought mother love love guard dog featur say give sens secur night leav hous',\n",
       " 'bought mainli speaker play music video phone work read instruct work',\n",
       " 'work',\n",
       " 'bought two work great much electron run home alexa want need done',\n",
       " 'nd one come',\n",
       " 'blue light blink time',\n",
       " 'fun use still learn new trick use function futur human comput interfac household autom like star trek knew would soon',\n",
       " 'work great control tv light variou devic late use wake know time want open eye shout alexa time could figur get hous hold chore walk dog golden sound great size expect echo plu much better audio get larger expens echo',\n",
       " 'work great',\n",
       " 'sure like product littl want one everi room daughter constantli ask alexa spell word bare tap thing product capabl look forward learn capabl',\n",
       " '',\n",
       " 'great product work well',\n",
       " 'absolutli love',\n",
       " 'bought first echo dot love got work absolut love',\n",
       " 'work promis',\n",
       " 'work great exist smart home setup',\n",
       " 'perfect could tell differ new one',\n",
       " 'cant figur use',\n",
       " 'good sometim hear well',\n",
       " 'littl apprehens buy refurbish electron product amazon guarante thought would tri glad probabl buy anoth refurb product form amazon love alexa product sever one sit desk small footprint great sound use daili work great',\n",
       " 'bad bad speaker sound',\n",
       " 'great devic mainli use verbal add thing shop list occasion use number fun thing program like go red alert make tardi land ye hous geek even chose wake word comput instead alexa need majel barret voic geek heaven easi get premium spotifi work properli still sure get multipl music account attach listen differ music differ room far still worth often ask time weather even give us news brief also use intercom system realli awesom plu fun know nsa listen everyth',\n",
       " 'love',\n",
       " 'purchas daughter love amaz love game',\n",
       " 'alway work',\n",
       " 'good new perfectli packag zero issu dot',\n",
       " 'love bought granddaught play music ask question entertain hour good buy honest opinion',\n",
       " 'issu work look great',\n",
       " 'fun toy daughter read',\n",
       " 'refurbish echo dot receiv new condit new packag complaint neat littl gadget drive wife nut',\n",
       " 'receiv echo gift love much decid get dot bedroom easi set big differ sound qualiti would still buy',\n",
       " 'work advertis thank',\n",
       " 'new amazon product great everyth bought refurbish complet garbag never purchas amazon refurbish total dissatisfact',\n",
       " 'work good microphon good better echo product',\n",
       " 'took littl work set final got sound qualiti best got work great check weather ask cook question kitchen play radio want music probabl upgrad echo plu better sound',\n",
       " 'love alexa best thing ever bought know ever live thing amaz happi product wish would use googl',\n",
       " 'love work great',\n",
       " 'extrem low volum',\n",
       " 'troubl get program download phone end use comput interest answer come wikipedia howev give echo dot music play depart heard song music total forgotten mainstream station also amus alexa respond know think yard cotton fabric refer footbal play paid full price gadget would sore disappoint seem reason step hal',\n",
       " 'brought replac one move rang previou non refurbish unit would seldom abl find wi fi connect got tire hear messag troubl connect check alexa app unplug went troubleshoot reconnect sever time strong',\n",
       " 'want listen music come sever echo dot unit simultan must pay monthli fee thought amazon appl paid mani could one room enough money',\n",
       " 'purchas gift',\n",
       " 'love',\n",
       " 'overal good devic bought workout room issu reach volum heard standard row machin could use much better speaker',\n",
       " 'work great simpl set alexa way accur imagin im use thought wish alarm could set bit that complaint listen say wake word worri lose conspiraci theori speaker great hold get one turn gen like',\n",
       " 'voic clariti made eavesdrop effort much easier govern',\n",
       " 'work perfect',\n",
       " 'littl troubl begin replac old router work good except current temperatur time alexa much degre like degre alexa would say degre otherwis everyth work expect enjoy listen music amazon pandora station request favorit song record artist',\n",
       " 'bought three three work flawlessli label refurbish known',\n",
       " 'devic work perfectli good price love alexa great fun music great get radio station need morn traffic report think would enjoy ai hous fun educ entertain even peopl tech savvi',\n",
       " 'eh work half time respond say wake name work fine',\n",
       " 'great littl thing work better siri',\n",
       " 'amaz love',\n",
       " 'bought son love',\n",
       " 'first second gener echo dot think prefer volum ring first gen better button second gen still job great price got still definit recommend',\n",
       " 'fun use morn brief',\n",
       " 'arriv time work amaz',\n",
       " 'like new set quick easi',\n",
       " 'like new good refurbish',\n",
       " 'love',\n",
       " 'love echo dot',\n",
       " 'like know music type least wireless volum high',\n",
       " 'great product',\n",
       " 'work great reason leav star wont play unless plug whole time pretti irrit especi outlet avail',\n",
       " 'work great',\n",
       " 'love ita like person assist comput everyth els one',\n",
       " 'problem item could inexperi order wrong thing decid set use alexa tri replac small bluetooth speaker bedroom thought could learn go download app never could get echo sync iphon decid give one kid probabl enjoy use intend',\n",
       " 'es perfecto',\n",
       " 'work good far',\n",
       " 'work great daughter love',\n",
       " 'work great',\n",
       " 'love',\n",
       " 'want white dot white bathroom top black shown knew realiz cord plug also black want white cord plug',\n",
       " '',\n",
       " 'work great',\n",
       " 'amaz',\n",
       " 'great product',\n",
       " 'work perfectli',\n",
       " 'perfect',\n",
       " 'set echo dot work hour die complet buy refurbish sent back return day receiv',\n",
       " 'echo dot horribl volum phone louder devic boss one case',\n",
       " 'overal work well connect issu definit worth money',\n",
       " 'issu refurbish unit perform expect would buy anoth one need',\n",
       " 'great mom insid owlhead jacuzzi',\n",
       " 'work great put son room use drop option get attent game watch tv',\n",
       " 'perfect',\n",
       " 'look brand nrw noth complain defent order',\n",
       " 'ok speaker pretti terribl googl home better product',\n",
       " 'love',\n",
       " 'love answer stupid question tell weather get couch',\n",
       " 'first one quit work shortli got next one becom unrespons voic time way get work app sure dot way',\n",
       " 'bought go niec room tell refurbish look good work like new',\n",
       " 'devic work follow instruct alexa echo dot come upset',\n",
       " 'sent back due crackl nois turn expect refurbish item',\n",
       " 'best price could find use around answer question handi find phone also intercom system',\n",
       " 'never satisfi product perfect introduct alexa',\n",
       " 'work well speaker grand get anoth speaker drop futur would gone full size echo',\n",
       " 'love echo thing full size version sound better though',\n",
       " 'work great',\n",
       " 'need life plan time date music',\n",
       " 'seem troubl hear say wake word despit train voic wonder someth buy refurbish googl home mini problem hear us much louder',\n",
       " 'love work perfectli',\n",
       " 'brand new echo dot thought refurbish would good quit differ expect refurbish unit even turn realiz power adapt faulti way amazon send power adapt accord return option love amazon buy even toilet paper truli let updat amazon contact credit enough buy new power adapt shop amazon alway trust deliv product',\n",
       " 'bought famili member gift call see like said love',\n",
       " 'loud qualiti eas use great sound perfect background music would suggest connect togeth tri use host louder parti',\n",
       " 'look brand new work great love echo dot refurbish one like new',\n",
       " 'nd one use time',\n",
       " 'work like new one l anoth alexa devic lm fanat',\n",
       " 'echo good',\n",
       " 'work great',\n",
       " 'great price extend rang super valu dot offer hook wireless speaker use work outsid dot made outdoor sound rang possibl without disturb indoor light control possibl',\n",
       " 'amazingli fun daughter ask question first day set daili alarm weekend remind playlist morn show random song daili bibl vers weather morn commut tell way go dodg traffic get one link phone yet',\n",
       " 'work perfect differ refurb one new one hous buy refurb',\n",
       " 'great product wake everi morn time',\n",
       " 'like new differ new unus origin',\n",
       " 'complaint far know exactli like new littl cheaper great',\n",
       " 'perfect condit',\n",
       " 'like new',\n",
       " 'work well new version got discount echo speaker decid purchas version amazon state warranti',\n",
       " 'receiv echo gift need anoth bluetooth someth play music easili access found smart speaker wait see els',\n",
       " 'without cellphon cannot use mani featur ipad see use great alarm u r almost deaf hear alarm bedroom live room reason enough keep fun ask random question hear respons seem smartbon polit yet',\n",
       " 'think th one purchas work get one everi room hous realli like featur offer specifili play music echo control light throughout hous',\n",
       " 'look great',\n",
       " 'love listen song heard sinc childhood get news weather inform great',\n",
       " 'sent year old dad talk constantli',\n",
       " 'love learn knew thing eveyday still figur everyth work far easi use understand make laugh time',\n",
       " 'purchas mother knee problem give someth tri come get around fast like enjoy littl big thing alexa play song time cook',\n",
       " 'love love love',\n",
       " 'expect',\n",
       " 'love wife hate',\n",
       " 'realli happi purchas great speaker easi set',\n",
       " 'use alexa coupl day lot fun new toy like new household member tri learn differ featu benefit come',\n",
       " 'love size nd gener echo still need littl improv sound',\n",
       " 'like origin echo shorter greater fabric color choic miss volum ring top plu minu button big deal ring w comfort well like use standard usb charger port instead previou round pin guess sound seem work still answer alexa echo comput like',\n",
       " 'love echo good music sound play alexa understand command difficult time find specif playlist song spotifi good amazon music lack major program',\n",
       " 'love alexa use play music play radio itun play podcast anypod set remind listen flash brief news weather everi morn reli custom list like abl voic control volum sure continu find new use sometim bit frustrat alexa understand say',\n",
       " 'set day still ad smart home devic speaker great play music like size station kitchen counter intrus look',\n",
       " 'love play sleep sound immedi ask',\n",
       " 'got second unit bedroom expect sound improv didnt realli see differ overal big improv st gener',\n",
       " 'amaz product',\n",
       " 'love echo easi oper load fun everyth advertis use mainli play favorit tune test alexa knowledg',\n",
       " 'sound great love',\n",
       " 'fun item play get use use sometim hard time answer question ask think better',\n",
       " 'like one',\n",
       " 'still learn capabl far pretti pretti pretti good',\n",
       " 'like',\n",
       " 'work well need learn command uniqu owner user like alexa learn tasha birthday alexa learn definit fine etc great',\n",
       " 'speaker sound pretti good small setup pretti easi bought two reason rate follow instruct synch music unit know done correctli sync primari motiv purchas multipl unit',\n",
       " 'devic awesom',\n",
       " 'bought compar speaker qualiti first gener speaker like sound better ship daughter though like fact first gener chargeabl base bought keep mobil need better sound',\n",
       " 'love echo still learn thing abl follow instruct includ packag found great one u tube',\n",
       " 'speaker better st gener echo',\n",
       " 'thing way cool get one want cool',\n",
       " 'first digit assist give good review speaker realli good cheap price prime day fun play use alarm clock go get first place end echo go one definit tri like best number devic connect purchas came smart plug connect lamp alexa turn light',\n",
       " 'husband like abl use listen music wish knew capabl',\n",
       " 'android would allow alexa connect fortun sister appl cell hour tech support fix glitch run',\n",
       " 'far good',\n",
       " 'tri play certain broadway show like camelot give ne group camelot',\n",
       " 'great',\n",
       " 'satisfi echo alexa control light famili room wife listen jimmi buffet ask alexa',\n",
       " 'like siri fact siri answer accur alexa see real need household though good bargain prime day deal',\n",
       " 'love echo still learn everi thing work ton fun',\n",
       " 'love much',\n",
       " 'differ appl play specif list music must amazon spotifi plu prime etc account must pay play music star reason everyth els',\n",
       " 'excelent lo unico es que esta en espa ol',\n",
       " 'still learn use far echo great sound actual much better expect',\n",
       " 'work expect also good sound qualiti consid price sale featur',\n",
       " 'sound echo nd gener phenomen mention love alexa help',\n",
       " 'like googl better',\n",
       " 'let play learn get',\n",
       " 'work advertis easi setup still learn',\n",
       " 'great sound easi set',\n",
       " 'love alexa bought other friend',\n",
       " 'love echo purchas compani husband alexa great say name tell joke play favorit song',\n",
       " '',\n",
       " 'love abl listen music easili still learn featur avail',\n",
       " 'realli know could use devic use thing need overview',\n",
       " 'love wish built hub',\n",
       " 'use primarili play music work wonder still get use mani thing amazon sent sever tip sinc got thank help',\n",
       " 'easi set',\n",
       " 'fast respons amaz clear concis answer sound qualiti fantast still get use alexia usd echo full extent',\n",
       " 'need na na nana',\n",
       " 'everyth expect',\n",
       " 'love echo work like said would smart home cannot speak function everyth els good',\n",
       " 'great sound small packag easi set use fun',\n",
       " 'work sound great',\n",
       " 'sound amaz mani collect music',\n",
       " 'set',\n",
       " 'alway listen',\n",
       " 'awesom',\n",
       " 'bought control fio televis work well hope time control fio discov thing alexa play music ask great sound alexa play game play radio station play old time radio program like long ranger alexa mani app add abil day play madlib great fun also alexa control household applianc purchas alexa compat power strip control light fan tv compon look forward implement control also add alexa compon chosen music play room compon locat',\n",
       " 'speaker excel sound work perfectli',\n",
       " 'like',\n",
       " 'love everyth',\n",
       " 'littl nervou receiv new echo realli tech savvi found bit intimid first take long figur happi purchas think ad echo spot',\n",
       " 'like still learn use',\n",
       " 'great technolog believ speaker volum qualiti wonder wish bought anoth one',\n",
       " 'purchas echo dot husband father day use constantli hear qualiti sound echo nd gener brainer best gift ever',\n",
       " 'work fine',\n",
       " '',\n",
       " 'clear music',\n",
       " 'fun use good sound qualiti',\n",
       " 'echo work well abl sync amazon music devic',\n",
       " 'work great think amazon charg anoth cent unlimit music prime buy echo',\n",
       " 'alreadi echo dot echo even better fuller sound also setup let phone call made contact list great',\n",
       " 'speaker sound realli good',\n",
       " 'good sound work well',\n",
       " 'love alexa savvi support help patient',\n",
       " 'love think get one prime day discount offer could pass fun ask alexa play song group come playlist amazon prime music also connect iphon bluetooth play music pandora youtub video use alexa speaker fun ask alexa differ type question inform like weather news even time countri downsid limit data wifi plan alexa use burn play music',\n",
       " 'like far lot tri yet',\n",
       " 'love use strictli music great',\n",
       " 'love echo love size materi speaker qualiti hook one light easili work addit light thermostat next echo dot bedroom lot echo think traffic weather trivia etc',\n",
       " 'love',\n",
       " 'entir famili love alexa echo part famili',\n",
       " 'great fun get know function product wow famili fun homework help talk grandchildren also echo huge bonu wait learn',\n",
       " 'love',\n",
       " 'awesom thing love alexa',\n",
       " 'work exactli expect speaker great sound perfect classroom',\n",
       " 'love love new littl gadget made live much easier like person secretari live home hardli need cd anymor sinc alexa play everyth need go get alexa dot soon room thank',\n",
       " 'speaker surpris qualiti happi purchas',\n",
       " 'easi set work wonder love',\n",
       " 'realli impress sound qualiti play music devic bass sound almost like come bigger speaker prop amazon',\n",
       " 'still great product sound qualiti seem wors get wrong definit get use within hour definit feel like echo gen sound qualiti better besid great addit abl play bluetooth wifi even better',\n",
       " 'outlet work disappoint',\n",
       " 'great devic respons help',\n",
       " 'sound terribl u want good music get bose',\n",
       " 'like sound troubl paid extra money access million song sometim work ex alexa play italian song understand play opera tosca respons sorri',\n",
       " 'easi set use bad plug would nice take outsid oper batteri recharg',\n",
       " 'still learn way use real hit grandkid ask play music danc yr cute',\n",
       " 'star gener like product great ask like play music set timer make call reason rate sometim connect die echo stop play music show red ring seem connect issu overal great product',\n",
       " 'work great upgrad echo dot full size echo happier',\n",
       " 'alexa els say',\n",
       " 'upgrad lilttl echo dot happi sound',\n",
       " 'excel product set eas well',\n",
       " 'first gen echo sinc first came work well purchas nd gen prime day far happi seem improv speaker provid enhanc sound music',\n",
       " 'love echo smart speaker love volum clariti easi set wonder gift age',\n",
       " 'wonder product fast deliveri',\n",
       " 'initi harder set call tech knowledg work great',\n",
       " 'easi set famili love',\n",
       " 'great sound respons voic command',\n",
       " 'live long without echo get enjoy music style ask alexa go gread wireless love echo love alexa',\n",
       " 'cool product speaker sound good spotifi blast',\n",
       " 'much fun alexa love abl listen music across room busi someth els',\n",
       " 'far seem nice item pick voic understand without problem day ask turn music next room heard fine use listen music check weather done thing well',\n",
       " 'love echo',\n",
       " 'love help use rememb thing sleep ask anyth week still learn',\n",
       " 'better st gen everi way except one realli miss ring top volum control quicker easier grab top twist without look button find one press time also wish bass bit better great devic happi',\n",
       " 'love alexa',\n",
       " 'far like',\n",
       " 'thoroughli enjoy ecoo love read audiobook offic simpli open audiobook kindl continu elsewher wonder listen music mood book great set remind much',\n",
       " 'still love',\n",
       " 'love',\n",
       " 'love sound qualiti unit clear sound',\n",
       " 'listen talk radio morn turn light etc system excel job full hous sound system stream siriu',\n",
       " 'week still learn alexa learn process love music call time listen podcast radio station start keep shop list groceri list love search paper pencil get time temperatur great wait weather report sound good fussi woofer tweeter base etc echo fine afternoon go tri drop son get home go surpris',\n",
       " 'much featur',\n",
       " 'great sound qualiti great featur great product multi room music cool',\n",
       " 'cool',\n",
       " 'everyon echo two three bought echo qvc',\n",
       " 'annoy everyth show alexa abl download spend much time tri figur phrase machin may well look',\n",
       " 'alexa sinc begin accident spill water replac nd gener decid without echo setup easi work within minut',\n",
       " 'like abl tell alexia music want hear sometim troubl find song specif titl',\n",
       " 'like look better origin echo move old echo basement famili room nice sound',\n",
       " 'echo wonder still learn use music request somewhat limit',\n",
       " 'know half thing ask recogn sprinkler wifi control even though product detail say compat program chang wifi thermostat set match wifi router handi music player amazon music',\n",
       " 'love',\n",
       " 'awesom understand kid',\n",
       " 'pleasantli surpris sound qualiti mani featur nice easili hear particular artist hear book simpl command look forward explor option devic',\n",
       " 'met exceed expect easi set realli quick respons',\n",
       " 'like fact get kind music prime want request alexa like inform photo littl pamphlet wish includ connect tv etc command alexa realli love music',\n",
       " 'found way access echo thorough prime account think part top line video music etc also think setup app defin exampl music like well integr echo tri ask playlist echo sure even though set play list set also like fact word exact match playlist name never rememb like readi natur echo respond queri',\n",
       " 'great item ad audibl book make even better thank',\n",
       " 'prime day nd gen echo sale resist begin smart home set happier say alexa done amaz job connect smart devic thank control light smart plug tv etc troubl connect echo wifi phone app work perfectli fine let add skill routin smart devic timer much sound qualiti good enough sinc audiophil alexa hear voic even watch movi high volum design great modern definit add nice touch home chang cover like sale overal great addit home enabl mani possibl yet sure add alexa home',\n",
       " 'versatil fun',\n",
       " 'work great killer speaker wife son love',\n",
       " 'regret wait long purchas item surpris pleas sound qualiti',\n",
       " 'stop work week follow command realli fun work',\n",
       " 'far love work get thing set love groceri list app',\n",
       " 'perform pretti much expect disappoint provid terminolog need play variou kind music without subscrib amazon music servic understand music choic may limit without know ask cannot access music provid free along echo purchas chart show languag need use',\n",
       " 'easi set',\n",
       " 'like product except speaker high qualiti expect',\n",
       " 'great invest alexa help made laugh',\n",
       " 'yet anoth exho home love',\n",
       " 'love plan gender music big band jazz easi find local radio sound good stop voic command get phone call',\n",
       " 'good valu',\n",
       " 'super easi set love new echo',\n",
       " 'what like speaker ask alexa',\n",
       " 'best father day gift dad joke mom alexa one listen repeat stori go forward',\n",
       " 'great addit breakfast room kitchen tune inform instantli avail slowli learn featur',\n",
       " 'sound qualiti',\n",
       " 'sad joke worthless',\n",
       " 'entertain',\n",
       " 'good qualiti',\n",
       " 'work great sound great miss beat wish batteri better portabl',\n",
       " 'love till someon stole afford replac yet go',\n",
       " 'alexa rock',\n",
       " 'got gift love never would bought one allow play music amozon prime music worth also give new brief tell joke',\n",
       " '',\n",
       " 'mom bought echo dot repeat ask take one great told two day made take hour later could live life without amaz four larg speaker small echo dot return say go order alexa speaker go big get echo otherwis tou return two echo dot live without',\n",
       " 'love great product',\n",
       " 'easi set user friendli',\n",
       " 'realli disappoint alexa plug wall socket time fault check made assumpt compani technolog advanc amazon would sell product recharg batteri could return would appl music boom speaker give flexibl alexa',\n",
       " 'think nd gen sound good st aux could add extern speaker go get dot nd issu uniqu unit understand overrid default prevent play blue tooth speaker play group get delay use bt speaker unit heard abl play group use bt speaker',\n",
       " 'everyth',\n",
       " 'like interact ask question like ask setup schedul connect lamp',\n",
       " 'supberb sound definit worth extra money listen lot music',\n",
       " 'realli love amazon echo think sound qualiti great lot fun realli handi music get updat weather sport',\n",
       " 'love grandkid',\n",
       " 'far work well alway intuit link differ devic skill get hang',\n",
       " 'work advertis',\n",
       " 'love',\n",
       " 'love new addit hous speaker qualiti great love alexa two complaint suggest futur seri would better commun abil exampl smart light hous unless specifi kitchen light kitchen light prior command either respond say recogn may want alexa respond say thank afterward repeat alexa thank time respond husband know sound odd laugh mayb southern thing want alexa manner',\n",
       " 'like everyth music trivia game weather',\n",
       " 'describ receiv time like automat enrol music',\n",
       " 'great devic',\n",
       " 'own echo overa year new lack easi way increas decreas volum without tell increas decreas volum hard wife sinc english second languag born korea sound echo superb keep',\n",
       " 'love kitchen work well',\n",
       " 'nice impress wish say though',\n",
       " 'love product nice easi access much info',\n",
       " 'got great sound bass work time still hot miss recogn thing',\n",
       " 'still discov echo',\n",
       " 'amaz paroduct',\n",
       " 'good hear rang sound qualiti bit complic set quit understand lot even speak slowli clearli love flash brief featur interfac abod home secur system',\n",
       " 'speaker sound good',\n",
       " 'absolut love',\n",
       " 'best part product control thermostat light hous anyth dislik',\n",
       " 'thoroughli enjoy amazon echo instal easi use alexa app purchas kasa smart plug control live room light instal easi use kasa app sinqu right echo enjoy play music echo sound qualiti awesom ad kasa smart bulb kitchen setup seamless look forward ad autom home',\n",
       " 'home entertain',\n",
       " 'cool product easi setup fun use sound qualiti much better anticip',\n",
       " 'love great sound easi connect use',\n",
       " 'work fairli new smart tv mainli tv manufactur lg fault due support anyth older tv year smart lock also need addit piec equip order connect well speaker sound great work well',\n",
       " 'great sound littl speaker',\n",
       " 'enjoy',\n",
       " '',\n",
       " 'cool',\n",
       " 'good qualiti great sound qualiti',\n",
       " 'work perfectli',\n",
       " 'great product sometim alexa understand command fire tv fabul speaker',\n",
       " 'love echo great sound smart',\n",
       " 'sure love',\n",
       " 'play great',\n",
       " 'work absolut great',\n",
       " 'amaz product great sound qualiti',\n",
       " 'best thing invest thank much',\n",
       " 'extrem impress item bought warehous outlet minor imperfect tell even one work great come packag seal damag miss anyth like sound qualiti see knock bose great famili easi use minor learn curv learn voic integr seamlessli amazon servic wait get classroom lot fun even speaker let alon plan',\n",
       " 'love echo show bedroom wonder music info sleep sound',\n",
       " 'awesom life changer serious abl start morn alexa wake alarm play music gotten use voic anoth room listen say love echo hesit get one price speaker unbeliev buy cordless holder take echo anywher love purchas love alexa',\n",
       " 'super impress alexa prime laps play anyth smart enough differenti among spotifi account use either randomli speak nobodi talk today unplug sure ever use alexa',\n",
       " 'like everyth',\n",
       " 'like',\n",
       " 'never issu buy use electron long get good like new read comment see use',\n",
       " 'famili realli love new echo',\n",
       " 'bought wife love',\n",
       " 'fun got today pod go car use hous',\n",
       " 'like',\n",
       " 'third echo worth everi penni like household employe small flat rate keep bedroom live room drop use intercom listen music answer quick question alarm wake school etc',\n",
       " 'listen music set timer',\n",
       " 'receiv echo perfect condit devic easi set respond quickli without issu alexa great addit famili',\n",
       " 'good sound like music schedul like get random thought record think joke cute',\n",
       " 'purchas begin learn far pleas amaz differ action perform enjoy look forward learn option provid',\n",
       " 'echo great other even though smaller',\n",
       " 'funni buy someth look fun wind total use part home love',\n",
       " 'bought replac dot live room speaker slightli better hear better tv unfortun understand respond request well dot frequent request time get want dot usual exactli want first request consid upgrad',\n",
       " 'good experi far second gener echo mani thing learn time yet right mostli enjoy music weather updat use alarm featur person also purchas mini smart socket ye excit begin use',\n",
       " 'troubl connect tv exactli tech smart sure one grandson figur far use mostli music',\n",
       " 'simpli love echo hardli watch tv anymor busi listen music speaker pretti goo size fun skill realli make echo fun whole famili',\n",
       " 'enjoy entir echo experi',\n",
       " 'easi set',\n",
       " 'echo amaz devic mani time seem intuit time ask someth seem clear simpl get result instal fairli straightforward mess sever time simpli thought step complet actual made lose ground figur advic patient app let know move next step biggest issu moment sever echo devic home would like use intercom told done howev make echo awar other exist ask alexa answer instruct chang name know like fault would think design would anticip make easier find need instruct small deal mani devic savvi peopl challeng',\n",
       " 'love much',\n",
       " 'origin alexa tap far nd gener best happi see make improv new one would great updat littl think would help lot bug happi play music throughout whole hous adjust bass trebl thank',\n",
       " 'pleas echo nd gener nice alexa avail music weather news probabl lot discov',\n",
       " 'pleasantli surpris sound qualiti echo big fan deep bass might suffici though potenti control home option explor evolv home smart home voic recognit impress stylish fun regret purchas great technic chang peopl ask play song movi respond instantli elderli love one would great gift connect wifi simpl use want unlimit music control sure amazon prime premium spotifi blown away person dj even convers echo embarrass say echo made laugh coupl time ask tell joke tell packag sinc amazon prime addict come extrem handi',\n",
       " 'easi setup love thing',\n",
       " 'alexa throughout hous futur arriv',\n",
       " 'alreadi alexa amazon find today could resist get echo also best thing ever use side hous happier',\n",
       " 'arriv expect',\n",
       " 'bought week ago everyth product excel forget buy charger order must take outsid pool worri hire electrician put outlet yard',\n",
       " 'terrif',\n",
       " 'love echo',\n",
       " 'smaller origin look nicer',\n",
       " 'work great',\n",
       " 'husband would call late adopt come technolog decid would tri echo serv primarili music sourc wow amaz great sound also great time listen favorit song buy ask alexa may even buy one elderli dad think enjoy one listen music even place call us',\n",
       " 'realli enjoy chang directv channel play iheartradio pandora adjust ac thermostat turn live room light outsid light',\n",
       " 'want one bought prime day absolut love',\n",
       " 'glad got echo bluetooth speaker alexa much stuff non smart speaker person love timer featur help cook multipl thing simultan pandora integr anoth featur use daili happi prime day purchas get echo hub echo dot futur',\n",
       " 'see subject line love',\n",
       " 'love',\n",
       " 'easi setup',\n",
       " 'hesit buy echo echo dot seem good enough echo except sound qualiti realli feel need howev glad got differ sound realli far superior echo dot listen greatest showman littl power',\n",
       " 'sound qualiti great still learn differ thing fun',\n",
       " 'got good deal work great prime setup bit pain fault crappi internet servic work great nice sound small speaker',\n",
       " 'love',\n",
       " 'work great perfect offic',\n",
       " 'love one insid hous one pool good bose speaker around hous',\n",
       " 'easi use amaz',\n",
       " 'nice product',\n",
       " 'love echo total amaz speaker qualiti bum buy two sinc got prime day',\n",
       " 'respons great sound qualiti size',\n",
       " 'effici amaz cool use often everi day',\n",
       " 'impress qualiti sound echo definit compar bose mini gave star use appl music account',\n",
       " 'technolog small devic price good sound amaz must featur home',\n",
       " 'mainli use music learn time realli noth bad say',\n",
       " 'replac st gen concern smaller unit sound wrong anyth volum clear good product',\n",
       " 'great addit echo plu',\n",
       " 'best',\n",
       " 'love featur play music everi room multipl echo',\n",
       " 'love alexa surpris much use',\n",
       " 'use product enjoy love',\n",
       " 'easi use great sound great purchas great price',\n",
       " 'easi set issu',\n",
       " 'unit add much pleasur echo plu music inform home one room',\n",
       " 'extrem use simpl thing like spotifi audibl thing like sometim answer everyth ask still nice use',\n",
       " 'difficult set keep time enter password',\n",
       " 'get use use echo use shop list listen music timer work great far',\n",
       " 'cool lot fun use week still learn capabl',\n",
       " 'love love',\n",
       " 'love hard time set app',\n",
       " 'use offic anoth apart music inform',\n",
       " ...]"
      ]
     },
     "execution_count": 153,
     "metadata": {},
     "output_type": "execute_result"
    }
   ],
   "source": [
    "STOPWORDS = set(stopwords.words('english'))\n",
    "corpus=[]\n",
    "for i in range(0,3150):\n",
    "    review = re.sub('[^a-zA-Z]', ' ', Data['verified_reviews'][i])\n",
    "    review = review.lower()\n",
    "    review = review.split()\n",
    "    stemmer = PorterStemmer()\n",
    "    review = [stemmer.stem(token) for token in review if not token in STOPWORDS]\n",
    "    #contain all words that are not in stopwords dictionary\n",
    "    review=' '.join(review)\n",
    "    corpus.append(review)\n",
    "corpus"
   ]
  },
  {
   "cell_type": "code",
   "execution_count": 154,
   "id": "d817c7f4",
   "metadata": {},
   "outputs": [
    {
     "data": {
      "text/plain": [
       "['love',\n",
       " 'echo',\n",
       " 'love',\n",
       " 'sometim',\n",
       " 'play',\n",
       " 'game',\n",
       " 'answer',\n",
       " 'question',\n",
       " 'correctli',\n",
       " 'alexa',\n",
       " 'say',\n",
       " 'got',\n",
       " 'wrong',\n",
       " 'answer',\n",
       " 'like',\n",
       " 'abl',\n",
       " 'turn',\n",
       " 'light',\n",
       " 'away',\n",
       " 'home',\n",
       " 'lot',\n",
       " 'fun',\n",
       " 'thing',\n",
       " 'yr',\n",
       " 'old',\n",
       " 'learn',\n",
       " 'dinosaur',\n",
       " 'control',\n",
       " 'light',\n",
       " 'play',\n",
       " 'game',\n",
       " 'like',\n",
       " 'categori',\n",
       " 'nice',\n",
       " 'sound',\n",
       " 'play',\n",
       " 'music',\n",
       " 'well',\n",
       " 'music',\n",
       " 'receiv',\n",
       " 'echo',\n",
       " 'gift',\n",
       " 'need',\n",
       " 'anoth',\n",
       " 'bluetooth',\n",
       " 'someth',\n",
       " 'play',\n",
       " 'music',\n",
       " 'easili',\n",
       " 'access',\n",
       " 'found',\n",
       " 'smart',\n",
       " 'speaker',\n",
       " 'wait',\n",
       " 'see',\n",
       " 'els',\n",
       " 'without',\n",
       " 'cellphon',\n",
       " 'cannot',\n",
       " 'use',\n",
       " 'mani',\n",
       " 'featur',\n",
       " 'ipad',\n",
       " 'see',\n",
       " 'use',\n",
       " 'great',\n",
       " 'alarm',\n",
       " 'u',\n",
       " 'r',\n",
       " 'almost',\n",
       " 'deaf',\n",
       " 'hear',\n",
       " 'alarm',\n",
       " 'bedroom',\n",
       " 'live',\n",
       " 'room',\n",
       " 'reason',\n",
       " 'enough',\n",
       " 'keep',\n",
       " 'fun',\n",
       " 'ask',\n",
       " 'random',\n",
       " 'question',\n",
       " 'hear',\n",
       " 'respons',\n",
       " 'seem',\n",
       " 'smartbon',\n",
       " 'polit',\n",
       " 'yet',\n",
       " 'think',\n",
       " 'th',\n",
       " 'one',\n",
       " 'purchas',\n",
       " 'work',\n",
       " 'get',\n",
       " 'one',\n",
       " 'everi',\n",
       " 'room',\n",
       " 'hous',\n",
       " 'realli',\n",
       " 'like',\n",
       " 'featur',\n",
       " 'offer',\n",
       " 'specifili',\n",
       " 'play',\n",
       " 'music',\n",
       " 'echo',\n",
       " 'control',\n",
       " 'light',\n",
       " 'throughout',\n",
       " 'hous',\n",
       " 'look',\n",
       " 'great',\n",
       " 'love',\n",
       " 'listen',\n",
       " 'song',\n",
       " 'heard',\n",
       " 'sinc',\n",
       " 'childhood',\n",
       " 'get',\n",
       " 'news',\n",
       " 'weather',\n",
       " 'inform',\n",
       " 'great',\n",
       " 'sent',\n",
       " 'year',\n",
       " 'old',\n",
       " 'dad',\n",
       " 'talk',\n",
       " 'constantli',\n",
       " 'love',\n",
       " 'learn',\n",
       " 'knew',\n",
       " 'thing',\n",
       " 'eveyday',\n",
       " 'still',\n",
       " 'figur',\n",
       " 'everyth',\n",
       " 'work',\n",
       " 'far',\n",
       " 'easi',\n",
       " 'use',\n",
       " 'understand',\n",
       " 'make',\n",
       " 'laugh',\n",
       " 'time',\n",
       " 'purchas',\n",
       " 'mother',\n",
       " 'knee',\n",
       " 'problem',\n",
       " 'give',\n",
       " 'someth',\n",
       " 'tri',\n",
       " 'come',\n",
       " 'get',\n",
       " 'around',\n",
       " 'fast',\n",
       " 'like',\n",
       " 'enjoy',\n",
       " 'littl',\n",
       " 'big',\n",
       " 'thing',\n",
       " 'alexa',\n",
       " 'play',\n",
       " 'song',\n",
       " 'time',\n",
       " 'cook',\n",
       " 'love',\n",
       " 'love',\n",
       " 'love',\n",
       " 'expect',\n",
       " 'love',\n",
       " 'wife',\n",
       " 'hate',\n",
       " 'realli',\n",
       " 'happi',\n",
       " 'purchas',\n",
       " 'great',\n",
       " 'speaker',\n",
       " 'easi',\n",
       " 'set',\n",
       " 'use',\n",
       " 'alexa',\n",
       " 'coupl',\n",
       " 'day',\n",
       " 'lot',\n",
       " 'fun',\n",
       " 'new',\n",
       " 'toy',\n",
       " 'like',\n",
       " 'new',\n",
       " 'household',\n",
       " 'member',\n",
       " 'tri',\n",
       " 'learn',\n",
       " 'differ',\n",
       " 'featu',\n",
       " 'benefit',\n",
       " 'come',\n",
       " 'love',\n",
       " 'size',\n",
       " 'nd',\n",
       " 'gener',\n",
       " 'echo',\n",
       " 'still',\n",
       " 'need',\n",
       " 'littl',\n",
       " 'improv',\n",
       " 'sound',\n",
       " 'like',\n",
       " 'origin',\n",
       " 'echo',\n",
       " 'shorter',\n",
       " 'greater',\n",
       " 'fabric',\n",
       " 'color',\n",
       " 'choic',\n",
       " 'miss',\n",
       " 'volum',\n",
       " 'ring',\n",
       " 'top',\n",
       " 'plu',\n",
       " 'minu',\n",
       " 'button',\n",
       " 'big',\n",
       " 'deal',\n",
       " 'ring',\n",
       " 'w',\n",
       " 'comfort',\n",
       " 'well',\n",
       " 'like',\n",
       " 'use',\n",
       " 'standard',\n",
       " 'usb',\n",
       " 'charger',\n",
       " 'port',\n",
       " 'instead',\n",
       " 'previou',\n",
       " 'round',\n",
       " 'pin',\n",
       " 'guess',\n",
       " 'sound',\n",
       " 'seem',\n",
       " 'work',\n",
       " 'still',\n",
       " 'answer',\n",
       " 'alexa',\n",
       " 'echo',\n",
       " 'comput',\n",
       " 'like',\n",
       " 'love',\n",
       " 'echo',\n",
       " 'good',\n",
       " 'music',\n",
       " 'sound',\n",
       " 'play',\n",
       " 'alexa',\n",
       " 'understand',\n",
       " 'command',\n",
       " 'difficult',\n",
       " 'time',\n",
       " 'find',\n",
       " 'specif',\n",
       " 'playlist',\n",
       " 'song',\n",
       " 'spotifi',\n",
       " 'good',\n",
       " 'amazon',\n",
       " 'music',\n",
       " 'lack',\n",
       " 'major',\n",
       " 'program',\n",
       " 'love',\n",
       " 'alexa',\n",
       " 'use',\n",
       " 'play',\n",
       " 'music',\n",
       " 'play',\n",
       " 'radio',\n",
       " 'itun',\n",
       " 'play',\n",
       " 'podcast',\n",
       " 'anypod',\n",
       " 'set',\n",
       " 'remind',\n",
       " 'listen',\n",
       " 'flash',\n",
       " 'brief',\n",
       " 'news',\n",
       " 'weather',\n",
       " 'everi',\n",
       " 'morn',\n",
       " 'reli',\n",
       " 'custom',\n",
       " 'list',\n",
       " 'like',\n",
       " 'abl',\n",
       " 'voic',\n",
       " 'control',\n",
       " 'volum',\n",
       " 'sure',\n",
       " 'continu',\n",
       " 'find',\n",
       " 'new',\n",
       " 'use',\n",
       " 'sometim',\n",
       " 'bit',\n",
       " 'frustrat',\n",
       " 'alexa',\n",
       " 'understand',\n",
       " 'say',\n",
       " 'set',\n",
       " 'day',\n",
       " 'still',\n",
       " 'ad',\n",
       " 'smart',\n",
       " 'home',\n",
       " 'devic',\n",
       " 'speaker',\n",
       " 'great',\n",
       " 'play',\n",
       " 'music',\n",
       " 'like',\n",
       " 'size',\n",
       " 'station',\n",
       " 'kitchen',\n",
       " 'counter',\n",
       " 'intrus',\n",
       " 'look',\n",
       " 'love',\n",
       " 'play',\n",
       " 'sleep',\n",
       " 'sound',\n",
       " 'immedi',\n",
       " 'ask',\n",
       " 'got',\n",
       " 'second',\n",
       " 'unit',\n",
       " 'bedroom',\n",
       " 'expect',\n",
       " 'sound',\n",
       " 'improv',\n",
       " 'didnt',\n",
       " 'realli',\n",
       " 'see',\n",
       " 'differ',\n",
       " 'overal',\n",
       " 'big',\n",
       " 'improv',\n",
       " 'st',\n",
       " 'gener',\n",
       " 'amaz',\n",
       " 'product',\n",
       " 'love',\n",
       " 'echo',\n",
       " 'easi',\n",
       " 'oper',\n",
       " 'load',\n",
       " 'fun',\n",
       " 'everyth',\n",
       " 'advertis',\n",
       " 'use',\n",
       " 'mainli',\n",
       " 'play',\n",
       " 'favorit',\n",
       " 'tune',\n",
       " 'test',\n",
       " 'alexa',\n",
       " 'knowledg',\n",
       " 'sound',\n",
       " 'great',\n",
       " 'love',\n",
       " 'fun',\n",
       " 'item',\n",
       " 'play',\n",
       " 'get',\n",
       " 'use',\n",
       " 'use',\n",
       " 'sometim',\n",
       " 'hard',\n",
       " 'time',\n",
       " 'answer',\n",
       " 'question',\n",
       " 'ask',\n",
       " 'think',\n",
       " 'better',\n",
       " 'like',\n",
       " 'one',\n",
       " 'still',\n",
       " 'learn',\n",
       " 'capabl',\n",
       " 'far',\n",
       " 'pretti',\n",
       " 'pretti',\n",
       " 'pretti',\n",
       " 'good',\n",
       " 'like',\n",
       " 'work',\n",
       " 'well',\n",
       " 'need',\n",
       " 'learn',\n",
       " 'command',\n",
       " 'uniqu',\n",
       " 'owner',\n",
       " 'user',\n",
       " 'like',\n",
       " 'alexa',\n",
       " 'learn',\n",
       " 'tasha',\n",
       " 'birthday',\n",
       " 'alexa',\n",
       " 'learn',\n",
       " 'definit',\n",
       " 'fine',\n",
       " 'etc',\n",
       " 'great',\n",
       " 'speaker',\n",
       " 'sound',\n",
       " 'pretti',\n",
       " 'good',\n",
       " 'small',\n",
       " 'setup',\n",
       " 'pretti',\n",
       " 'easi',\n",
       " 'bought',\n",
       " 'two',\n",
       " 'reason',\n",
       " 'rate',\n",
       " 'follow',\n",
       " 'instruct',\n",
       " 'synch',\n",
       " 'music',\n",
       " 'unit',\n",
       " 'know',\n",
       " 'done',\n",
       " 'correctli',\n",
       " 'sync',\n",
       " 'primari',\n",
       " 'motiv',\n",
       " 'purchas',\n",
       " 'multipl',\n",
       " 'unit',\n",
       " 'devic',\n",
       " 'awesom',\n",
       " 'bought',\n",
       " 'compar',\n",
       " 'speaker',\n",
       " 'qualiti',\n",
       " 'first',\n",
       " 'gener',\n",
       " 'speaker',\n",
       " 'like',\n",
       " 'sound',\n",
       " 'better',\n",
       " 'ship',\n",
       " 'daughter',\n",
       " 'though',\n",
       " 'like',\n",
       " 'fact',\n",
       " 'first',\n",
       " 'gener',\n",
       " 'chargeabl',\n",
       " 'base',\n",
       " 'bought',\n",
       " 'keep',\n",
       " 'mobil',\n",
       " 'need',\n",
       " 'better',\n",
       " 'sound',\n",
       " 'love',\n",
       " 'echo',\n",
       " 'still',\n",
       " 'learn',\n",
       " 'thing',\n",
       " 'abl',\n",
       " 'follow',\n",
       " 'instruct',\n",
       " 'includ',\n",
       " 'packag',\n",
       " 'found',\n",
       " 'great',\n",
       " 'one',\n",
       " 'u',\n",
       " 'tube',\n",
       " 'speaker',\n",
       " 'better',\n",
       " 'st',\n",
       " 'gener',\n",
       " 'echo',\n",
       " 'thing',\n",
       " 'way',\n",
       " 'cool',\n",
       " 'get',\n",
       " 'one',\n",
       " 'want',\n",
       " 'cool',\n",
       " 'first',\n",
       " 'digit',\n",
       " 'assist',\n",
       " 'give',\n",
       " 'good',\n",
       " 'review',\n",
       " 'speaker',\n",
       " 'realli',\n",
       " 'good',\n",
       " 'cheap',\n",
       " 'price',\n",
       " 'prime',\n",
       " 'day',\n",
       " 'fun',\n",
       " 'play',\n",
       " 'use',\n",
       " 'alarm',\n",
       " 'clock',\n",
       " 'go',\n",
       " 'get',\n",
       " 'first',\n",
       " 'place',\n",
       " 'end',\n",
       " 'echo',\n",
       " 'go',\n",
       " 'one',\n",
       " 'definit',\n",
       " 'tri',\n",
       " 'like',\n",
       " 'best',\n",
       " 'number',\n",
       " 'devic',\n",
       " 'connect',\n",
       " 'purchas',\n",
       " 'came',\n",
       " 'smart',\n",
       " 'plug',\n",
       " 'connect',\n",
       " 'lamp',\n",
       " 'alexa',\n",
       " 'turn',\n",
       " 'light',\n",
       " 'husband',\n",
       " 'like',\n",
       " 'abl',\n",
       " 'use',\n",
       " 'listen',\n",
       " 'music',\n",
       " 'wish',\n",
       " 'knew',\n",
       " 'capabl',\n",
       " 'android',\n",
       " 'would',\n",
       " 'allow',\n",
       " 'alexa',\n",
       " 'connect',\n",
       " 'fortun',\n",
       " 'sister',\n",
       " 'appl',\n",
       " 'cell',\n",
       " 'hour',\n",
       " 'tech',\n",
       " 'support',\n",
       " 'fix',\n",
       " 'glitch',\n",
       " 'run',\n",
       " 'far',\n",
       " 'good',\n",
       " 'tri',\n",
       " 'play',\n",
       " 'certain',\n",
       " 'broadway',\n",
       " 'show',\n",
       " 'like',\n",
       " 'camelot',\n",
       " 'give',\n",
       " 'ne',\n",
       " 'group',\n",
       " 'camelot',\n",
       " 'great',\n",
       " 'satisfi',\n",
       " 'echo',\n",
       " 'alexa',\n",
       " 'control',\n",
       " 'light',\n",
       " 'famili',\n",
       " 'room',\n",
       " 'wife',\n",
       " 'listen',\n",
       " 'jimmi',\n",
       " 'buffet',\n",
       " 'ask',\n",
       " 'alexa',\n",
       " 'like',\n",
       " 'siri',\n",
       " 'fact',\n",
       " 'siri',\n",
       " 'answer',\n",
       " 'accur',\n",
       " 'alexa',\n",
       " 'see',\n",
       " 'real',\n",
       " 'need',\n",
       " 'household',\n",
       " 'though',\n",
       " 'good',\n",
       " 'bargain',\n",
       " 'prime',\n",
       " 'day',\n",
       " 'deal',\n",
       " 'love',\n",
       " 'echo',\n",
       " 'still',\n",
       " 'learn',\n",
       " 'everi',\n",
       " 'thing',\n",
       " 'work',\n",
       " 'ton',\n",
       " 'fun',\n",
       " 'love',\n",
       " 'much',\n",
       " 'differ',\n",
       " 'appl',\n",
       " 'play',\n",
       " 'specif',\n",
       " 'list',\n",
       " 'music',\n",
       " 'must',\n",
       " 'amazon',\n",
       " 'spotifi',\n",
       " 'plu',\n",
       " 'prime',\n",
       " 'etc',\n",
       " 'account',\n",
       " 'must',\n",
       " 'pay',\n",
       " 'play',\n",
       " 'music',\n",
       " 'star',\n",
       " 'reason',\n",
       " 'everyth',\n",
       " 'els',\n",
       " 'excelent',\n",
       " 'lo',\n",
       " 'unico',\n",
       " 'es',\n",
       " 'que',\n",
       " 'esta',\n",
       " 'en',\n",
       " 'espa',\n",
       " 'ol',\n",
       " 'still',\n",
       " 'learn',\n",
       " 'use',\n",
       " 'far',\n",
       " 'echo',\n",
       " 'great',\n",
       " 'sound',\n",
       " 'actual',\n",
       " 'much',\n",
       " 'better',\n",
       " 'expect',\n",
       " 'work',\n",
       " 'expect',\n",
       " 'also',\n",
       " 'good',\n",
       " 'sound',\n",
       " 'qualiti',\n",
       " 'consid',\n",
       " 'price',\n",
       " 'sale',\n",
       " 'featur',\n",
       " 'sound',\n",
       " 'echo',\n",
       " 'nd',\n",
       " 'gener',\n",
       " 'phenomen',\n",
       " 'mention',\n",
       " 'love',\n",
       " 'alexa',\n",
       " 'help',\n",
       " 'like',\n",
       " 'googl',\n",
       " 'better',\n",
       " 'let',\n",
       " 'play',\n",
       " 'learn',\n",
       " 'get',\n",
       " 'work',\n",
       " 'advertis',\n",
       " 'easi',\n",
       " 'setup',\n",
       " 'still',\n",
       " 'learn',\n",
       " 'great',\n",
       " 'sound',\n",
       " 'easi',\n",
       " 'set',\n",
       " 'love',\n",
       " 'alexa',\n",
       " 'bought',\n",
       " 'other',\n",
       " 'friend',\n",
       " 'love',\n",
       " 'echo',\n",
       " 'purchas',\n",
       " 'compani',\n",
       " 'husband',\n",
       " 'alexa',\n",
       " 'great',\n",
       " 'say',\n",
       " 'name',\n",
       " 'tell',\n",
       " 'joke',\n",
       " 'play',\n",
       " 'favorit',\n",
       " 'song',\n",
       " 'love',\n",
       " 'abl',\n",
       " 'listen',\n",
       " 'music',\n",
       " 'easili',\n",
       " 'still',\n",
       " 'learn',\n",
       " 'featur',\n",
       " 'avail',\n",
       " 'realli',\n",
       " 'know',\n",
       " 'could',\n",
       " 'use',\n",
       " 'devic',\n",
       " 'use',\n",
       " 'thing',\n",
       " 'need',\n",
       " 'overview',\n",
       " 'love',\n",
       " 'wish',\n",
       " 'built',\n",
       " 'hub',\n",
       " 'use',\n",
       " 'primarili',\n",
       " 'play',\n",
       " 'music',\n",
       " 'work',\n",
       " 'wonder',\n",
       " 'still',\n",
       " 'get',\n",
       " 'use',\n",
       " 'mani',\n",
       " 'thing',\n",
       " 'amazon',\n",
       " 'sent',\n",
       " 'sever',\n",
       " 'tip',\n",
       " 'sinc',\n",
       " 'got',\n",
       " 'thank',\n",
       " 'help',\n",
       " 'easi',\n",
       " 'set',\n",
       " 'fast',\n",
       " 'respons',\n",
       " 'amaz',\n",
       " 'clear',\n",
       " 'concis',\n",
       " 'answer',\n",
       " 'sound',\n",
       " 'qualiti',\n",
       " 'fantast',\n",
       " 'still',\n",
       " 'get',\n",
       " 'use',\n",
       " 'alexia',\n",
       " 'usd',\n",
       " 'echo',\n",
       " 'full',\n",
       " 'extent',\n",
       " 'need',\n",
       " 'na',\n",
       " 'na',\n",
       " 'nana',\n",
       " 'everyth',\n",
       " 'expect',\n",
       " 'love',\n",
       " 'echo',\n",
       " 'work',\n",
       " 'like',\n",
       " 'said',\n",
       " 'would',\n",
       " 'smart',\n",
       " 'home',\n",
       " 'cannot',\n",
       " 'speak',\n",
       " 'function',\n",
       " 'everyth',\n",
       " 'els',\n",
       " 'good',\n",
       " 'great',\n",
       " 'sound',\n",
       " 'small',\n",
       " 'packag',\n",
       " 'easi',\n",
       " 'set',\n",
       " 'use',\n",
       " 'fun',\n",
       " 'work',\n",
       " 'sound',\n",
       " 'great',\n",
       " 'sound',\n",
       " 'amaz',\n",
       " 'mani',\n",
       " 'collect',\n",
       " 'music',\n",
       " 'set',\n",
       " 'alway',\n",
       " 'listen',\n",
       " 'awesom',\n",
       " 'bought',\n",
       " 'control',\n",
       " 'fio',\n",
       " 'televis',\n",
       " 'work',\n",
       " 'well',\n",
       " 'hope',\n",
       " 'time',\n",
       " 'control',\n",
       " 'fio',\n",
       " 'discov',\n",
       " 'thing',\n",
       " 'alexa',\n",
       " 'play',\n",
       " 'music',\n",
       " 'ask',\n",
       " 'great',\n",
       " 'sound',\n",
       " 'alexa',\n",
       " 'play',\n",
       " 'game',\n",
       " 'play',\n",
       " 'radio',\n",
       " 'station',\n",
       " 'play',\n",
       " 'old',\n",
       " 'time',\n",
       " 'radio',\n",
       " 'program',\n",
       " 'like',\n",
       " 'long',\n",
       " 'ranger',\n",
       " 'alexa',\n",
       " 'mani',\n",
       " 'app',\n",
       " 'add',\n",
       " 'abil',\n",
       " 'day',\n",
       " 'play',\n",
       " 'madlib',\n",
       " 'great',\n",
       " 'fun',\n",
       " 'also',\n",
       " 'alexa',\n",
       " 'control',\n",
       " 'household',\n",
       " 'applianc',\n",
       " 'purchas',\n",
       " 'alexa',\n",
       " 'compat',\n",
       " 'power',\n",
       " 'strip',\n",
       " 'control',\n",
       " 'light',\n",
       " 'fan',\n",
       " 'tv',\n",
       " 'compon',\n",
       " 'look',\n",
       " 'forward',\n",
       " 'implement',\n",
       " 'control',\n",
       " 'also',\n",
       " 'add',\n",
       " 'alexa',\n",
       " 'compon',\n",
       " 'chosen',\n",
       " 'music',\n",
       " 'play',\n",
       " 'room',\n",
       " 'compon',\n",
       " 'locat',\n",
       " 'speaker',\n",
       " 'excel',\n",
       " 'sound',\n",
       " 'work',\n",
       " 'perfectli',\n",
       " 'like',\n",
       " 'love',\n",
       " 'everyth',\n",
       " 'littl',\n",
       " 'nervou',\n",
       " 'receiv',\n",
       " 'new',\n",
       " 'echo',\n",
       " 'realli',\n",
       " 'tech',\n",
       " 'savvi',\n",
       " 'found',\n",
       " 'bit',\n",
       " 'intimid',\n",
       " 'first',\n",
       " 'take',\n",
       " 'long',\n",
       " 'figur',\n",
       " 'happi',\n",
       " 'purchas',\n",
       " 'think',\n",
       " 'ad',\n",
       " 'echo',\n",
       " 'spot',\n",
       " 'like',\n",
       " 'still',\n",
       " 'learn',\n",
       " 'use',\n",
       " 'great',\n",
       " 'technolog',\n",
       " 'believ',\n",
       " 'speaker',\n",
       " 'volum',\n",
       " 'qualiti',\n",
       " 'wonder',\n",
       " 'wish',\n",
       " 'bought',\n",
       " 'anoth',\n",
       " 'one',\n",
       " 'purchas',\n",
       " 'echo',\n",
       " 'dot',\n",
       " 'husband',\n",
       " 'father',\n",
       " 'day',\n",
       " 'use',\n",
       " 'constantli',\n",
       " 'hear',\n",
       " 'qualiti',\n",
       " 'sound',\n",
       " 'echo',\n",
       " 'nd',\n",
       " 'gener',\n",
       " 'brainer',\n",
       " 'best',\n",
       " 'gift',\n",
       " 'ever',\n",
       " 'work',\n",
       " 'fine',\n",
       " 'clear',\n",
       " 'music',\n",
       " 'fun',\n",
       " 'use',\n",
       " 'good',\n",
       " 'sound',\n",
       " 'qualiti',\n",
       " 'echo',\n",
       " 'work',\n",
       " 'well',\n",
       " 'abl',\n",
       " 'sync',\n",
       " 'amazon',\n",
       " 'music',\n",
       " 'devic',\n",
       " 'work',\n",
       " 'great',\n",
       " 'think',\n",
       " 'amazon',\n",
       " 'charg',\n",
       " 'anoth',\n",
       " 'cent',\n",
       " 'unlimit',\n",
       " 'music',\n",
       " 'prime',\n",
       " 'buy',\n",
       " 'echo',\n",
       " 'alreadi',\n",
       " 'echo',\n",
       " 'dot',\n",
       " 'echo',\n",
       " 'even',\n",
       " 'better',\n",
       " 'fuller',\n",
       " 'sound',\n",
       " 'also',\n",
       " 'setup',\n",
       " 'let',\n",
       " 'phone',\n",
       " 'call',\n",
       " 'made',\n",
       " 'contact',\n",
       " 'list',\n",
       " 'great',\n",
       " 'speaker',\n",
       " 'sound',\n",
       " 'realli',\n",
       " 'good',\n",
       " 'good',\n",
       " 'sound',\n",
       " 'work',\n",
       " 'well',\n",
       " ...]"
      ]
     },
     "execution_count": 154,
     "metadata": {},
     "output_type": "execute_result"
    }
   ],
   "source": [
    "words = []\n",
    "for i in range(0,len(corpus)):\n",
    "    words = words + (re.findall(r'\\w+', corpus[i]))# words cantain all the words in the dataset\n",
    "words"
   ]
  },
  {
   "cell_type": "code",
   "execution_count": 155,
   "id": "bb743d04",
   "metadata": {},
   "outputs": [
    {
     "data": {
      "text/plain": [
       "39179"
      ]
     },
     "execution_count": 155,
     "metadata": {},
     "output_type": "execute_result"
    }
   ],
   "source": [
    "len(words)"
   ]
  },
  {
   "cell_type": "code",
   "execution_count": 156,
   "id": "f3033a79",
   "metadata": {},
   "outputs": [
    {
     "name": "stdout",
     "output_type": "stream",
     "text": [
      "Counter({'love': 1064, 'echo': 868, 'great': 729, 'use': 718, 'work': 650, 'alexa': 633, 'music': 540, 'like': 535, 'sound': 427, 'one': 371, 'set': 364, 'get': 354, 'devic': 348, 'dot': 347, 'easi': 342, 'play': 333, 'speaker': 307, 'product': 284, 'good': 278, 'thing': 276, 'amazon': 260, 'time': 257, 'home': 221, 'would': 218, 'still': 206, 'show': 203, 'realli': 193, 'light': 192, 'bought': 189, 'smart': 184, 'purchas': 180, 'connect': 179, 'day': 178, 'new': 177, 'better': 177, 'ask': 176, 'need': 175, 'much': 172, 'prime': 170, 'also': 169, 'learn': 168, 'qualiti': 166, 'well': 164, 'want': 156, 'fun': 155, 'room': 153, 'far': 145, 'listen': 143, 'alarm': 142, 'buy': 141, 'even': 137, 'got': 133, 'turn': 133, 'tv': 127, 'plu': 125, 'make': 124, 'tri': 122, 'hous': 120, 'everyth': 120, 'go': 120, 'screen': 120, 'video': 117, 'app': 115, 'featur': 114, 'littl': 109, 'say': 107, 'abl': 107, 'enjoy': 107, 'look': 106, 'know': 106, 'weather': 105, 'spot': 104, 'voic': 103, 'clock': 102, 'tell': 102, 'hub': 102, 'see': 101, 'control': 100, 'could': 100, 'nice': 99, 'lot': 97, 'think': 95, 'amaz': 95, 'price': 93, 'help': 89, 'phone': 89, 'mani': 86, 'expect': 86, 'question': 85, 'anoth': 83, 'without': 83, 'way': 83, 'bedroom': 82, 'command': 82, 'wish': 80, 'call': 80, 'watch': 80, 'problem': 79, 'setup': 78, 'awesom': 78, 'best': 78, 'first': 77, 'issu': 77, 'bulb': 76, 'live': 75, 'song': 75, 'perfect': 75, 'two': 73, 'find': 71, 'item': 71, 'differ': 70, 'hear': 69, 'famili': 68, 'refurbish': 66, 'sure': 65, 'plug': 65, 'everi': 64, 'answer': 63, 'talk': 62, 'size': 62, 'pretti': 62, 'seem': 61, 'happi': 61, 'small': 61, 'volum': 60, 'ad': 60, 'kitchen': 60, 'etc': 60, 'fire': 59, 'stick': 58, 'bluetooth': 57, 'understand': 57, 'keep': 56, 'news': 56, 'come': 56, 'list': 56, 'take': 56, 'give': 55, 'though': 55, 'googl': 55, 'thought': 55, 'disappoint': 54, 'recommend': 54, 'start': 53, 'skill': 53, 'gift': 52, 'old': 50, 'definit': 50, 'fine': 50, 'cool': 50, 'option': 50, 'someth': 49, 'origin': 49, 'star': 49, 'addit': 49, 'instal': 49, 'around': 48, 'yet': 47, 'inform': 47, 'second': 47, 'order': 47, 'wake': 47, 'radio': 46, 'thank': 46, 'add': 46, 'made': 46, 'timer': 46, 'respond': 46, 'movi': 46, 'year': 45, 'figur': 45, 'gener': 45, 'unit': 45, 'function': 45, 'money': 45, 'anyth': 45, 'right': 45, 'back': 45, 'wifi': 44, 'never': 44, 'updat': 44, 'camera': 44, 'enough': 43, 'sinc': 43, 'nd': 43, 'full': 43, 'part': 43, 'wonder': 42, 'simpl': 42, 'sometim': 41, 'favorit': 41, 'alreadi': 41, 'week': 41, 'read': 41, 'kid': 41, 'night': 40, 'big': 39, 'morn': 39, 'replac': 39, 'pleas': 39, 'worth': 39, 'absolut': 39, 'reason': 38, 'instruct': 38, 'fact': 38, 'stop': 38, 'drop': 38, 'access': 37, 'respons': 37, 'program': 37, 'capabl': 37, 'internet': 37, 'receiv': 36, 'wife': 36, 'sleep': 36, 'long': 36, 'youtub': 36, 'check': 36, 'deal': 35, 'alway': 35, 'system': 35, 'link': 35, 'improv': 34, 'came': 34, 'friend': 34, 'built': 34, 'person': 34, 'chang': 34, 'return': 34, 'hue': 34, 'conveni': 34, 'game': 33, 'daughter': 33, 'excel': 33, 'son': 33, 'us': 33, 'technolog': 32, 'howev': 32, 'remind': 31, 'clear': 31, 'hope': 31, 'easier': 31, 'request': 31, 'super': 31, 'month': 31, 'easili': 30, 'els': 30, 'away': 29, 'almost': 29, 'ring': 29, 'user': 29, 'forward': 29, 'hook': 29, 'impress': 29, 'troubl': 29, 'may': 29, 'minut': 29, 'free': 29, 'quit': 29, 'peopl': 29, 'especi': 29, 'cabl': 29, 'wait': 28, 'fast': 28, 'bit': 28, 'station': 28, 'done': 28, 'support': 28, 'actual': 28, 'avail': 28, 'abil': 28, 'perfectli': 28, 'feel': 28, 'gen': 28, 'display': 28, 'comput': 27, 'includ': 27, 'packag': 27, 'said': 27, 'speak': 27, 'decid': 27, 'whole': 27, 'put': 27, 'stuff': 27, 'audio': 27, 'found': 26, 'spotifi': 26, 'advertis': 26, 'husband': 26, 'must': 26, 'book': 26, 'life': 26, 'probabl': 26, 'loud': 26, 'basic': 26, 'cannot': 25, 'coupl': 25, 'hard': 25, 'hour': 25, 'tech': 25, 'run': 25, 'pay': 25, 'name': 25, 'power': 25, 'eas': 25, 'servic': 25, 'glad': 25, 'white': 25, 'throughout': 24, 'miss': 24, 'instead': 24, 'overal': 24, 'assist': 24, 'sale': 24, 'joke': 24, 'ever': 24, 'soon': 24, 'bad': 24, 'shop': 24, 'download': 24, 'word': 24, 'stand': 24, 'highli': 24, 'firestick': 24, 'custom': 23, 'multipl': 23, 'fix': 23, 'account': 23, 'next': 23, 'stream': 23, 'complaint': 23, 'noth': 23, 'lyric': 23, 'button': 22, 'playlist': 22, 'brief': 22, 'sever': 22, 'plan': 22, 'extra': 22, 'upgrad': 22, 'pick': 22, 'offic': 22, 'along': 22, 'entertain': 22, 'daili': 22, 'less': 22, 'remot': 22, 'face': 22, 'base': 21, 'let': 21, 'discov': 21, 'surpris': 21, 'bass': 21, 'search': 21, 'touch': 21, 'gave': 21, 'brand': 21, 'went': 21, 'took': 21, 'cook': 20, 'household': 20, 'review': 20, 'lamp': 20, 'limit': 20, 'exactli': 20, 'provid': 20, 'half': 20, 'mostli': 20, 'excit': 20, 'goe': 20, 'door': 20, 'chat': 20, 'recip': 20, 'philip': 20, 'appl': 19, 'thermostat': 19, 'paid': 19, 'handi': 19, 'total': 19, 'suppos': 19, 'netflix': 19, 'top': 18, 'continu': 18, 'allow': 18, 'satisfi': 18, 'pandora': 18, 'huge': 18, 'bose': 18, 'kind': 18, 'regret': 18, 'friendli': 18, 'blue': 18, 'futur': 18, 'smaller': 18, 'complet': 18, 'often': 18, 'lol': 18, 'pictur': 18, 'bed': 18, 'regular': 18, 'offer': 17, 'heard': 17, 'color': 17, 'frustrat': 17, 'st': 17, 'mainli': 17, 'sync': 17, 'end': 17, 'number': 17, 'group': 17, 'fantast': 17, 'type': 17, 'audibl': 17, 'someon': 17, 'told': 17, 'secur': 17, 'dislik': 17, 'alon': 17, 'save': 17, 'specif': 16, 'flash': 16, 'except': 16, 'everyon': 16, 'annoy': 16, 'mom': 16, 'extern': 16, 'commun': 16, 'piec': 16, 'intercom': 16, 'experi': 16, 'cord': 16, 'final': 16, 'louder': 16, 'happen': 16, 'ok': 16, 'nightstand': 16, 'bedsid': 16, 'view': 16, 'although': 16, 'direct': 16, 'wrong': 15, 'mother': 15, 'oper': 15, 'real': 15, 'contact': 15, 'terribl': 15, 'batteri': 15, 'open': 15, 'job': 15, 'three': 15, 'quick': 15, 'readi': 15, 'perform': 15, 'valu': 15, 'repeat': 15, 'interact': 15, 'schedul': 15, 'unless': 15, 'lock': 15, 'extrem': 15, 'mini': 15, 'step': 15, 'channel': 15, 'sit': 15, 'longer': 15, 'rd': 15, 'switch': 15, 'current': 15, 'realiz': 15, 'via': 15, 'u': 14, 'cell': 14, 'fan': 14, 'begin': 14, 'later': 14, 'rang': 14, 'third': 14, 'activ': 14, 'least': 14, 'low': 14, 'space': 14, 'constantli': 13, 'toy': 13, 'choic': 13, 'difficult': 13, 'immedi': 13, 'birthday': 13, 'place': 13, 'consid': 13, 'outlet': 13, 'wireless': 13, 'across': 13, 'process': 13, 'move': 13, 'recogn': 13, 'explor': 13, 'integr': 13, 'high': 13, 'design': 13, 'enabl': 13, 'tooth': 13, 'suggest': 13, 'interfac': 13, 'unplug': 13, 'quickli': 13, 'ye': 13, 'might': 13, 'arriv': 13, 'useless': 13, 'reset': 13, 'box': 13, 'adapt': 13, 'walk': 13, 'rather': 13, 'deliv': 13, 'error': 13, 'cost': 13, 'creat': 13, 'sent': 12, 'load': 12, 'follow': 12, 'cheap': 12, 'siri': 12, 'other': 12, 'alexia': 12, 'traffic': 12, 'gadget': 12, 'within': 12, 'outsid': 12, 'possibl': 12, 'stori': 12, 'fault': 12, 'info': 12, 'clearli': 12, 'older': 12, 'today': 12, 'worri': 12, 'given': 12, 'upstair': 12, 'select': 12, 'send': 12, 'last': 12, 'parent': 12, 'tool': 12, 'notif': 12, 'microphon': 12, 'version': 12, 'point': 12, 'stay': 12, 'bridg': 12, 'dad': 11, 'knew': 11, 'comfort': 11, 'podcast': 11, 'test': 11, 'compar': 11, 'ship': 11, 'compat': 11, 'savvi': 11, 'blast': 11, 'simpli': 11, 'kindl': 11, 'routin': 11, 'kasa': 11, 'autom': 11, 'record': 11, 'unfortun': 11, 'tap': 11, 'recognit': 11, 'ago': 11, 'concern': 11, 'bathroom': 11, 'research': 11, 'confus': 11, 'messag': 11, 'becom': 11, 'guy': 11, 'snooz': 11, 'world': 11, 'pair': 11, 'dim': 11, 'hand': 11, 'anyon': 11, 'oh': 11, 'idea': 11, 'correctli': 10, 'laugh': 10, 'lack': 10, 'digit': 10, 'locat': 10, 'believ': 10, 'entir': 10, 'grandkid': 10, 'groceri': 10, 'spend': 10, 'line': 10, 'cover': 10, 'languag': 10, 'larg': 10, 'otherwis': 10, 'intuit': 10, 'either': 10, 'mayb': 10, 'due': 10, 'gotten': 10, 'condit': 10, 'adjust': 10, 'potenti': 10, 'sourc': 10, 'wi': 10, 'fi': 10, 'wast': 10, 'complain': 10, 'softwar': 10, 'disconnect': 10, 'larger': 10, 'shut': 10, 'stereo': 10, 'middl': 10, 'black': 10, 'cam': 10, 'slow': 10, 'fall': 10, 'front': 10, 'event': 10, 'task': 10, 'hulu': 10, 'member': 9, 'counter': 9, 'rate': 9, 'sister': 9, 'primarili': 9, 'unlimit': 9, 'happier': 9, 'initi': 9, 'busi': 9, 'rememb': 9, 'particular': 9, 'exampl': 9, 'variou': 9, 'wall': 9, 'fairli': 9, 'electron': 9, 'bug': 9, 'compact': 9, 'leav': 9, 'trek': 9, 'dont': 9, 'outstand': 9, 'mean': 9, 'close': 9, 'sono': 9, 'sensit': 9, 'lower': 9, 'expens': 9, 'ai': 9, 'gone': 9, 'togeth': 9, 'doorbel': 9, 'scroll': 9, 'navig': 9, 'calendar': 9, 'short': 9, 'card': 9, 'network': 9, 'requir': 9, 'roku': 9, 'random': 8, 'standard': 8, 'guess': 8, 'major': 8, 'knowledg': 8, 'televis': 8, 'father': 8, 'discount': 8, 'iphon': 8, 'clariti': 8, 'deliveri': 8, 'photo': 8, 'versatil': 8, 'portabl': 8, 'four': 8, 'default': 8, 'equip': 8, 'minor': 8, 'hesit': 8, 'school': 8, 'slightli': 8, 'lose': 8, 'convers': 8, 'addict': 8, 'side': 8, 'forget': 8, 'late': 8, 'insid': 8, 'cours': 8, 'parti': 8, 'act': 8, 'beauti': 8, 'n': 8, 'accent': 8, 'area': 8, 'reach': 8, 'decent': 8, 'exchang': 8, 'imagin': 8, 'intend': 8, 'choos': 8, 'bring': 8, 'saw': 8, 'surprisingli': 8, 'clean': 8, 'cycl': 8, 'cut': 8, 'cancel': 8, 'rotat': 8, 'repair': 8, 'liter': 8, 'unabl': 8, 'downstair': 8, 'hate': 7, 'previou': 7, 'tune': 7, 'phenomen': 7, 'charg': 7, 'trivia': 7, 'grandchildren': 7, 'bonu': 7, 'cute': 7, 'red': 7, 'artist': 7, 'local': 7, 'rock': 7, 'bt': 7, 'own': 7, 'increas': 7, 'anticip': 7, 'randomli': 7, 'penni': 7, 'funni': 7, 'usual': 7, 'biggest': 7, 'moment': 7, 'challeng': 7, 'apart': 7, 'prove': 7, 'mine': 7, 'man': 7, 'prefer': 7, 'purpos': 7, 'poor': 7, 'five': 7, 'yell': 7, 'spent': 7, 'varieti': 7, 'correct': 7, 'honestli': 7, 'okay': 7, 'onlin': 7, 'appear': 7, 'ghz': 7, 'mic': 7, 'effect': 7, 'desk': 7, 'occasion': 7, 'properli': 7, 'interest': 7, 'stupid': 7, 'date': 7, 'state': 7, 'cloud': 7, 'sing': 7, 'directli': 7, 'lag': 7, 'depend': 7, 'swipe': 7, 'manag': 7, 'content': 7, 'jump': 7, 'visual': 7, 'tablet': 7, 'floor': 7, 'fidel': 7, 'sooner': 7, 'charm': 7, 'benefit': 6, 'tube': 6, 'glitch': 6, 'certain': 6, 'excelent': 6, 'compon': 6, 'homework': 6, 'classroom': 6, 'hardli': 6, 'hit': 6, 'report': 6, 'router': 6, 'pleasantli': 6, 'met': 6, 'natur': 6, 'resist': 6, 'invest': 6, 'slowli': 6, 'beat': 6, 'advanc': 6, 'delay': 6, 'describ': 6, 'automat': 6, 'elderli': 6, 'premium': 6, 'yard': 6, 'non': 6, 'enter': 6, 'bare': 6, 'inconveni': 6, 'weird': 6, 'speech': 6, 'present': 6, 'strong': 6, 'whatev': 6, 'extend': 6, 'bottom': 6, 'certifi': 6, 'refurb': 6, 'everyday': 6, 'case': 6, 'breez': 6, 'appoint': 6, 'awhil': 6, 'eye': 6, 'deck': 6, 'level': 6, 'true': 6, 'arlo': 6, 'special': 6, 'model': 6, 'mode': 6, 'brought': 6, 'im': 6, 'import': 6, 'neg': 6, 'bother': 6, 'appar': 6, 'fit': 6, 'la': 6, 'de': 6, 'suck': 6, 'practic': 6, 'manual': 6, 'recent': 6, 'separ': 6, 'engin': 6, 'tall': 6, 'text': 6, 'children': 6, 'fill': 6, 'speed': 6, 'z': 6, 'wave': 6, 'jack': 6, 'yr': 5, 'ipad': 5, 'th': 5, 'greater': 5, 'port': 5, 'round': 5, 'ton': 5, 'que': 5, 'mention': 5, 'compani': 5, 'tip': 5, 'fio': 5, 'downsid': 5, 'cd': 5, 'anymor': 5, 'besid': 5, 'recharg': 5, 'audiobook': 5, 'detail': 5, 'exact': 5, 'instantli': 5, 'boom': 5, 'prior': 5, 'english': 5, 'seamlessli': 5, 'serious': 5, 'cordless': 5, 'car': 5, 'result': 5, 'awar': 5, 'trebl': 5, 'technic': 5, 'pool': 5, 'hire': 5, 'iheartradio': 5, 'simultan': 5, 'greatest': 5, 'pain': 5, 'effici': 5, 'pleasur': 5, 'weak': 5, 'kinda': 5, 'invas': 5, 'beyond': 5, 'auxiliari': 5, 'nest': 5, 'phillip': 5, 'shower': 5, 'six': 5, 'background': 5, 'guest': 5, 'buck': 5, 'flawlessli': 5, 'attach': 5, 'horribl': 5, 'neither': 5, 'everywher': 5, 'reboot': 5, 'hold': 5, 'buyer': 5, 'none': 5, 'effort': 5, 'defect': 5, 'applic': 5, 'cant': 5, 'warranti': 5, 'reconnect': 5, 'bright': 5, 'chanc': 5, 'sens': 5, 'form': 5, 'alert': 5, 'chose': 5, 'opinion': 5, 'neat': 5, 'garbag': 5, 'refer': 5, 'irrit': 5, 'grand': 5, 'train': 5, 'l': 5, 'weekend': 5, 'facetim': 5, 'asleep': 5, 'rain': 5, 'rid': 5, 'trailer': 5, 'websit': 5, 'combin': 5, 'alex': 5, 'privaci': 5, 'skype': 5, 'travel': 5, 'law': 5, 'con': 5, 'dismiss': 5, 'felt': 5, 'attempt': 5, 'silli': 5, 'fail': 5, 'whether': 5, 'disabl': 5, 'debat': 5, 'rent': 5, 'decor': 5, 'thunderstorm': 5, 'will': 5, 'nearli': 5, 'web': 5, 'project': 5, 'mind': 5, 'librari': 5, 'past': 5, 'solut': 5, 'rare': 5, 'plenti': 5, 'straight': 5, 'zigbe': 5, 'twice': 5, 'interfer': 5, 'x': 5, 'alexi': 5, 'inexpens': 5, 'fabric': 4, 'usb': 4, 'charger': 4, 'didnt': 4, 'uniqu': 4, 'owner': 4, 'mobil': 4, 'android': 4, 'camelot': 4, 'es': 4, 'espa': 4, 'ol': 4, 'na': 4, 'collect': 4, 'applianc': 4, 'cent': 4, 'patient': 4, 'pass': 4, 'countri': 4, 'wow': 4, 'bigger': 4, 'sorri': 4, 'danc': 4, 'die': 4, 'age': 4, 'harder': 4, 'quicker': 4, 'grab': 4, 'thoroughli': 4, 'paper': 4, 'temperatur': 4, 'machin': 4, 'water': 4, 'basement': 4, 'somewhat': 4, 'match': 4, 'player': 4, 'audiophil': 4, 'subscrib': 4, 'jazz': 4, 'sad': 4, 'afford': 4, 'socket': 4, 'flexibl': 4, 'odd': 4, 'decreas': 4, 'anywher': 4, 'grandson': 4, 'exist': 4, 'terrif': 4, 'nicer': 4, 'serv': 4, 'directv': 4, 'password': 4, 'genr': 4, 'whenev': 4, 'dedic': 4, 'refund': 4, 'paus': 4, 'spell': 4, 'american': 4, 'outdoor': 4, 'crash': 4, 'freez': 4, 'solv': 4, 'haha': 4, 'amazingli': 4, 'firmwar': 4, 'essenti': 4, 'god': 4, 'advis': 4, 'write': 4, 'handl': 4, 'obviou': 4, 'dog': 4, 'shout': 4, 'verbal': 4, 'degre': 4, 'nois': 4, 'truli': 4, 'shape': 4, 'advantag': 4, 'kept': 4, 'previous': 4, 'dark': 4, 'matter': 4, 'develop': 4, 'posit': 4, 'distanc': 4, 'difficulti': 4, 'notic': 4, 'rest': 4, 'pro': 4, 'visit': 4, 'relat': 4, 'incred': 4, 'se': 4, 'ceil': 4, 'simpler': 4, 'organ': 4, 'adequ': 4, 'caus': 4, 'woken': 4, 'forc': 4, 'market': 4, 'care': 4, 'bill': 4, 'crap': 4, 'shine': 4, 'yesterday': 4, 'pull': 4, 'hotel': 4, 'bundl': 4, 'aspect': 4, 'vacat': 4, 'aw': 4, 'kick': 4, 'resolut': 4, 'util': 4, 'havent': 4, 'site': 4, 'subscript': 4, 'engag': 4, 'sign': 4, 'pointless': 4, 'lightbulb': 4, 'left': 4, 'isol': 4, 'fixtur': 4, 'classic': 4, 'discoveri': 4, 'fulli': 4, 'nope': 4, 'chromecast': 4, 'loos': 4, 'buffer': 4, 'al': 4, 'est': 4, 'smarter': 4, 'motown': 4, 'salsa': 4, 'dumber': 4, 'r': 3, 'deaf': 3, 'polit': 3, 'itun': 3, 'anypod': 3, 'intrus': 3, 'primari': 3, 'accur': 3, 'bargain': 3, 'en': 3, 'extent': 3, 'data': 3, 'materi': 3, 'secretari': 3, 'million': 3, 'style': 3, 'twist': 3, 'press': 3, 'elsewher': 3, 'mood': 3, 'woofer': 3, 'tweeter': 3, 'phrase': 3, 'titl': 3, 'exceed': 3, 'defin': 3, 'queri': 3, 'what': 3, 'worthless': 3, 'till': 3, 'sell': 3, 'prevent': 3, 'sport': 3, 'specifi': 3, 'southern': 3, 'superb': 3, 'hot': 3, 'seamless': 3, 'manufactur': 3, 'fabul': 3, 'warehous': 3, 'damag': 3, 'knock': 3, 'curv': 3, 'unbeliev': 3, 'holder': 3, 'nobodi': 3, 'comment': 3, 'action': 3, 'wind': 3, 'frequent': 3, 'deep': 3, 'ac': 3, 'superior': 3, 'pure': 3, 'prepar': 3, 'suppli': 3, 'cheaper': 3, 'techi': 3, 'dollar': 3, 'center': 3, 'prompt': 3, 'feet': 3, 'accomplish': 3, 'dinner': 3, 'intern': 3, 'univers': 3, 'mid': 3, 'email': 3, 'releas': 3, 'push': 3, 'scare': 3, 'fee': 3, 'ran': 3, 'medit': 3, 'assum': 3, 'sold': 3, 'higher': 3, 'hey': 3, 'solid': 3, 'grow': 3, 'treadmil': 3, 'instant': 3, 'unnecessari': 3, 'human': 3, 'footprint': 3, 'geek': 3, 'zero': 3, 'drive': 3, 'wikipedia': 3, 'known': 3, 'eh': 3, 'attent': 3, 'upset': 3, 'crackl': 3, 'despit': 3, 'bibl': 3, 'vers': 3, 'commut': 3, 'anyway': 3, 'convinc': 3, 'creepi': 3, 'individu': 3, 'glorifi': 3, 'interrupt': 3, 'tad': 3, 'typic': 3, 'tabl': 3, 'perhap': 3, 'involv': 3, 'spanish': 3, 'whisper': 3, 'normal': 3, 'ridicul': 3, 'note': 3, 'colleg': 3, 'attract': 3, 'altern': 3, 'meh': 3, 'imag': 3, 'flaw': 3, 'homescreen': 3, 'su': 3, 'el': 3, 'gripe': 3, 'novelti': 3, 'sleek': 3, 'iheart': 3, 'driven': 3, 'dumb': 3, 'npr': 3, 'coolest': 3, 'anytim': 3, 'beta': 3, 'period': 3, 'companion': 3, 'omg': 3, 'numer': 3, 'menu': 3, 'massiv': 3, 'delet': 3, 'hell': 3, 'monitor': 3, 'ignor': 3, 'grandpar': 3, 'tend': 3, 'media': 3, 'page': 3, 'thong': 3, 'soni': 3, 'promot': 3, 'woke': 3, 'com': 3, 'forev': 3, 'eeaanh': 3, 'print': 3, 'grandmoth': 3, 'expir': 3, 'cnn': 3, 'spi': 3, 'net': 3, 'mark': 3, 'blind': 3, 'singl': 3, 'amount': 3, 'behind': 3, 'restrict': 3, 'drawback': 3, 'concept': 3, 'customiz': 3, 'fourth': 3, 'cozi': 3, 'gb': 3, 'bar': 3, 'restart': 3, 'newest': 3, 'lazi': 3, 'lastli': 3, 'membership': 3, 'spam': 3, 'stage': 3, 'mix': 3, 'vs': 3, 'spoil': 3, 'maintain': 3, 'common': 3, 'temp': 3, 'impuls': 3, 'spark': 3, 'memori': 3, 'quot': 3, 'intellig': 3, 'flicker': 3, 'tin': 3, 'galaxi': 3, 'patio': 3, 'equal': 3, 'bolt': 3, 'tp': 3, 'build': 3, 'den': 3, 'luv': 3, 'success': 3, 'thru': 3, 'near': 3, 'samsung': 3, 'hospit': 3, 'forecast': 3, 'poster': 3, 'onto': 3, 'phase': 3, 'usag': 3, 'weight': 3, 'muffl': 3, 'quiz': 3, 'boyfriend': 3, 'platform': 3, 'simplifi': 3, 'trial': 3, 'alot': 3, 'trip': 3, 'cellphon': 2, 'smartbon': 2, 'specifili': 2, 'childhood': 2, 'eveyday': 2, 'knee': 2, 'featu': 2, 'shorter': 2, 'minu': 2, 'w': 2, 'pin': 2, 'reli': 2, 'tasha': 2, 'synch': 2, 'motiv': 2, 'chargeabl': 2, 'fortun': 2, 'broadway': 2, 'ne': 2, 'jimmi': 2, 'buffet': 2, 'lo': 2, 'unico': 2, 'esta': 2, 'overview': 2, 'concis': 2, 'usd': 2, 'nana': 2, 'ranger': 2, 'madlib': 2, 'strip': 2, 'implement': 2, 'chosen': 2, 'nervou': 2, 'intimid': 2, 'brainer': 2, 'fuller': 2, 'burn': 2, 'strictli': 2, 'prop': 2, 'wors': 2, 'ex': 2, 'italian': 2, 'opera': 2, 'tosca': 2, 'lilttl': 2, 'enhanc': 2, 'gread': 2, 'ecoo': 2, 'siriu': 2, 'pencil': 2, 'fussi': 2, 'afternoon': 2, 'multi': 2, 'qvc': 2, 'accident': 2, 'spill': 2, 'sprinkler': 2, 'pamphlet': 2, 'thorough': 2, 'modern': 2, 'killer': 2, 'terminolog': 2, 'chart': 2, 'exho': 2, 'gender': 2, 'band': 2, 'breakfast': 2, 'stole': 2, 'amozon': 2, 'tou': 2, 'assumpt': 2, 'aux': 2, 'overrid': 2, 'supberb': 2, 'hang': 2, 'seri': 2, 'afterward': 2, 'manner': 2, 'enrol': 2, 'overa': 2, 'born': 2, 'korea': 2, 'paroduct': 2, 'complic': 2, 'abod': 2, 'sinqu': 2, 'lg': 2, 'imperfect': 2, 'seal': 2, 'changer': 2, 'laps': 2, 'differenti': 2, 'among': 2, 'pod': 2, 'employe': 2, 'flat': 2, 'goo': 2, 'straightforward': 2, 'mess': 2, 'ground': 2, 'advic': 2, 'suffici': 2, 'evolv': 2, 'stylish': 2, 'blown': 2, 'dj': 2, 'embarrass': 2, 'electrician': 2, 'adopt': 2, 'subject': 2, 'showman': 2, 'crappi': 2, 'bum': 2, 'metro': 2, 'sf': 2, 'wed': 2, 'pc': 2, 'driver': 2, 'retir': 2, 'lve': 2, 'tekki': 2, 'prize': 2, 'unrespons': 2, 'ahead': 2, 'main': 2, 'relax': 2, 'asap': 2, 'chair': 2, 'promis': 2, 'spoken': 2, 'store': 2, 'trust': 2, 'accessori': 2, 'tinni': 2, 'recept': 2, 'north': 2, 'broken': 2, 'rubber': 2, 'laundri': 2, 'granddaught': 2, 'indic': 2, 'grant': 2, 'sort': 2, 'orang': 2, 'rep': 2, 'intermitt': 2, 'green': 2, 'yellow': 2, 'taken': 2, 'thumb': 2, 'spoke': 2, 'regist': 2, 'worst': 2, 'edit': 2, 'compliment': 2, 'shell': 2, 'substitut': 2, 'highest': 2, 'guarante': 2, 'whatsoev': 2, 'uncl': 2, 'script': 2, 'finicki': 2, 'led': 2, 'eg': 2, 'tower': 2, 'effortless': 2, 'flawless': 2, 'blink': 2, 'trick': 2, 'apprehens': 2, 'nut': 2, 'depart': 2, 'amus': 2, 'footbal': 2, 'sore': 2, 'tire': 2, 'troubleshoot': 2, 'monthli': 2, 'educ': 2, 'inexperi': 2, 'shown': 2, 'couch': 2, 'shortli': 2, 'accord': 2, 'indoor': 2, 'unus': 2, 'babi': 2, 'heck': 2, 'resolv': 2, 'scratch': 2, 'devis': 2, 'laptop': 2, 'ambient': 2, 'bunch': 2, 'rout': 2, 'toddler': 2, 'becam': 2, 'span': 2, 'aunt': 2, 'xm': 2, 'protect': 2, 'til': 2, 'sweet': 2, 'christma': 2, 'warn': 2, 'consist': 2, 'feed': 2, 'font': 2, 'angl': 2, 'glass': 2, 'earli': 2, 'crisp': 2, 'ladi': 2, 'dress': 2, 'staff': 2, 'pop': 2, 'toward': 2, 'familiar': 2, 'catch': 2, 'slice': 2, 'bread': 2, 'dimmer': 2, 'jam': 2, 'weekday': 2, 'youngest': 2, 'goodi': 2, 'pre': 2, 'perman': 2, 'sadli': 2, 'misplac': 2, 'precis': 2, 'recur': 2, 'accept': 2, 'fell': 2, 'conferenc': 2, 'arm': 2, 'e': 2, 'kwikset': 2, 'soundbar': 2, 'seen': 2, 'dash': 2, 'tinker': 2, 'road': 2, 'disast': 2, 'child': 2, 'hundr': 2, 'outrag': 2, 'analog': 2, 'decis': 2, 'pack': 2, 'emerg': 2, 'folk': 2, 'town': 2, 'introduc': 2, 'awak': 2, 'unlik': 2, 'porch': 2, 'mount': 2, 'tape': 2, 'crazi': 2, 'board': 2, 'repli': 2, 'self': 2, 'seriou': 2, 'plain': 2, 'cumbersom': 2, 'versa': 2, 'break': 2, 'dig': 2, 'desir': 2, 'voila': 2, 'virtual': 2, 'sooooo': 2, 'lost': 2, 'hmm': 2, 'bezo': 2, 'reccomend': 2, 'cat': 2, 'aesthet': 2, 'mediocr': 2, 'heavi': 2, 'distract': 2, 'pic': 2, 'constant': 2, 'fair': 2, 'held': 2, 'maxim': 2, 'stuck': 2, 'gather': 2, 'eco': 2, 'trigger': 2, 'post': 2, 'argument': 2, 'hd': 2, 'k': 2, 'histori': 2, 'upon': 2, 'baffl': 2, 'eventu': 2, 'f': 2, 'wealth': 2, 'hole': 2, 'demand': 2, 'draw': 2, 'friday': 2, 'cousin': 2, 'address': 2, 'vehicl': 2, 'afraid': 2, 'accuraci': 2, 'ass': 2, 'expand': 2, 'smooth': 2, 'powercord': 2, 'strongli': 2, 'affirm': 2, 'headphon': 2, 'medic': 2, 'lean': 2, 'forum': 2, 'ny': 2, 'descript': 2, 'oop': 2, 'vision': 2, 'beginn': 2, 'configur': 2, 'bff': 2, 'pound': 2, 'plane': 2, 'newer': 2, 'tivo': 2, 'disarm': 2, 'ge': 2, 'importantli': 2, 'bye': 2, 'remain': 2, 'buld': 2, 'xfiniti': 2, 'geo': 2, 'fenc': 2, 'cheapest': 2, 'spin': 2, 'itali': 2, 'anybodi': 2, 'soak': 2, 'speedi': 2, 'insan': 2, 'rattl': 2, 'wasnt': 2, 'island': 2, 'knob': 2, 'clue': 2, 'smartth': 2, 'girlfriend': 2, 'blueprint': 2, 'orient': 2, 'kodi': 2, 'v': 2, 'keyboard': 2, 'ditch': 2, 'sling': 2, 'cb': 2, 'theater': 2, 'fat': 2, 'newsflash': 2, 'invent': 2, 'tricki': 2, 'hmmmm': 2, 'appreci': 2, 'tickl': 2, 'keeper': 2, 'rough': 2, 'patch': 2, 'sunroom': 2, 'hel': 2, 'sprint': 2, 'minimum': 2, 'welcom': 2, 'seriu': 2, 'sm': 2, 'fashion': 2, 'digitol': 2, 'everytim': 2, 'paranoid': 2, 'vlan': 2, 'vet': 2, 'lone': 2, 'if': 2, 'and': 2, 'but': 2, 'minorli': 2, 'comand': 2, 'capas': 2, 'medium': 2, 'barn': 2, 'hors': 2, 'heal': 2, 'spa': 2, 'par': 2, 'nite': 2, 'boombox': 2, 'thick': 2, 'champ': 2, 'yeah': 2, 'insert': 2, 'un': 2, 'equipo': 2, 'inteligent': 2, 'estar': 2, 'conectado': 2, 'no': 2, 'ltipl': 2, 'funcion': 2, 'tale': 2, 'como': 2, 'tiempo': 2, 'hora': 2, 'informaci': 2, 'cualquier': 2, 'estudio': 2, 'realizando': 2, 'atr': 2, 'vez': 2, 'del': 2, 'forgot': 2, 'amax': 2, 'greet': 2, 'oven': 2, 'bandwagon': 2, 'struggl': 2, 'share': 2, 'reliabl': 2, 'qualti': 2, 'compound': 2, 'awkward': 2, 'student': 2, 'dorm': 2, 'smarthom': 2, 'alright': 2, 'reput': 2, 'noi': 2, 'shoot': 2, 'phonet': 2, 'proper': 2, 'british': 2, 'refin': 2, 'argu': 2, 'imus': 2, 'structur': 2, 'lullabi': 2, 'surviv': 2, 'bell': 2, 'whistl': 2, 'satisifi': 2, 'humour': 2, 'nowher': 2, 'sole': 2, 'presum': 2, 'buzz': 2, 'king': 2, 'cuti': 2, 'saniti': 2, 'choppi': 2, 'domain': 2, 'citi': 2, 'dial': 2, 'lame': 2, 'legal': 2, 'godsend': 2, 'shipment': 2, 'wattag': 2, 'obsess': 2, 'stair': 2, 'certainli': 2, 'unexpect': 2, 'seam': 2, 'smith': 2, 'learnimg': 2, 'emoji': 2, 'accustom': 2, 'pup': 2, 'calm': 2, 'calmer': 2, 'bark': 2, 'expert': 2, 'tempt': 2, 'producto': 2, 'lleg': 2, 'semana': 2, 'qu': 2, 'sin': 2, 'olor': 2, 'perdi': 2, 'toda': 2, 'escencia': 2, 'huel': 2, 'solo': 2, 'alcohol': 2, 'barri': 2, 'adult': 2, 'dead': 2, 'stat': 2, 'dinosaur': 1, 'categori': 1, 'grandaught': 1, 'mile': 1, 'duti': 1, 'boost': 1, 'input': 1, 'encyclopedia': 1, 'pattern': 1, 'promp': 1, 'poop': 1, 'arent': 1, 'naw': 1, 'outsmart': 1, 'foot': 1, 'divertido': 1, 'iov': 1, 'fm': 1, 'nativ': 1, 'whose': 1, 'texa': 1, 'birth': 1, 'margin': 1, 'ten': 1, 'dust': 1, 'collector': 1, 'acknowledg': 1, 'productsand': 1, 'journey': 1, 'portion': 1, 'leari': 1, 'puni': 1, 'wear': 1, 'tear': 1, 'mint': 1, 'teenag': 1, 'insist': 1, 'young': 1, 'simplic': 1, 'gazebo': 1, 'diagnost': 1, 'roomba': 1, 'sentenc': 1, 'shock': 1, 'clone': 1, 'boat': 1, 'garag': 1, 'gf': 1, 'pulsat': 1, 'puls': 1, 'buddi': 1, 'psycholog': 1, 'whe': 1, 'recondit': 1, 'pare': 1, 'weari': 1, 'widespread': 1, 'cortna': 1, 'aliv': 1, 'workreat': 1, 'spank': 1, 'lay': 1, 'moana': 1, 'sh': 1, 'wherev': 1, 'cordthank': 1, 'brandnew': 1, 'output': 1, 'vintag': 1, 'longev': 1, 'bough': 1, 'detect': 1, 'signific': 1, 'savi': 1, 'sink': 1, 'refurbishedthought': 1, 'backyard': 1, 'junk': 1, 'haywir': 1, 'soft': 1, 'rais': 1, 'dunno': 1, 'rambl': 1, 'unhelp': 1, 'spiel': 1, 'norm': 1, 'albeit': 1, 'nil': 1, 'rainbow': 1, 'persist': 1, 'xs': 1, 'laud': 1, 'scream': 1, 'excus': 1, 'viola': 1, 'atmospher': 1, 'joy': 1, 'sooo': 1, 'ocean': 1, 'precious': 1, 'guard': 1, 'chore': 1, 'golden': 1, 'absolutli': 1, 'tardi': 1, 'land': 1, 'majel': 1, 'barret': 1, 'heaven': 1, 'nsa': 1, 'honest': 1, 'dissatisfact': 1, 'forgotten': 1, 'mainstream': 1, 'cotton': 1, 'hal': 1, 'seldom': 1, 'workout': 1, 'row': 1, 'that': 1, 'conspiraci': 1, 'theori': 1, 'eavesdrop': 1, 'govern': 1, 'label': 1, 'wont': 1, 'ita': 1, 'perfecto': 1, 'boss': 1, 'owlhead': 1, 'jacuzzi': 1, 'nrw': 1, 'defent': 1, 'niec': 1, 'introduct': 1, 'faulti': 1, 'toilet': 1, 'credit': 1, 'host': 1, 'lm': 1, 'fanat': 1, 'disturb': 1, 'dodg': 1, 'crib': 1, 'ish': 1, 'understood': 1, 'worthi': 1, 'successor': 1, 'theecho': 1, 'mybedroom': 1, 'wasconcern': 1, 'discoveredthat': 1, 'avoid': 1, 'male': 1, 'tomi': 1, 'thestand': 1, 'drag': 1, 'dine': 1, 'disagre': 1, 'disconcert': 1, 'groggi': 1, 'factor': 1, 'squar': 1, 'rectangular': 1, 'gizmo': 1, 'alter': 1, 'fuss': 1, 'park': 1, 'awsom': 1, 'ceas': 1, 'bang': 1, 'softli': 1, 'surfac': 1, 'skeptic': 1, 'ant': 1, 'desktop': 1, 'recipi': 1, 'crop': 1, 'strang': 1, 'glare': 1, 'defeat': 1, 'glow': 1, 'bothersom': 1, 'lover': 1, 'resembl': 1, 'alabama': 1, 'furthermor': 1, 'tailor': 1, 'accordingli': 1, 'returnef': 1, 'hardcor': 1, 'infact': 1, 'variant': 1, 'soundtouch': 1, 'careless': 1, 'ear': 1, 'plugin': 1, 'indispens': 1, 'extrimelli': 1, 'aloud': 1, 'unlock': 1, 'code': 1, 'unwitti': 1, 'carrier': 1, 'defenc': 1, 'interpret': 1, 'bore': 1, 'pen': 1, 'id': 1, 'pm': 1, 'safe': 1, 'beam': 1, 'reactiv': 1, 'convert': 1, 'dimat': 1, 'mu': 1, 'hcfe': 1, 'bot': 1, 'ise': 1, 'unnannounc': 1, 'misunderstand': 1, 'lit': 1, 'grandfath': 1, 'lesson': 1, 'lightn': 1, 'inabl': 1, 'lighten': 1, 'storm': 1, 'opt': 1, 'critic': 1, 'funcionamiento': 1, 'llama': 1, 'atenc': 1, 'rapidez': 1, 'respuesta': 1, 'logra': 1, 'trav': 1, 'utilizaci': 1, 'sorprendi': 1, 'gratament': 1, 'muy': 1, 'recomend': 1, 'tomorrow': 1, 'mon': 1, 'thu': 1, 'fri': 1, 'fingertip': 1, 'habit': 1, 'etekc': 1, 'voltson': 1, 'harvard': 1, 'lov': 1, 'overwhelm': 1, 'wide': 1, 'forth': 1, 'jaw': 1, 'smoothli': 1, 'reportsalarm': 1, 'circl': 1, 'treat': 1, 'bloomberg': 1, 'gain': 1, 'key': 1, 'iy': 1, 'deactiv': 1, 'nervana': 1, 'gear': 1, 'nigh': 1, 'india': 1, 'helper': 1, 'mama': 1, 'eleg': 1, 'selfi': 1, 'hubbi': 1, 'hide': 1, 'squirm': 1, 'consciou': 1, 'block': 1, 'bless': 1, 'bedtim': 1, 'unobtrus': 1, 'theme': 1, 'east': 1, 'coast': 1, 'partner': 1, 'ii': 1, 'screw': 1, 'receivd': 1, 'thrown': 1, 'ting': 1, 'fascin': 1, 'persuas': 1, 'moreov': 1, 'imped': 1, 'thursday': 1, 'unwrap': 1, 'reoccur': 1, 'leg': 1, 'cohes': 1, 'pizza': 1, 'hut': 1, 'hype': 1, 'downright': 1, 'ugli': 1, 'smartphon': 1, 'fianc': 1, 'hvac': 1, 'looooooov': 1, 'chachki': 1, 'hong': 1, 'kong': 1, 'bezel': 1, 'usabl': 1, 'dare': 1, 'meant': 1, 'nonsens': 1, 'nanni': 1, 'ador': 1, 'allevi': 1, 'remors': 1, 'sight': 1, 'numb': 1, 'indund': 1, 'stimulu': 1, 'suitabl': 1, 'head': 1, 'trend': 1, 'greatli': 1, 'depreci': 1, 'billboard': 1, 'streamlin': 1, 'snarl': 1, 'amaonmaz': 1, 'blanket': 1, 'infotain': 1, 'sleepi': 1, 'zonk': 1, 'zzzzzzz': 1, 'yep': 1, 'statement': 1, 'excess': 1, 'screenselect': 1, 'settingshom': 1, 'clockhom': 1, 'cardsrot': 1, 'onceproblem': 1, 'construct': 1, 'pricey': 1, 'http': 1, 'www': 1, 'dp': 1, 'b': 1, 'sqyxtw': 1, 'ref': 1, 'cm': 1, 'cr': 1, 'ryp': 1, 'prd': 1, 'ttl': 1, 'sol': 1, 'clearer': 1, 'lcd': 1, 'sleeper': 1, 'tini': 1, 'suffer': 1, 'swell': 1, 'slide': 1, 'pivot': 1, 'colon': 1, 'celeb': 1, 'nit': 1, 'picki': 1, 'beefi': 1, 'determin': 1, 'overh': 1, 'inlin': 1, 'per': 1, 'unaccept': 1, 'aris': 1, 'farther': 1, 'cleaner': 1, 'perk': 1, 'split': 1, 'hair': 1, 'weekli': 1, 'overtim': 1, 'feedback': 1, 'girl': 1, 'deploy': 1, 'appropri': 1, 'particularli': 1, 'fumbl': 1, 'situat': 1, 'spous': 1, 'summon': 1, 'creapi': 1, 'af': 1, 'vice': 1, 'optic': 1, 'cartoon': 1, 'hectic': 1, 'sopt': 1, 'amazonia': 1, 'lil': 1, 'anyhow': 1, 'pleasedsimpl': 1, 'tremend': 1, 'dhiw': 1, 'preview': 1, 'underestim': 1, 'cart': 1, 'isnt': 1, 'pixel': 1, 'slideshow': 1, 'articl': 1, 'mexico': 1, 'usa': 1, 'mimic': 1, 'basebal': 1, 'score': 1, 'cooler': 1, 'dispos': 1, 'incom': 1, 'imhav': 1, 'bc': 1, 'guid': 1, 'float': 1, 'track': 1, 'holiday': 1, 'punch': 1, 'meaning': 1, 'practicalthan': 1, 'uninstal': 1, 'reinstal': 1, 'reconfigur': 1, 'york': 1, 'co': 1, 'worker': 1, 'telephon': 1, 'laughter': 1, 'elimin': 1, 'sooooooo': 1, 'pia': 1, 'magic': 1, 'pant': 1, 'ude': 1, 'dish': 1, 'ti': 1, 'mac': 1, 'air': 1, 'intelag': 1, 'subsequ': 1, 'ihom': 1, 'dock': 1, 'cloth': 1, 'dryer': 1, 'resum': 1, 'owe': 1, 'malon': 1, 'consum': 1, 'spectacular': 1, 'stellar': 1, 'hi': 1, 'campu': 1, 'carri': 1, 'stationari': 1, 'relief': 1, 'onm': 1, 'visa': 1, 'voiceview': 1, 'reader': 1, 'vast': 1, 'canari': 1, 'agre': 1, 'deeper': 1, 'capac': 1, 'join': 1, 'primeday': 1, 'blow': 1, 'untap': 1, 'loui': 1, 'thrill': 1, 'seprat': 1, 'tg': 1, 'ed': 1, 'sharp': 1, 'secret': 1, 'agent': 1, 'johnni': 1, 'river': 1, 'comelet': 1, 'abay': 1, 'cylind': 1, 'accompani': 1, 'anylist': 1, 'exce': 1, 'topic': 1, 'spotlight': 1, 'client': 1, 'crack': 1, 'graphic': 1, 'marvel': 1, 'steep': 1, 'divers': 1, 'dec': 1, 'window': 1, 'contain': 1, 'grownup': 1, 'stove': 1, 'carolina': 1, 'maje': 1, 'ty': 1, 'jeapordi': 1, 'visibl': 1, 'competit': 1, 'therefor': 1, 'doesnt': 1, 'minim': 1, 'nightmar': 1, 'overpr': 1, 'produc': 1, 'fledg': 1, 'accesss': 1, 'lurk': 1, 'contin': 1, 'settin': 1, 'anti': 1, 'acoust': 1, 'cylinderc': 1, 'adjac': 1, 'stink': 1, 'regard': 1, 'bandwidth': 1, 'of': 1, 'ase': 1, 'particip': 1, 'compac': 1, 'aint': 1, 'teeth': 1, 'totallli': 1, 'everybodi': 1, 'jetson': 1, 'teacher': 1, 'ight': 1, 'invit': 1, 'shuffl': 1, 'photograph': 1, 'sew': 1, 'wellfour': 1, 'bizarr': 1, 'urg': 1, 'allrecip': 1, 'illustr': 1, 'uhyour': 1, 'c': 1, 'bonker': 1, 'blur': 1, 'shake': 1, 'hassl': 1, 'yup': 1, 'hahaawesom': 1, 'hint': 1, 'belong': 1, 'nephew': 1, 'dementia': 1, 'loss': 1, 'viceo': 1, 'aka': 1, 'nbsp': 1, 'henc': 1, 'puzzl': 1, 'yhe': 1, 'thou': 1, 'alongsid': 1, 'algo': 1, 'isu': 1, 'soluci': 1, 'screenless': 1, 'hallway': 1, 'bulki': 1, 'headlin': 1, 'cross': 1, 'renam': 1, 'adept': 1, 'coffe': 1, 'prettier': 1, 'dens': 1, 'nj': 1, 'region': 1, 'surround': 1, 'spur': 1, 'dictionari': 1, 'reduc': 1, 'auto': 1, 'imrprov': 1, 'string': 1, 'explicit': 1, 'electeon': 1, 'feee': 1, 'lifht': 1, 'bing': 1, 'silver': 1, 'unimport': 1, 'intent': 1, 'scottish': 1, 'spec': 1, 'stubborn': 1, 'impair': 1, 'social': 1, 'facebook': 1, 'twitter': 1, 'who': 1, 'countless': 1, 'dunc': 1, 'sigh': 1, 'exasper': 1, 'workaround': 1, 'scour': 1, 'section': 1, 'karen': 1, 'cup': 1, 'slight': 1, 'begun': 1, 'array': 1, 'mute': 1, 'pose': 1, 'somebodi': 1, 'bodi': 1, 'wink': 1, 'innov': 1, 'settl': 1, 'philli': 1, 'yale': 1, 'tunein': 1, 'heart': 1, 'reorder': 1, 'notifi': 1, 'mail': 1, 'august': 1, 'tie': 1, 'experienc': 1, 'nexia': 1, 'alread': 1, 'nudg': 1, 'esp': 1, 'dent': 1, 'coop': 1, 'somehow': 1, 'reauthor': 1, 'jeopardi': 1, 'correspond': 1, 'document': 1, 'becauss': 1, 'accid': 1, 'echoplu': 1, 'extens': 1, 'habla': 1, 'espanol': 1, 'cpr': 1, 'mistak': 1, 'sofa': 1, 'broke': 1, 'philipshu': 1, 'instantan': 1, 'conflict': 1, 'evalu': 1, 'preset': 1, 'firmar': 1, 'iot': 1, 'standalon': 1, 'redund': 1, 'soundlink': 1, 'chalk': 1, 'repertoir': 1, 'technician': 1, 'chromebook': 1, 'luck': 1, 'behav': 1, 'soccer': 1, 'team': 1, 'ecobe': 1, 'scoop': 1, 'ball': 1, 'rciev': 1, 'mere': 1, 'techno': 1, 'stump': 1, 'admit': 1, 'leisur': 1, 'remedi': 1, 'fals': 1, 'ghost': 1, 'ipdat': 1, 'profil': 1, 'pet': 1, 'regardless': 1, 'layer': 1, 'bf': 1, 'tout': 1, 'depth': 1, 'protocol': 1, 'necess': 1, 'commod': 1, 'doctor': 1, 'ride': 1, 'cue': 1, 'nurs': 1, 'aid': 1, 'chocol': 1, 'jeff': 1, 'earn': 1, 'ssdi': 1, 'curs': 1, 'tec': 1, 'complac': 1, 'sirriu': 1, 'scene': 1, 'tone': 1, 'misl': 1, 'explan': 1, 'throw': 1, 'shortcom': 1, 'steam': 1, 'skip': 1, 'subscriptiondo': 1, 'audioappl': 1, 'deviceoveral': 1, 'hr': 1, 'min': 1, 'patienc': 1, 'shift': 1, 'mindset': 1, 'pray': 1, 'revis': 1, 'defus': 1, 'unavail': 1, 'interrog': 1, 'original': 1, 'dimens': 1, 'sub': 1, 'edg': 1, 'fw': 1, 'inferior': 1, 'vibrat': 1, 'distort': 1, 'characterist': 1, 'orchestra': 1, 'screamig': 1, 'click': 1, 'sneaki': 1, 'keen': 1, 'goodmorn': 1, 'sang': 1, 'lolol': 1, 'he': 1, 'placement': 1, 'appeal': 1, 'neighbor': 1, 'sturdi': 1, 'grip': 1, 'granit': 1, 'rub': 1, 'scent': 1, 'assign': 1, 'toni': 1, 'stark': 1, 'ownership': 1, 'lucki': 1, 'taller': 1, 'ontrac': 1, 'smell': 1, 'regularli': 1, 'industri': 1, 'roll': 1, 'em': 1, 'grace': 1, 'amplifi': 1, 'snell': 1, 'clapper': 1, 'eq': 1, 'hmmm': 1, 'senior': 1, 'citizen': 1, 'sibl': 1, 'versu': 1, 'lifetim': 1, 'approach': 1, 'thousand': 1, 'approxim': 1, 'subpar': 1, 'rariti': 1, 'discourag': 1, 'ecosystem': 1, 'holi': 1, 'batman': 1, 'incorpor': 1, 'scienc': 1, 'core': 1, 'length': 1, 'vacuum': 1, 'hassel': 1, 'unsettl': 1, 'obtrus': 1, 'coordin': 1, 'gameshow': 1, 'traine': 1, 'class': 1, 'logitech': 1, 'harmoni': 1, 'denon': 1, 'av': 1, 'consult': 1, 'sincer': 1, 'transfer': 1, 'zzzz': 1, 'ideal': 1, 'guilti': 1, 'oldest': 1, 'mirror': 1, 'ummm': 1, 'agreement': 1, 'faster': 1, 'darn': 1, 'addon': 1, 'confid': 1, 'resempt': 1, 'downfal': 1, 'funciona': 1, 'genial': 1, 'june': 1, 'crunchyrol': 1, 'pep': 1, 'overcom': 1, 'alexu': 1, 'bet': 1, 'doubt': 1, 'pluto': 1, 'tubi': 1, 'vudu': 1, 'voltag': 1, 'quiet': 1, 'relay': 1, 'satellit': 1, 'bettter': 1, 'rel': 1, 'gap': 1, 'ethernet': 1, 'hiccup': 1, 'storag': 1, 'upcom': 1, 'nfl': 1, 'troublesom': 1, 'electr': 1, 'luckili': 1, 'directtv': 1, 'woohoo': 1, 'snap': 1, 'inspir': 1, 'gateway': 1, 'clip': 1, 'opportun': 1, 'mi': 1, 'similar': 1, 'season': 1, 'blood': 1, 'csi': 1, 'miami': 1, 'optimum': 1, 'suffolk': 1, 'counti': 1, 'evryth': 1, 'hahahaha': 1, 'amazin': 1, 'tradit': 1, 'rst': 1, 'budget': 1, 'maneuv': 1, 'unhappi': 1, 'endless': 1, 'sri': 1, 'offici': 1, 'hdm': 1, 'bob': 1, 'dylan': 1, 'xbox': 1, 'reward': 1, 'singley': 1, 'entri': 1, 'inact': 1, 'finish': 1, 'logo': 1, 'younger': 1, 'forjust': 1, 'mb': 1, 'mandatori': 1, 'upload': 1, 'charlott': 1, 'nc': 1, 'pur': 1, 'nbc': 1, 'abc': 1, 'closer': 1, 'occas': 1, 'thete': 1, 'cave': 1, 'pel': 1, 'cula': 1, 'tien': 1, 'pueden': 1, 'cambiar': 1, 'tulo': 1, 'element': 1, 'madden': 1, 'inclus': 1, 'hdmi': 1, 'ni': 1, 'hbo': 1, 'showtim': 1, 'onetim': 1, 'procedur': 1, 'tge': 1, 'hauler': 1, 'commerci': 1, 'livingroom': 1, 'semi': 1, 'factori': 1, 'abd': 1, 'ban': 1})\n"
     ]
    }
   ],
   "source": [
    "from collections import Counter\n",
    "words_counts = Counter(words)\n",
    "print(words_counts)"
   ]
  },
  {
   "cell_type": "code",
   "execution_count": 157,
   "id": "d8838ba8",
   "metadata": {},
   "outputs": [
    {
     "data": {
      "text/plain": [
       "[('love', 1064),\n",
       " ('echo', 868),\n",
       " ('great', 729),\n",
       " ('use', 718),\n",
       " ('work', 650),\n",
       " ('alexa', 633),\n",
       " ('music', 540),\n",
       " ('like', 535),\n",
       " ('sound', 427),\n",
       " ('one', 371),\n",
       " ('set', 364),\n",
       " ('get', 354),\n",
       " ('devic', 348),\n",
       " ('dot', 347),\n",
       " ('easi', 342),\n",
       " ('play', 333),\n",
       " ('speaker', 307),\n",
       " ('product', 284),\n",
       " ('good', 278),\n",
       " ('thing', 276),\n",
       " ('amazon', 260),\n",
       " ('time', 257),\n",
       " ('home', 221),\n",
       " ('would', 218),\n",
       " ('still', 206),\n",
       " ('show', 203),\n",
       " ('realli', 193),\n",
       " ('light', 192),\n",
       " ('bought', 189),\n",
       " ('smart', 184),\n",
       " ('purchas', 180),\n",
       " ('connect', 179),\n",
       " ('day', 178),\n",
       " ('new', 177),\n",
       " ('better', 177),\n",
       " ('ask', 176),\n",
       " ('need', 175),\n",
       " ('much', 172),\n",
       " ('prime', 170),\n",
       " ('also', 169),\n",
       " ('learn', 168),\n",
       " ('qualiti', 166),\n",
       " ('well', 164),\n",
       " ('want', 156),\n",
       " ('fun', 155),\n",
       " ('room', 153),\n",
       " ('far', 145),\n",
       " ('listen', 143),\n",
       " ('alarm', 142),\n",
       " ('buy', 141),\n",
       " ('even', 137),\n",
       " ('got', 133),\n",
       " ('turn', 133),\n",
       " ('tv', 127),\n",
       " ('plu', 125),\n",
       " ('make', 124),\n",
       " ('tri', 122),\n",
       " ('hous', 120),\n",
       " ('everyth', 120),\n",
       " ('go', 120),\n",
       " ('screen', 120),\n",
       " ('video', 117),\n",
       " ('app', 115),\n",
       " ('featur', 114),\n",
       " ('littl', 109),\n",
       " ('say', 107),\n",
       " ('abl', 107),\n",
       " ('enjoy', 107),\n",
       " ('look', 106),\n",
       " ('know', 106),\n",
       " ('weather', 105),\n",
       " ('spot', 104),\n",
       " ('voic', 103),\n",
       " ('clock', 102),\n",
       " ('tell', 102),\n",
       " ('hub', 102),\n",
       " ('see', 101),\n",
       " ('control', 100),\n",
       " ('could', 100),\n",
       " ('nice', 99),\n",
       " ('lot', 97),\n",
       " ('think', 95),\n",
       " ('amaz', 95),\n",
       " ('price', 93),\n",
       " ('help', 89),\n",
       " ('phone', 89),\n",
       " ('mani', 86),\n",
       " ('expect', 86),\n",
       " ('question', 85),\n",
       " ('anoth', 83),\n",
       " ('without', 83),\n",
       " ('way', 83),\n",
       " ('bedroom', 82),\n",
       " ('command', 82),\n",
       " ('wish', 80),\n",
       " ('call', 80),\n",
       " ('watch', 80),\n",
       " ('problem', 79),\n",
       " ('setup', 78),\n",
       " ('awesom', 78),\n",
       " ('best', 78),\n",
       " ('first', 77),\n",
       " ('issu', 77),\n",
       " ('bulb', 76),\n",
       " ('live', 75),\n",
       " ('song', 75),\n",
       " ('perfect', 75),\n",
       " ('two', 73),\n",
       " ('find', 71),\n",
       " ('item', 71),\n",
       " ('differ', 70),\n",
       " ('hear', 69),\n",
       " ('famili', 68),\n",
       " ('refurbish', 66),\n",
       " ('sure', 65),\n",
       " ('plug', 65),\n",
       " ('everi', 64),\n",
       " ('answer', 63),\n",
       " ('talk', 62),\n",
       " ('size', 62),\n",
       " ('pretti', 62),\n",
       " ('seem', 61),\n",
       " ('happi', 61),\n",
       " ('small', 61),\n",
       " ('volum', 60),\n",
       " ('ad', 60),\n",
       " ('kitchen', 60),\n",
       " ('etc', 60),\n",
       " ('fire', 59),\n",
       " ('stick', 58),\n",
       " ('bluetooth', 57),\n",
       " ('understand', 57),\n",
       " ('keep', 56),\n",
       " ('news', 56),\n",
       " ('come', 56),\n",
       " ('list', 56),\n",
       " ('take', 56),\n",
       " ('give', 55),\n",
       " ('though', 55),\n",
       " ('googl', 55),\n",
       " ('thought', 55),\n",
       " ('disappoint', 54),\n",
       " ('recommend', 54),\n",
       " ('start', 53),\n",
       " ('skill', 53),\n",
       " ('gift', 52),\n",
       " ('old', 50),\n",
       " ('definit', 50),\n",
       " ('fine', 50),\n",
       " ('cool', 50),\n",
       " ('option', 50),\n",
       " ('someth', 49),\n",
       " ('origin', 49),\n",
       " ('star', 49),\n",
       " ('addit', 49),\n",
       " ('instal', 49),\n",
       " ('around', 48),\n",
       " ('yet', 47),\n",
       " ('inform', 47),\n",
       " ('second', 47),\n",
       " ('order', 47),\n",
       " ('wake', 47),\n",
       " ('radio', 46),\n",
       " ('thank', 46),\n",
       " ('add', 46),\n",
       " ('made', 46),\n",
       " ('timer', 46),\n",
       " ('respond', 46),\n",
       " ('movi', 46),\n",
       " ('year', 45),\n",
       " ('figur', 45),\n",
       " ('gener', 45),\n",
       " ('unit', 45),\n",
       " ('function', 45),\n",
       " ('money', 45),\n",
       " ('anyth', 45),\n",
       " ('right', 45),\n",
       " ('back', 45),\n",
       " ('wifi', 44),\n",
       " ('never', 44),\n",
       " ('updat', 44),\n",
       " ('camera', 44),\n",
       " ('enough', 43),\n",
       " ('sinc', 43),\n",
       " ('nd', 43),\n",
       " ('full', 43),\n",
       " ('part', 43),\n",
       " ('wonder', 42),\n",
       " ('simpl', 42),\n",
       " ('sometim', 41),\n",
       " ('favorit', 41),\n",
       " ('alreadi', 41),\n",
       " ('week', 41),\n",
       " ('read', 41),\n",
       " ('kid', 41),\n",
       " ('night', 40),\n",
       " ('big', 39),\n",
       " ('morn', 39),\n",
       " ('replac', 39),\n",
       " ('pleas', 39),\n",
       " ('worth', 39),\n",
       " ('absolut', 39),\n",
       " ('reason', 38),\n",
       " ('instruct', 38),\n",
       " ('fact', 38),\n",
       " ('stop', 38),\n",
       " ('drop', 38),\n",
       " ('access', 37),\n",
       " ('respons', 37),\n",
       " ('program', 37),\n",
       " ('capabl', 37),\n",
       " ('internet', 37),\n",
       " ('receiv', 36),\n",
       " ('wife', 36),\n",
       " ('sleep', 36),\n",
       " ('long', 36),\n",
       " ('youtub', 36),\n",
       " ('check', 36),\n",
       " ('deal', 35),\n",
       " ('alway', 35),\n",
       " ('system', 35),\n",
       " ('link', 35),\n",
       " ('improv', 34),\n",
       " ('came', 34),\n",
       " ('friend', 34),\n",
       " ('built', 34),\n",
       " ('person', 34),\n",
       " ('chang', 34),\n",
       " ('return', 34),\n",
       " ('hue', 34),\n",
       " ('conveni', 34),\n",
       " ('game', 33),\n",
       " ('daughter', 33),\n",
       " ('excel', 33),\n",
       " ('son', 33),\n",
       " ('us', 33),\n",
       " ('technolog', 32),\n",
       " ('howev', 32),\n",
       " ('remind', 31),\n",
       " ('clear', 31),\n",
       " ('hope', 31),\n",
       " ('easier', 31),\n",
       " ('request', 31),\n",
       " ('super', 31),\n",
       " ('month', 31),\n",
       " ('easili', 30),\n",
       " ('els', 30),\n",
       " ('away', 29),\n",
       " ('almost', 29),\n",
       " ('ring', 29),\n",
       " ('user', 29),\n",
       " ('forward', 29),\n",
       " ('hook', 29),\n",
       " ('impress', 29),\n",
       " ('troubl', 29),\n",
       " ('may', 29),\n",
       " ('minut', 29),\n",
       " ('free', 29),\n",
       " ('quit', 29),\n",
       " ('peopl', 29),\n",
       " ('especi', 29),\n",
       " ('cabl', 29),\n",
       " ('wait', 28),\n",
       " ('fast', 28),\n",
       " ('bit', 28),\n",
       " ('station', 28),\n",
       " ('done', 28),\n",
       " ('support', 28),\n",
       " ('actual', 28),\n",
       " ('avail', 28),\n",
       " ('abil', 28),\n",
       " ('perfectli', 28),\n",
       " ('feel', 28),\n",
       " ('gen', 28),\n",
       " ('display', 28),\n",
       " ('comput', 27),\n",
       " ('includ', 27),\n",
       " ('packag', 27),\n",
       " ('said', 27),\n",
       " ('speak', 27),\n",
       " ('decid', 27),\n",
       " ('whole', 27),\n",
       " ('put', 27),\n",
       " ('stuff', 27),\n",
       " ('audio', 27),\n",
       " ('found', 26),\n",
       " ('spotifi', 26),\n",
       " ('advertis', 26),\n",
       " ('husband', 26),\n",
       " ('must', 26),\n",
       " ('book', 26),\n",
       " ('life', 26),\n",
       " ('probabl', 26),\n",
       " ('loud', 26),\n",
       " ('basic', 26),\n",
       " ('cannot', 25),\n",
       " ('coupl', 25),\n",
       " ('hard', 25),\n",
       " ('hour', 25),\n",
       " ('tech', 25),\n",
       " ('run', 25),\n",
       " ('pay', 25),\n",
       " ('name', 25),\n",
       " ('power', 25),\n",
       " ('eas', 25),\n",
       " ('servic', 25),\n",
       " ('glad', 25),\n",
       " ('white', 25),\n",
       " ('throughout', 24),\n",
       " ('miss', 24),\n",
       " ('instead', 24),\n",
       " ('overal', 24),\n",
       " ('assist', 24),\n",
       " ('sale', 24),\n",
       " ('joke', 24),\n",
       " ('ever', 24),\n",
       " ('soon', 24),\n",
       " ('bad', 24),\n",
       " ('shop', 24),\n",
       " ('download', 24),\n",
       " ('word', 24),\n",
       " ('stand', 24),\n",
       " ('highli', 24),\n",
       " ('firestick', 24),\n",
       " ('custom', 23),\n",
       " ('multipl', 23),\n",
       " ('fix', 23),\n",
       " ('account', 23),\n",
       " ('next', 23),\n",
       " ('stream', 23),\n",
       " ('complaint', 23),\n",
       " ('noth', 23),\n",
       " ('lyric', 23),\n",
       " ('button', 22),\n",
       " ('playlist', 22),\n",
       " ('brief', 22),\n",
       " ('sever', 22),\n",
       " ('plan', 22),\n",
       " ('extra', 22),\n",
       " ('upgrad', 22),\n",
       " ('pick', 22),\n",
       " ('offic', 22),\n",
       " ('along', 22),\n",
       " ('entertain', 22),\n",
       " ('daili', 22),\n",
       " ('less', 22),\n",
       " ('remot', 22),\n",
       " ('face', 22),\n",
       " ('base', 21),\n",
       " ('let', 21),\n",
       " ('discov', 21),\n",
       " ('surpris', 21),\n",
       " ('bass', 21),\n",
       " ('search', 21),\n",
       " ('touch', 21),\n",
       " ('gave', 21),\n",
       " ('brand', 21),\n",
       " ('went', 21),\n",
       " ('took', 21),\n",
       " ('cook', 20),\n",
       " ('household', 20),\n",
       " ('review', 20),\n",
       " ('lamp', 20),\n",
       " ('limit', 20),\n",
       " ('exactli', 20),\n",
       " ('provid', 20),\n",
       " ('half', 20),\n",
       " ('mostli', 20),\n",
       " ('excit', 20),\n",
       " ('goe', 20),\n",
       " ('door', 20),\n",
       " ('chat', 20),\n",
       " ('recip', 20),\n",
       " ('philip', 20),\n",
       " ('appl', 19),\n",
       " ('thermostat', 19),\n",
       " ('paid', 19),\n",
       " ('handi', 19),\n",
       " ('total', 19),\n",
       " ('suppos', 19),\n",
       " ('netflix', 19),\n",
       " ('top', 18),\n",
       " ('continu', 18),\n",
       " ('allow', 18),\n",
       " ('satisfi', 18),\n",
       " ('pandora', 18),\n",
       " ('huge', 18),\n",
       " ('bose', 18),\n",
       " ('kind', 18),\n",
       " ('regret', 18),\n",
       " ('friendli', 18),\n",
       " ('blue', 18),\n",
       " ('futur', 18),\n",
       " ('smaller', 18),\n",
       " ('complet', 18),\n",
       " ('often', 18),\n",
       " ('lol', 18),\n",
       " ('pictur', 18),\n",
       " ('bed', 18),\n",
       " ('regular', 18),\n",
       " ('offer', 17),\n",
       " ('heard', 17),\n",
       " ('color', 17),\n",
       " ('frustrat', 17),\n",
       " ('st', 17),\n",
       " ('mainli', 17),\n",
       " ('sync', 17),\n",
       " ('end', 17),\n",
       " ('number', 17),\n",
       " ('group', 17),\n",
       " ('fantast', 17),\n",
       " ('type', 17),\n",
       " ('audibl', 17),\n",
       " ('someon', 17),\n",
       " ('told', 17),\n",
       " ('secur', 17),\n",
       " ('dislik', 17),\n",
       " ('alon', 17),\n",
       " ('save', 17),\n",
       " ('specif', 16),\n",
       " ('flash', 16),\n",
       " ('except', 16),\n",
       " ('everyon', 16),\n",
       " ('annoy', 16),\n",
       " ('mom', 16),\n",
       " ('extern', 16),\n",
       " ('commun', 16),\n",
       " ('piec', 16),\n",
       " ('intercom', 16),\n",
       " ('experi', 16),\n",
       " ('cord', 16),\n",
       " ('final', 16),\n",
       " ('louder', 16),\n",
       " ('happen', 16),\n",
       " ('ok', 16),\n",
       " ('nightstand', 16),\n",
       " ('bedsid', 16),\n",
       " ('view', 16),\n",
       " ('although', 16),\n",
       " ('direct', 16),\n",
       " ('wrong', 15),\n",
       " ('mother', 15),\n",
       " ('oper', 15),\n",
       " ('real', 15),\n",
       " ('contact', 15),\n",
       " ('terribl', 15),\n",
       " ('batteri', 15),\n",
       " ('open', 15),\n",
       " ('job', 15),\n",
       " ('three', 15),\n",
       " ('quick', 15),\n",
       " ('readi', 15),\n",
       " ('perform', 15),\n",
       " ('valu', 15),\n",
       " ('repeat', 15),\n",
       " ('interact', 15),\n",
       " ('schedul', 15),\n",
       " ('unless', 15),\n",
       " ('lock', 15),\n",
       " ('extrem', 15),\n",
       " ('mini', 15),\n",
       " ('step', 15),\n",
       " ('channel', 15),\n",
       " ('sit', 15),\n",
       " ('longer', 15),\n",
       " ('rd', 15),\n",
       " ('switch', 15),\n",
       " ('current', 15),\n",
       " ('realiz', 15),\n",
       " ('via', 15),\n",
       " ('u', 14),\n",
       " ('cell', 14),\n",
       " ('fan', 14),\n",
       " ('begin', 14),\n",
       " ('later', 14),\n",
       " ('rang', 14),\n",
       " ('third', 14),\n",
       " ('activ', 14),\n",
       " ('least', 14),\n",
       " ('low', 14),\n",
       " ('space', 14),\n",
       " ('constantli', 13),\n",
       " ('toy', 13),\n",
       " ('choic', 13),\n",
       " ('difficult', 13),\n",
       " ('immedi', 13),\n",
       " ('birthday', 13),\n",
       " ('place', 13),\n",
       " ('consid', 13),\n",
       " ('outlet', 13),\n",
       " ('wireless', 13),\n",
       " ('across', 13),\n",
       " ('process', 13),\n",
       " ('move', 13),\n",
       " ('recogn', 13),\n",
       " ('explor', 13),\n",
       " ('integr', 13),\n",
       " ('high', 13),\n",
       " ('design', 13),\n",
       " ('enabl', 13),\n",
       " ('tooth', 13),\n",
       " ('suggest', 13),\n",
       " ('interfac', 13),\n",
       " ('unplug', 13),\n",
       " ('quickli', 13),\n",
       " ('ye', 13),\n",
       " ('might', 13),\n",
       " ('arriv', 13),\n",
       " ('useless', 13),\n",
       " ('reset', 13),\n",
       " ('box', 13),\n",
       " ('adapt', 13),\n",
       " ('walk', 13),\n",
       " ('rather', 13),\n",
       " ('deliv', 13),\n",
       " ('error', 13),\n",
       " ('cost', 13),\n",
       " ('creat', 13),\n",
       " ('sent', 12),\n",
       " ('load', 12),\n",
       " ('follow', 12),\n",
       " ('cheap', 12),\n",
       " ('siri', 12),\n",
       " ('other', 12),\n",
       " ('alexia', 12),\n",
       " ('traffic', 12),\n",
       " ('gadget', 12),\n",
       " ('within', 12),\n",
       " ('outsid', 12),\n",
       " ('possibl', 12),\n",
       " ('stori', 12),\n",
       " ('fault', 12),\n",
       " ('info', 12),\n",
       " ('clearli', 12),\n",
       " ('older', 12),\n",
       " ('today', 12),\n",
       " ('worri', 12),\n",
       " ('given', 12),\n",
       " ('upstair', 12),\n",
       " ('select', 12),\n",
       " ('send', 12),\n",
       " ('last', 12),\n",
       " ('parent', 12),\n",
       " ('tool', 12),\n",
       " ('notif', 12),\n",
       " ('microphon', 12),\n",
       " ('version', 12),\n",
       " ('point', 12),\n",
       " ('stay', 12),\n",
       " ('bridg', 12),\n",
       " ('dad', 11),\n",
       " ('knew', 11),\n",
       " ('comfort', 11),\n",
       " ('podcast', 11),\n",
       " ('test', 11),\n",
       " ('compar', 11),\n",
       " ('ship', 11),\n",
       " ('compat', 11),\n",
       " ('savvi', 11),\n",
       " ('blast', 11),\n",
       " ('simpli', 11),\n",
       " ('kindl', 11),\n",
       " ('routin', 11),\n",
       " ('kasa', 11),\n",
       " ('autom', 11),\n",
       " ('record', 11),\n",
       " ('unfortun', 11),\n",
       " ('tap', 11),\n",
       " ('recognit', 11),\n",
       " ('ago', 11),\n",
       " ('concern', 11),\n",
       " ('bathroom', 11),\n",
       " ('research', 11),\n",
       " ('confus', 11),\n",
       " ('messag', 11),\n",
       " ('becom', 11),\n",
       " ('guy', 11),\n",
       " ('snooz', 11),\n",
       " ('world', 11),\n",
       " ('pair', 11),\n",
       " ('dim', 11),\n",
       " ('hand', 11),\n",
       " ('anyon', 11),\n",
       " ('oh', 11),\n",
       " ('idea', 11),\n",
       " ('correctli', 10),\n",
       " ('laugh', 10),\n",
       " ('lack', 10),\n",
       " ('digit', 10),\n",
       " ('locat', 10),\n",
       " ('believ', 10),\n",
       " ('entir', 10),\n",
       " ('grandkid', 10),\n",
       " ('groceri', 10),\n",
       " ('spend', 10),\n",
       " ('line', 10),\n",
       " ('cover', 10),\n",
       " ('languag', 10),\n",
       " ('larg', 10),\n",
       " ('otherwis', 10),\n",
       " ('intuit', 10),\n",
       " ('either', 10),\n",
       " ('mayb', 10),\n",
       " ('due', 10),\n",
       " ('gotten', 10),\n",
       " ('condit', 10),\n",
       " ('adjust', 10),\n",
       " ('potenti', 10),\n",
       " ('sourc', 10),\n",
       " ('wi', 10),\n",
       " ('fi', 10),\n",
       " ('wast', 10),\n",
       " ('complain', 10),\n",
       " ('softwar', 10),\n",
       " ('disconnect', 10),\n",
       " ('larger', 10),\n",
       " ('shut', 10),\n",
       " ('stereo', 10),\n",
       " ('middl', 10),\n",
       " ('black', 10),\n",
       " ('cam', 10),\n",
       " ('slow', 10),\n",
       " ('fall', 10),\n",
       " ('front', 10),\n",
       " ('event', 10),\n",
       " ('task', 10),\n",
       " ('hulu', 10),\n",
       " ('member', 9),\n",
       " ('counter', 9),\n",
       " ('rate', 9),\n",
       " ('sister', 9),\n",
       " ('primarili', 9),\n",
       " ('unlimit', 9),\n",
       " ('happier', 9),\n",
       " ('initi', 9),\n",
       " ('busi', 9),\n",
       " ('rememb', 9),\n",
       " ('particular', 9),\n",
       " ('exampl', 9),\n",
       " ('variou', 9),\n",
       " ('wall', 9),\n",
       " ('fairli', 9),\n",
       " ('electron', 9),\n",
       " ('bug', 9),\n",
       " ('compact', 9),\n",
       " ('leav', 9),\n",
       " ('trek', 9),\n",
       " ('dont', 9),\n",
       " ('outstand', 9),\n",
       " ('mean', 9),\n",
       " ('close', 9),\n",
       " ('sono', 9),\n",
       " ('sensit', 9),\n",
       " ('lower', 9),\n",
       " ('expens', 9),\n",
       " ('ai', 9),\n",
       " ('gone', 9),\n",
       " ('togeth', 9),\n",
       " ('doorbel', 9),\n",
       " ('scroll', 9),\n",
       " ('navig', 9),\n",
       " ('calendar', 9),\n",
       " ('short', 9),\n",
       " ('card', 9),\n",
       " ('network', 9),\n",
       " ('requir', 9),\n",
       " ('roku', 9),\n",
       " ('random', 8),\n",
       " ('standard', 8),\n",
       " ('guess', 8),\n",
       " ('major', 8),\n",
       " ('knowledg', 8),\n",
       " ('televis', 8),\n",
       " ('father', 8),\n",
       " ('discount', 8),\n",
       " ('iphon', 8),\n",
       " ('clariti', 8),\n",
       " ('deliveri', 8),\n",
       " ('photo', 8),\n",
       " ('versatil', 8),\n",
       " ('portabl', 8),\n",
       " ('four', 8),\n",
       " ('default', 8),\n",
       " ('equip', 8),\n",
       " ('minor', 8),\n",
       " ('hesit', 8),\n",
       " ('school', 8),\n",
       " ('slightli', 8),\n",
       " ('lose', 8),\n",
       " ('convers', 8),\n",
       " ('addict', 8),\n",
       " ('side', 8),\n",
       " ('forget', 8),\n",
       " ('late', 8),\n",
       " ('insid', 8),\n",
       " ('cours', 8),\n",
       " ('parti', 8),\n",
       " ('act', 8),\n",
       " ('beauti', 8),\n",
       " ('n', 8),\n",
       " ('accent', 8),\n",
       " ('area', 8),\n",
       " ('reach', 8),\n",
       " ('decent', 8),\n",
       " ('exchang', 8),\n",
       " ('imagin', 8),\n",
       " ('intend', 8),\n",
       " ('choos', 8),\n",
       " ('bring', 8),\n",
       " ('saw', 8),\n",
       " ('surprisingli', 8),\n",
       " ('clean', 8),\n",
       " ('cycl', 8),\n",
       " ('cut', 8),\n",
       " ('cancel', 8),\n",
       " ('rotat', 8),\n",
       " ('repair', 8),\n",
       " ('liter', 8),\n",
       " ('unabl', 8),\n",
       " ('downstair', 8),\n",
       " ('hate', 7),\n",
       " ('previou', 7),\n",
       " ('tune', 7),\n",
       " ('phenomen', 7),\n",
       " ('charg', 7),\n",
       " ('trivia', 7),\n",
       " ('grandchildren', 7),\n",
       " ('bonu', 7),\n",
       " ('cute', 7),\n",
       " ('red', 7),\n",
       " ('artist', 7),\n",
       " ('local', 7),\n",
       " ('rock', 7),\n",
       " ('bt', 7),\n",
       " ('own', 7),\n",
       " ('increas', 7),\n",
       " ('anticip', 7),\n",
       " ('randomli', 7),\n",
       " ('penni', 7),\n",
       " ('funni', 7),\n",
       " ('usual', 7),\n",
       " ('biggest', 7),\n",
       " ('moment', 7),\n",
       " ('challeng', 7),\n",
       " ('apart', 7),\n",
       " ('prove', 7),\n",
       " ('mine', 7),\n",
       " ('man', 7),\n",
       " ('prefer', 7),\n",
       " ('purpos', 7),\n",
       " ('poor', 7),\n",
       " ('five', 7),\n",
       " ('yell', 7),\n",
       " ('spent', 7),\n",
       " ('varieti', 7),\n",
       " ('correct', 7),\n",
       " ('honestli', 7),\n",
       " ('okay', 7),\n",
       " ('onlin', 7),\n",
       " ('appear', 7),\n",
       " ('ghz', 7),\n",
       " ('mic', 7),\n",
       " ('effect', 7),\n",
       " ('desk', 7),\n",
       " ('occasion', 7),\n",
       " ('properli', 7),\n",
       " ('interest', 7),\n",
       " ('stupid', 7),\n",
       " ('date', 7),\n",
       " ('state', 7),\n",
       " ('cloud', 7),\n",
       " ('sing', 7),\n",
       " ('directli', 7),\n",
       " ('lag', 7),\n",
       " ('depend', 7),\n",
       " ('swipe', 7),\n",
       " ('manag', 7),\n",
       " ('content', 7),\n",
       " ('jump', 7),\n",
       " ('visual', 7),\n",
       " ('tablet', 7),\n",
       " ('floor', 7),\n",
       " ('fidel', 7),\n",
       " ('sooner', 7),\n",
       " ('charm', 7),\n",
       " ('benefit', 6),\n",
       " ('tube', 6),\n",
       " ('glitch', 6),\n",
       " ('certain', 6),\n",
       " ('excelent', 6),\n",
       " ('compon', 6),\n",
       " ('homework', 6),\n",
       " ('classroom', 6),\n",
       " ('hardli', 6),\n",
       " ('hit', 6),\n",
       " ('report', 6),\n",
       " ('router', 6),\n",
       " ('pleasantli', 6),\n",
       " ('met', 6),\n",
       " ('natur', 6),\n",
       " ('resist', 6),\n",
       " ('invest', 6),\n",
       " ('slowli', 6),\n",
       " ('beat', 6),\n",
       " ('advanc', 6),\n",
       " ('delay', 6),\n",
       " ('describ', 6),\n",
       " ('automat', 6),\n",
       " ('elderli', 6),\n",
       " ('premium', 6),\n",
       " ('yard', 6),\n",
       " ('non', 6),\n",
       " ('enter', 6),\n",
       " ('bare', 6),\n",
       " ('inconveni', 6),\n",
       " ('weird', 6),\n",
       " ('speech', 6),\n",
       " ('present', 6),\n",
       " ('strong', 6),\n",
       " ('whatev', 6),\n",
       " ('extend', 6),\n",
       " ('bottom', 6),\n",
       " ('certifi', 6),\n",
       " ('refurb', 6),\n",
       " ('everyday', 6),\n",
       " ('case', 6),\n",
       " ('breez', 6),\n",
       " ('appoint', 6),\n",
       " ('awhil', 6),\n",
       " ('eye', 6),\n",
       " ('deck', 6),\n",
       " ('level', 6),\n",
       " ('true', 6),\n",
       " ('arlo', 6),\n",
       " ('special', 6),\n",
       " ('model', 6),\n",
       " ('mode', 6),\n",
       " ('brought', 6),\n",
       " ('im', 6),\n",
       " ('import', 6),\n",
       " ('neg', 6),\n",
       " ('bother', 6),\n",
       " ('appar', 6),\n",
       " ('fit', 6),\n",
       " ('la', 6),\n",
       " ('de', 6),\n",
       " ('suck', 6),\n",
       " ('practic', 6),\n",
       " ('manual', 6),\n",
       " ('recent', 6),\n",
       " ('separ', 6),\n",
       " ('engin', 6),\n",
       " ('tall', 6),\n",
       " ('text', 6),\n",
       " ('children', 6),\n",
       " ('fill', 6),\n",
       " ('speed', 6),\n",
       " ('z', 6),\n",
       " ('wave', 6),\n",
       " ('jack', 6),\n",
       " ('yr', 5),\n",
       " ('ipad', 5),\n",
       " ('th', 5),\n",
       " ('greater', 5),\n",
       " ('port', 5),\n",
       " ('round', 5),\n",
       " ('ton', 5),\n",
       " ('que', 5),\n",
       " ('mention', 5),\n",
       " ('compani', 5),\n",
       " ('tip', 5),\n",
       " ('fio', 5),\n",
       " ('downsid', 5),\n",
       " ('cd', 5),\n",
       " ('anymor', 5),\n",
       " ('besid', 5),\n",
       " ('recharg', 5),\n",
       " ('audiobook', 5),\n",
       " ('detail', 5),\n",
       " ('exact', 5),\n",
       " ('instantli', 5),\n",
       " ('boom', 5),\n",
       " ('prior', 5),\n",
       " ('english', 5),\n",
       " ('seamlessli', 5),\n",
       " ('serious', 5),\n",
       " ('cordless', 5),\n",
       " ('car', 5),\n",
       " ('result', 5),\n",
       " ('awar', 5),\n",
       " ('trebl', 5),\n",
       " ('technic', 5),\n",
       " ('pool', 5),\n",
       " ('hire', 5),\n",
       " ('iheartradio', 5),\n",
       " ('simultan', 5),\n",
       " ('greatest', 5),\n",
       " ('pain', 5),\n",
       " ('effici', 5),\n",
       " ('pleasur', 5),\n",
       " ('weak', 5),\n",
       " ('kinda', 5),\n",
       " ('invas', 5),\n",
       " ('beyond', 5),\n",
       " ('auxiliari', 5),\n",
       " ('nest', 5),\n",
       " ('phillip', 5),\n",
       " ('shower', 5),\n",
       " ('six', 5),\n",
       " ('background', 5),\n",
       " ('guest', 5),\n",
       " ('buck', 5),\n",
       " ('flawlessli', 5),\n",
       " ('attach', 5),\n",
       " ('horribl', 5),\n",
       " ('neither', 5),\n",
       " ('everywher', 5),\n",
       " ('reboot', 5),\n",
       " ('hold', 5),\n",
       " ('buyer', 5),\n",
       " ('none', 5),\n",
       " ('effort', 5),\n",
       " ('defect', 5),\n",
       " ('applic', 5),\n",
       " ('cant', 5),\n",
       " ('warranti', 5),\n",
       " ('reconnect', 5),\n",
       " ('bright', 5),\n",
       " ('chanc', 5),\n",
       " ('sens', 5),\n",
       " ('form', 5),\n",
       " ('alert', 5),\n",
       " ('chose', 5),\n",
       " ('opinion', 5),\n",
       " ('neat', 5),\n",
       " ('garbag', 5),\n",
       " ('refer', 5),\n",
       " ('irrit', 5),\n",
       " ('grand', 5),\n",
       " ('train', 5),\n",
       " ('l', 5),\n",
       " ('weekend', 5),\n",
       " ('facetim', 5),\n",
       " ('asleep', 5),\n",
       " ('rain', 5),\n",
       " ('rid', 5),\n",
       " ('trailer', 5),\n",
       " ('websit', 5),\n",
       " ('combin', 5),\n",
       " ('alex', 5),\n",
       " ('privaci', 5),\n",
       " ('skype', 5),\n",
       " ('travel', 5),\n",
       " ('law', 5),\n",
       " ('con', 5),\n",
       " ('dismiss', 5),\n",
       " ('felt', 5),\n",
       " ('attempt', 5),\n",
       " ('silli', 5),\n",
       " ('fail', 5),\n",
       " ('whether', 5),\n",
       " ('disabl', 5),\n",
       " ('debat', 5),\n",
       " ('rent', 5),\n",
       " ('decor', 5),\n",
       " ('thunderstorm', 5),\n",
       " ('will', 5),\n",
       " ('nearli', 5),\n",
       " ('web', 5),\n",
       " ('project', 5),\n",
       " ('mind', 5),\n",
       " ('librari', 5),\n",
       " ('past', 5),\n",
       " ('solut', 5),\n",
       " ('rare', 5),\n",
       " ('plenti', 5),\n",
       " ('straight', 5),\n",
       " ('zigbe', 5),\n",
       " ('twice', 5),\n",
       " ('interfer', 5),\n",
       " ('x', 5),\n",
       " ('alexi', 5),\n",
       " ('inexpens', 5),\n",
       " ('fabric', 4),\n",
       " ('usb', 4),\n",
       " ('charger', 4),\n",
       " ('didnt', 4),\n",
       " ('uniqu', 4),\n",
       " ('owner', 4),\n",
       " ('mobil', 4),\n",
       " ('android', 4),\n",
       " ('camelot', 4),\n",
       " ('es', 4),\n",
       " ('espa', 4),\n",
       " ('ol', 4),\n",
       " ('na', 4),\n",
       " ('collect', 4),\n",
       " ('applianc', 4),\n",
       " ('cent', 4),\n",
       " ('patient', 4),\n",
       " ...]"
      ]
     },
     "execution_count": 157,
     "metadata": {},
     "output_type": "execute_result"
    }
   ],
   "source": [
    "most_common_words = sorted(words_counts.items(), key=lambda x: x[1], reverse=True)\n",
    "most_common_words"
   ]
  },
  {
   "cell_type": "code",
   "execution_count": 158,
   "id": "12cc432f",
   "metadata": {},
   "outputs": [],
   "source": [
    "most_commmom_wordList = []\n",
    "most_commmom_CountList = []\n",
    "for x, y in most_common_words:\n",
    "    most_commmom_wordList.append(x)\n",
    "    most_commmom_CountList.append(y)"
   ]
  },
  {
   "cell_type": "code",
   "execution_count": 159,
   "id": "67654607",
   "metadata": {
    "scrolled": true
   },
   "outputs": [
    {
     "data": {
      "image/png": "[encoded data removed]",
      "text/plain": [
       "<Figure size 2000x1800 with 1 Axes>"
      ]
     },
     "metadata": {},
     "output_type": "display_data"
    }
   ],
   "source": [
    "import seaborn as sns\n",
    "plt.figure(figsize=(20,18))\n",
    "plot = sns.barplot(x=most_commmom_wordList[0:20], y=most_commmom_CountList[0:20])\n",
    "plt.ylabel('Word Count', fontsize=20)\n",
    "plt.xticks(rotation=40, fontsize=20)\n",
    "plt.title('Most Frequently Used Words', fontsize=20)\n",
    "plt.show()\n"
   ]
  },
  {
   "cell_type": "code",
   "execution_count": 160,
   "id": "5d864fdc",
   "metadata": {},
   "outputs": [],
   "source": [
    "# creating the Bag of words Model\n",
    "from sklearn.feature_extraction.text import CountVectorizer\n",
    "cv=CountVectorizer(max_features=1500)\n",
    "X=cv.fit_transform(corpus).toarray()\n",
    "y=dataset.iloc[:,4].values"
   ]
  },
  {
   "cell_type": "code",
   "execution_count": 161,
   "id": "cdc90224",
   "metadata": {},
   "outputs": [],
   "source": [
    "# Splitting the dataset into the Training set and Test set\n",
    "from sklearn.model_selection import train_test_split\n",
    "X_train, X_test, y_train, y_test = train_test_split(X, y, test_size = 0.20, random_state = 0)"
   ]
  },
  {
   "cell_type": "code",
   "execution_count": 162,
   "id": "8197f8ea",
   "metadata": {},
   "outputs": [],
   "source": [
    "import xgboost as xgb"
   ]
  },
  {
   "cell_type": "code",
   "execution_count": 163,
   "id": "499d5fea",
   "metadata": {},
   "outputs": [
    {
     "data": {
      "text/html": [
       "<style>#sk-container-id-3 {color: black;}#sk-container-id-3 pre{padding: 0;}#sk-container-id-3 div.sk-toggleable {background-color: white;}#sk-container-id-3 label.sk-toggleable__label {cursor: pointer;display: block;width: 100%;margin-bottom: 0;padding: 0.3em;box-sizing: border-box;text-align: center;}#sk-container-id-3 label.sk-toggleable__label-arrow:before {content: \"▸\";float: left;margin-right: 0.25em;color: #696969;}#sk-container-id-3 label.sk-toggleable__label-arrow:hover:before {color: black;}#sk-container-id-3 div.sk-estimator:hover label.sk-toggleable__label-arrow:before {color: black;}#sk-container-id-3 div.sk-toggleable__content {max-height: 0;max-width: 0;overflow: hidden;text-align: left;background-color: #f0f8ff;}#sk-container-id-3 div.sk-toggleable__content pre {margin: 0.2em;color: black;border-radius: 0.25em;background-color: #f0f8ff;}#sk-container-id-3 input.sk-toggleable__control:checked~div.sk-toggleable__content {max-height: 200px;max-width: 100%;overflow: auto;}#sk-container-id-3 input.sk-toggleable__control:checked~label.sk-toggleable__label-arrow:before {content: \"▾\";}#sk-container-id-3 div.sk-estimator input.sk-toggleable__control:checked~label.sk-toggleable__label {background-color: #d4ebff;}#sk-container-id-3 div.sk-label input.sk-toggleable__control:checked~label.sk-toggleable__label {background-color: #d4ebff;}#sk-container-id-3 input.sk-hidden--visually {border: 0;clip: rect(1px 1px 1px 1px);clip: rect(1px, 1px, 1px, 1px);height: 1px;margin: -1px;overflow: hidden;padding: 0;position: absolute;width: 1px;}#sk-container-id-3 div.sk-estimator {font-family: monospace;background-color: #f0f8ff;border: 1px dotted black;border-radius: 0.25em;box-sizing: border-box;margin-bottom: 0.5em;}#sk-container-id-3 div.sk-estimator:hover {background-color: #d4ebff;}#sk-container-id-3 div.sk-parallel-item::after {content: \"\";width: 100%;border-bottom: 1px solid gray;flex-grow: 1;}#sk-container-id-3 div.sk-label:hover label.sk-toggleable__label {background-color: #d4ebff;}#sk-container-id-3 div.sk-serial::before {content: \"\";position: absolute;border-left: 1px solid gray;box-sizing: border-box;top: 0;bottom: 0;left: 50%;z-index: 0;}#sk-container-id-3 div.sk-serial {display: flex;flex-direction: column;align-items: center;background-color: white;padding-right: 0.2em;padding-left: 0.2em;position: relative;}#sk-container-id-3 div.sk-item {position: relative;z-index: 1;}#sk-container-id-3 div.sk-parallel {display: flex;align-items: stretch;justify-content: center;background-color: white;position: relative;}#sk-container-id-3 div.sk-item::before, #sk-container-id-3 div.sk-parallel-item::before {content: \"\";position: absolute;border-left: 1px solid gray;box-sizing: border-box;top: 0;bottom: 0;left: 50%;z-index: -1;}#sk-container-id-3 div.sk-parallel-item {display: flex;flex-direction: column;z-index: 1;position: relative;background-color: white;}#sk-container-id-3 div.sk-parallel-item:first-child::after {align-self: flex-end;width: 50%;}#sk-container-id-3 div.sk-parallel-item:last-child::after {align-self: flex-start;width: 50%;}#sk-container-id-3 div.sk-parallel-item:only-child::after {width: 0;}#sk-container-id-3 div.sk-dashed-wrapped {border: 1px dashed gray;margin: 0 0.4em 0.5em 0.4em;box-sizing: border-box;padding-bottom: 0.4em;background-color: white;}#sk-container-id-3 div.sk-label label {font-family: monospace;font-weight: bold;display: inline-block;line-height: 1.2em;}#sk-container-id-3 div.sk-label-container {text-align: center;}#sk-container-id-3 div.sk-container {/* jupyter's `normalize.less` sets `[hidden] { display: none; }` but bootstrap.min.css set `[hidden] { display: none !important; }` so we also need the `!important` here to be able to override the default hidden behavior on the sphinx rendered scikit-learn.org. See: https://github.com/scikit-learn/scikit-learn/issues/21755 */display: inline-block !important;position: relative;}#sk-container-id-3 div.sk-text-repr-fallback {display: none;}</style><div id=\"sk-container-id-3\" class=\"sk-top-container\"><div class=\"sk-text-repr-fallback\"><pre>XGBClassifier(base_score=None, booster=None, callbacks=None,\n",
       "              colsample_bylevel=None, colsample_bynode=None,\n",
       "              colsample_bytree=None, device=None, early_stopping_rounds=None,\n",
       "              enable_categorical=False, eval_metric=None, feature_types=None,\n",
       "              gamma=None, grow_policy=None, importance_type=None,\n",
       "              interaction_constraints=None, learning_rate=None, max_bin=None,\n",
       "              max_cat_threshold=None, max_cat_to_onehot=None,\n",
       "              max_delta_step=None, max_depth=None, max_leaves=None,\n",
       "              min_child_weight=None, missing=nan, monotone_constraints=None,\n",
       "              multi_strategy=None, n_estimators=None, n_jobs=None,\n",
       "              num_parallel_tree=None, random_state=None, ...)</pre><b>In a Jupyter environment, please rerun this cell to show the HTML representation or trust the notebook. <br />On GitHub, the HTML representation is unable to render, please try loading this page with nbviewer.org.</b></div><div class=\"sk-container\" hidden><div class=\"sk-item\"><div class=\"sk-estimator sk-toggleable\"><input class=\"sk-toggleable__control sk-hidden--visually\" id=\"sk-estimator-id-3\" type=\"checkbox\" checked><label for=\"sk-estimator-id-3\" class=\"sk-toggleable__label sk-toggleable__label-arrow\">XGBClassifier</label><div class=\"sk-toggleable__content\"><pre>XGBClassifier(base_score=None, booster=None, callbacks=None,\n",
       "              colsample_bylevel=None, colsample_bynode=None,\n",
       "              colsample_bytree=None, device=None, early_stopping_rounds=None,\n",
       "              enable_categorical=False, eval_metric=None, feature_types=None,\n",
       "              gamma=None, grow_policy=None, importance_type=None,\n",
       "              interaction_constraints=None, learning_rate=None, max_bin=None,\n",
       "              max_cat_threshold=None, max_cat_to_onehot=None,\n",
       "              max_delta_step=None, max_depth=None, max_leaves=None,\n",
       "              min_child_weight=None, missing=nan, monotone_constraints=None,\n",
       "              multi_strategy=None, n_estimators=None, n_jobs=None,\n",
       "              num_parallel_tree=None, random_state=None, ...)</pre></div></div></div></div></div>"
      ],
      "text/plain": [
       "XGBClassifier(base_score=None, booster=None, callbacks=None,\n",
       "              colsample_bylevel=None, colsample_bynode=None,\n",
       "              colsample_bytree=None, device=None, early_stopping_rounds=None,\n",
       "              enable_categorical=False, eval_metric=None, feature_types=None,\n",
       "              gamma=None, grow_policy=None, importance_type=None,\n",
       "              interaction_constraints=None, learning_rate=None, max_bin=None,\n",
       "              max_cat_threshold=None, max_cat_to_onehot=None,\n",
       "              max_delta_step=None, max_depth=None, max_leaves=None,\n",
       "              min_child_weight=None, missing=nan, monotone_constraints=None,\n",
       "              multi_strategy=None, n_estimators=None, n_jobs=None,\n",
       "              num_parallel_tree=None, random_state=None, ...)"
      ]
     },
     "execution_count": 163,
     "metadata": {},
     "output_type": "execute_result"
    }
   ],
   "source": [
    "from xgboost import XGBClassifier\n",
    "classifier = XGBClassifier()\n",
    "classifier.fit(X_train, y_train)\n",
    "       \n",
    "    \n"
   ]
  },
  {
   "cell_type": "code",
   "execution_count": 164,
   "id": "458fc678",
   "metadata": {},
   "outputs": [],
   "source": [
    "# Predicting the Test set results\n",
    "y_pred = classifier.predict(X_test)"
   ]
  },
  {
   "cell_type": "code",
   "execution_count": 165,
   "id": "071a863f",
   "metadata": {},
   "outputs": [],
   "source": [
    "# Making the Confusion Matrix\n",
    "from sklearn.metrics import confusion_matrix\n",
    "cm = confusion_matrix(y_test, y_pred)"
   ]
  },
  {
   "cell_type": "code",
   "execution_count": 166,
   "id": "be926eb1",
   "metadata": {},
   "outputs": [
    {
     "data": {
      "text/plain": [
       "array([[ 16,  38],\n",
       "       [  5, 571]], dtype=int64)"
      ]
     },
     "execution_count": 166,
     "metadata": {},
     "output_type": "execute_result"
    }
   ],
   "source": [
    "cm"
   ]
  },
  {
   "cell_type": "code",
   "execution_count": 167,
   "id": "2ecf738e",
   "metadata": {},
   "outputs": [
    {
     "name": "stdout",
     "output_type": "stream",
     "text": [
      "F-score: % 96.37130801687763\n"
     ]
    }
   ],
   "source": [
    "from sklearn.metrics import f1_score\n",
    "\n",
    "# Calculate the F-score\n",
    "f_score = f1_score(y_test, y_pred)\n",
    "\n",
    "# Show the score\n",
    "print(\"F-score: %\", f_score*100)\n"
   ]
  },
  {
   "cell_type": "code",
   "execution_count": null,
   "id": "e1053a1a",
   "metadata": {},
   "outputs": [],
   "source": []
  }
 ],
 "metadata": {
  "kernelspec": {
   "display_name": "Python 3 (ipykernel)",
   "language": "python",
   "name": "python3"
  },
  "language_info": {
   "codemirror_mode": {
    "name": "ipython",
    "version": 3
   },
   "file_extension": ".py",
   "mimetype": "text/x-python",
   "name": "python",
   "nbconvert_exporter": "python",
   "pygments_lexer": "ipython3",
   "version": "3.11.4"
  }
 },
 "nbformat": 4,
 "nbformat_minor": 5
}
